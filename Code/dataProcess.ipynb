{
 "cells": [
  {
   "attachments": {},
   "cell_type": "markdown",
   "metadata": {},
   "source": [
    "# NN "
   ]
  },
  {
   "cell_type": "code",
   "execution_count": null,
   "metadata": {},
   "outputs": [],
   "source": [
    "import numpy as np\n",
    "import pandas as pd\n",
    "import matplotlib.pyplot as plt\n",
    "from sklearn.model_selection import train_test_split\n",
    "from scipy import signal"
   ]
  },
  {
   "cell_type": "code",
   "execution_count": null,
   "metadata": {},
   "outputs": [],
   "source": [
    "i_q = np.load(\"../Data/npy/input_array.npy\")\n",
    "state = np.load(\"../Data/npy/output_array.npy\")\n",
    "print(\"Data sample size: {}\\nOutput size: {}\".format(i_q.shape,state.shape))"
   ]
  },
  {
   "cell_type": "code",
   "execution_count": null,
   "metadata": {},
   "outputs": [],
   "source": [
    "mini=i_q[:,:,0].min()\n",
    "maxi=i_q[:,:,0].max()\n",
    "print(\"maximum I value: {}\\nminimum I value: {}\".format(maxi,mini))\n",
    "minq=i_q[:,:,1].min()\n",
    "maxq=i_q[:,:,1].max()\n",
    "print(\"maximum Q value: {}\\nminimum Q value: {}\".format(maxq,minq))\n",
    "\n",
    "i_q[:,:,0]=(i_q[:,:,0]-mini)/(maxi-mini)\n",
    "i_q[:,:,1]=(i_q[:,:,1]-minq)/(maxq-minq)\n",
    "\n",
    "print(\"maximum I value: {}\\nminimum I value: {}\".format(i_q[:,:,0].max(),i_q[:,:,0].min()))\n",
    "print(\"maximum Q value: {}\\nminimum Q value: {}\".format(i_q[:,:,1].max(),i_q[:,:,1].min()))\n"
   ]
  },
  {
   "cell_type": "code",
   "execution_count": null,
   "metadata": {},
   "outputs": [],
   "source": [
    "data=train_test_split(i_q,state,test_size=0.3,random_state=42)\n",
    "(trainData, testData) = data[:2]\n",
    "(trainTargets, testTargets) = data[2:4]"
   ]
  },
  {
   "cell_type": "code",
   "execution_count": null,
   "metadata": {},
   "outputs": [],
   "source": [
    "print(trainData.shape)\n",
    "p_s=pd.DataFrame(state,index=None)\n",
    "print(p_s.sum())"
   ]
  },
  {
   "attachments": {},
   "cell_type": "markdown",
   "metadata": {},
   "source": []
  },
  {
   "cell_type": "code",
   "execution_count": null,
   "metadata": {},
   "outputs": [],
   "source": [
    "np.save('../Data/splitData/trainData.npy',trainData)\n",
    "np.save('../Data/splitData/testData.npy',testData)\n",
    "np.save('../Data/splitData/trainTarget.npy',trainTargets)\n",
    "np.save('../Data/splitData/testTarget.npy',testTargets)"
   ]
  },
  {
   "cell_type": "code",
   "execution_count": null,
   "metadata": {},
   "outputs": [],
   "source": [
    "print(trainTargets[3])"
   ]
  },
  {
   "cell_type": "code",
   "execution_count": null,
   "metadata": {},
   "outputs": [],
   "source": [
    "plt.figure(figsize=(4,3))\n",
    "plt.xlabel('I')\n",
    "plt.ylabel('Q')\n",
    "plt.title(\"Signals\")\n",
    "plt.plot(trainData[1397,:,0], trainData[1397,:,1],label='|0>')\n",
    "plt.plot(trainData[1398,:,0], trainData[1398,:,1],label='|1>')\n",
    "plt.legend(loc='best')\n",
    "plt.show()"
   ]
  },
  {
   "attachments": {},
   "cell_type": "markdown",
   "metadata": {},
   "source": [
    "# RNN"
   ]
  },
  {
   "cell_type": "code",
   "execution_count": 2,
   "metadata": {},
   "outputs": [],
   "source": [
    "import numpy as np\n",
    "import pandas as pd\n",
    "import matplotlib.pyplot as plt\n",
    "from sklearn.model_selection import train_test_split"
   ]
  },
  {
   "cell_type": "code",
   "execution_count": 12,
   "metadata": {},
   "outputs": [
    {
     "name": "stdout",
     "output_type": "stream",
     "text": [
      "Data sample size: (2000, 4096, 2)\n",
      "Output size: (2000, 1)\n"
     ]
    }
   ],
   "source": [
    "i_q = np.load(\"../Data/npy/input_array.npy\")\n",
    "state = np.load(\"../Data/npy/output_array.npy\")\n",
    "print(\"Data sample size: {}\\nOutput size: {}\".format(i_q.shape,state.shape))"
   ]
  },
  {
   "cell_type": "code",
   "execution_count": null,
   "metadata": {},
   "outputs": [],
   "source": [
    "# Change the slide size according to configuration\n",
    "# i_q=i_q[:,3::4,:]\n",
    "i_q_slide=np.zeros(((i_q.shape[0]*1),1000,2))\n",
    "state_slide=np.zeros((state.shape[0]*1,1))\n",
    "print(i_q.shape)\n",
    "count=0\n",
    "for i in range(i_q.shape[0]):\n",
    "    tmp_c=1\n",
    "    sP,eP=800,1800\n",
    "    while tmp_c<=1:\n",
    "        i_q_slide[count]=i_q[i,sP:eP]\n",
    "        sP+=1024\n",
    "        eP+=1024\n",
    "        tmp_c+=1\n",
    "        state_slide[count]=state[i]\n",
    "        count+=1\n",
    "        # print(count,sP,eP,state[i])\n"
   ]
  },
  {
   "cell_type": "code",
   "execution_count": null,
   "metadata": {},
   "outputs": [],
   "source": [
    "mini=i_q_slide[:,:,0].min()\n",
    "maxi=i_q_slide[:,:,0].max()\n",
    "print(\"maximum I value: {}\\nminimum I value: {}\".format(maxi,mini))\n",
    "minq=i_q_slide[:,:,1].min()\n",
    "maxq=i_q_slide[:,:,1].max()\n",
    "print(\"maximum Q value: {}\\nminimum Q value: {}\".format(maxq,minq))\n",
    "\n",
    "i_q_slide[:,:,0]=(i_q_slide[:,:,0]-mini)/(maxi-mini)\n",
    "i_q_slide[:,:,1]=(i_q_slide[:,:,1]-minq)/(maxq-minq)\n",
    "\n",
    "print(\"maximum I value: {}\\nminimum I value: {}\".format(i_q_slide[:,:,0].max(),i_q_slide[:,:,0].min()))\n",
    "print(\"maximum Q value: {}\\nminimum Q value: {}\".format(i_q_slide[:,:,1].max(),i_q_slide[:,:,1].min()))"
   ]
  },
  {
   "cell_type": "code",
   "execution_count": null,
   "metadata": {},
   "outputs": [],
   "source": [
    "data=train_test_split(i_q_slide,state_slide,test_size=0.2,random_state=42)\n",
    "(trainData, testData) = data[:2]\n",
    "(trainTargets, testTargets) = data[2:4]"
   ]
  },
  {
   "cell_type": "code",
   "execution_count": null,
   "metadata": {},
   "outputs": [],
   "source": [
    "print(trainTargets.shape)\n",
    "p_s=pd.DataFrame(trainTargets,index=None)\n",
    "print(p_s,p_s.sum())"
   ]
  },
  {
   "cell_type": "code",
   "execution_count": null,
   "metadata": {},
   "outputs": [],
   "source": [
    "plt.figure(figsize=(4,3))\n",
    "plt.xlabel('I')\n",
    "plt.ylabel('Q')\n",
    "plt.title(\"Signals\")\n",
    "plt.plot(trainData[0,0:7,0], trainData[0,0:7,1],label='|0>')\n",
    "plt.plot(trainData[1,0:7,0], trainData[1,0:7,1],label='|1>')\n",
    "plt.legend(loc='best')\n",
    "plt.show()"
   ]
  },
  {
   "cell_type": "code",
   "execution_count": null,
   "metadata": {},
   "outputs": [],
   "source": [
    "np.save('../Data/rnn_splitData/trainData.npy',trainData)\n",
    "np.save('../Data/rnn_splitData/testData.npy',testData)\n",
    "np.save('../Data/rnn_splitData/trainTarget.npy',trainTargets)\n",
    "np.save('../Data/rnn_splitData/testTarget.npy',testTargets)"
   ]
  },
  {
   "attachments": {},
   "cell_type": "markdown",
   "metadata": {},
   "source": [
    "# Spectrogram CRNN"
   ]
  },
  {
   "cell_type": "code",
   "execution_count": null,
   "metadata": {},
   "outputs": [],
   "source": [
    "from scipy import signal"
   ]
  },
  {
   "cell_type": "code",
   "execution_count": null,
   "metadata": {},
   "outputs": [],
   "source": [
    "spectrogram=np.zeros((i_q_slide.shape[0],129,49,2))\n",
    "state_info=np.zeros((state_slide.shape[0],1))\n",
    "for i in range(i_q_slide.shape[0]):\n",
    "    frequency,time,spectrum1=signal.spectrogram(i_q_slide[i,:,0],nfft=256,fs=500000,window=signal.windows.hamming(256),noverlap=240,mode='magnitude')\n",
    "    frequency,time,spectrum2=signal.spectrogram(i_q_slide[i,:,1],nfft=256,fs=500000,window=signal.windows.hamming(256),noverlap=240,mode='magnitude')\n",
    "    spectrogram[i,:,:,0]=spectrum1\n",
    "    spectrogram[i,:,:,1]=spectrum2\n",
    "    state_info[i]=state_slide[i]"
   ]
  },
  {
   "cell_type": "code",
   "execution_count": null,
   "metadata": {},
   "outputs": [],
   "source": [
    "data=train_test_split(spectrogram,state_info,test_size=0.2,random_state=42)\n",
    "(trainData, testData) = data[:2]\n",
    "(trainTargets, testTargets) = data[2:4]\n",
    "print(trainData.shape)\n",
    "p_s=pd.DataFrame(trainTargets,index=None)\n",
    "print(p_s,p_s.sum())"
   ]
  },
  {
   "cell_type": "code",
   "execution_count": null,
   "metadata": {},
   "outputs": [],
   "source": [
    "np.save('../Data/cnn_splitData/trainData.npy',trainData)\n",
    "np.save('../Data/cnn_splitData/testData.npy',testData)\n",
    "np.save('../Data/cnn_splitData/trainTarget.npy',trainTargets)\n",
    "np.save('../Data/cnn_splitData/testTarget.npy',testTargets)"
   ]
  },
  {
   "cell_type": "code",
   "execution_count": null,
   "metadata": {},
   "outputs": [],
   "source": [
    "plt.pcolormesh(time, frequency, trainData[0,:,:,0], shading='gouraud')\n",
    "plt.ylabel('Frequency [Hz]')\n",
    "plt.xlabel('Time [sec]')\n",
    "plt.title('I compontent of signal for state 0')\n",
    "plt.show()\n",
    "\n",
    "plt.pcolormesh(time, frequency,trainData[1,:,:,0], shading='gouraud')\n",
    "plt.ylabel('Frequency [Hz]')\n",
    "plt.xlabel('Time [sec]')\n",
    "plt.title('I compontent of signal for state 1')\n",
    "plt.show()"
   ]
  },
  {
   "attachments": {},
   "cell_type": "markdown",
   "metadata": {},
   "source": [
    "# New Data"
   ]
  },
  {
   "cell_type": "code",
   "execution_count": 1,
   "metadata": {},
   "outputs": [],
   "source": [
    "import pandas as pd\n",
    "import numpy as np\n",
    "import os\n",
    "import matplotlib.pyplot as plt\n",
    "from sklearn.model_selection import train_test_split"
   ]
  },
  {
   "cell_type": "code",
   "execution_count": 2,
   "metadata": {},
   "outputs": [
    {
     "name": "stdout",
     "output_type": "stream",
     "text": [
      "Data sample size: (60000, 1024, 2)\n",
      "Output size: (60000,)\n"
     ]
    }
   ],
   "source": [
    "i_q = np.load('../Data/readout_ml/ttraj_10000_input_0/arr_0.npy')\n",
    "state = np.load('../Data/readout_ml/ttraj_10000_output_0/arr_0.npy')\n",
    "for i in range(1,3):\n",
    "    pathd='../Data/readout_ml/ttraj_10000_input_'+str(i)+'/arr_0.npy'\n",
    "    paths='../Data/readout_ml/ttraj_10000_output_'+str(i)+'/arr_0.npy'\n",
    "    i_q=np.concatenate((i_q,np.load(pathd)))\n",
    "    state = np.concatenate((state,np.load(paths)))\n",
    "\n",
    "print(\"Data sample size: {}\\nOutput size: {}\".format(i_q.shape,state.shape))"
   ]
  },
  {
   "cell_type": "code",
   "execution_count": 3,
   "metadata": {},
   "outputs": [],
   "source": [
    "i_q_slide=np.zeros(((i_q.shape[0]*1),1024,2))\n",
    "state_slide=np.zeros((state.shape[0]*1,1))\n",
    "count=0\n",
    "for i in range(i_q.shape[0]):\n",
    "    tmp_c=1\n",
    "    sP,eP=0,1024\n",
    "    while tmp_c<=1:\n",
    "        i_q_slide[count]=i_q[i,sP:eP]\n",
    "        sP+=256\n",
    "        eP+=256\n",
    "        tmp_c+=1\n",
    "        state_slide[count]=state[i]\n",
    "        count+=1\n",
    "        # print(count,sP,eP,state[i])"
   ]
  },
  {
   "cell_type": "code",
   "execution_count": 4,
   "metadata": {},
   "outputs": [
    {
     "name": "stdout",
     "output_type": "stream",
     "text": [
      "maximum I value: 18215.0\n",
      "minimum I value: -18278.0\n",
      "maximum Q value: 19909.0\n",
      "minimum Q value: -18346.0\n",
      "maximum I value: 1.0\n",
      "minimum I value: 0.0\n",
      "maximum Q value: 1.0\n",
      "minimum Q value: 0.0\n"
     ]
    }
   ],
   "source": [
    "mini=i_q_slide[:,:,0].min()\n",
    "maxi=i_q_slide[:,:,0].max()\n",
    "print(\"maximum I value: {}\\nminimum I value: {}\".format(maxi,mini))\n",
    "minq=i_q_slide[:,:,1].min()\n",
    "maxq=i_q_slide[:,:,1].max()\n",
    "print(\"maximum Q value: {}\\nminimum Q value: {}\".format(maxq,minq))\n",
    "\n",
    "i_q_slide[:,:,0]=(i_q_slide[:,:,0]-mini)/(maxi-mini)\n",
    "i_q_slide[:,:,1]=(i_q_slide[:,:,1]-minq)/(maxq-minq)\n",
    "\n",
    "print(\"maximum I value: {}\\nminimum I value: {}\".format(i_q_slide[:,:,0].max(),i_q_slide[:,:,0].min()))\n",
    "print(\"maximum Q value: {}\\nminimum Q value: {}\".format(i_q_slide[:,:,1].max(),i_q_slide[:,:,1].min()))"
   ]
  },
  {
   "cell_type": "code",
   "execution_count": 5,
   "metadata": {},
   "outputs": [],
   "source": [
    "data=train_test_split(i_q_slide,state_slide,test_size=0.2,random_state=42)\n",
    "(trainData, testData) = data[:2]\n",
    "(trainTargets, testTargets) = data[2:4]"
   ]
  },
  {
   "cell_type": "code",
   "execution_count": 6,
   "metadata": {},
   "outputs": [
    {
     "name": "stdout",
     "output_type": "stream",
     "text": [
      "(48000, 1)\n",
      "         0\n",
      "0      0.0\n",
      "1      1.0\n",
      "2      1.0\n",
      "3      1.0\n",
      "4      1.0\n",
      "...    ...\n",
      "47995  1.0\n",
      "47996  1.0\n",
      "47997  0.0\n",
      "47998  1.0\n",
      "47999  1.0\n",
      "\n",
      "[48000 rows x 1 columns] 0    23949.0\n",
      "dtype: float64\n"
     ]
    }
   ],
   "source": [
    "print(trainTargets.shape)\n",
    "p_s=pd.DataFrame(trainTargets,index=None)\n",
    "print(p_s,p_s.sum())"
   ]
  },
  {
   "cell_type": "code",
   "execution_count": 7,
   "metadata": {},
   "outputs": [
    {
     "data": {
      "image/png": "[encoded data removed]",
      "text/plain": [
       "<Figure size 400x300 with 1 Axes>"
      ]
     },
     "metadata": {},
     "output_type": "display_data"
    }
   ],
   "source": [
    "plt.figure(figsize=(4,3))\n",
    "plt.xlabel('I')\n",
    "plt.ylabel('Q')\n",
    "plt.title(\"Signals\")\n",
    "plt.plot(trainData[0,:,0], trainData[0,0:,1],label='|0>')\n",
    "plt.plot(trainData[1,0:,0], trainData[1,0:,1],label='|1>')\n",
    "plt.legend(loc='best')\n",
    "plt.show()"
   ]
  },
  {
   "cell_type": "code",
   "execution_count": 8,
   "metadata": {},
   "outputs": [],
   "source": [
    "np.save('../Data/new_splitData/trainData.npy',trainData)\n",
    "np.save('../Data/new_splitData/testData.npy',testData)\n",
    "np.save('../Data/new_splitData/trainTarget.npy',trainTargets)\n",
    "np.save('../Data/new_splitData/testTarget.npy',testTargets)"
   ]
  },
  {
   "cell_type": "markdown",
   "metadata": {},
   "source": [
    "# 2 GSPS Data"
   ]
  },
  {
   "cell_type": "code",
   "execution_count": 1,
   "metadata": {},
   "outputs": [],
   "source": [
    "import numpy as np\n",
    "import pandas as pd\n",
    "import matplotlib.pyplot as plt\n",
    "from sklearn.model_selection import train_test_split"
   ]
  },
  {
   "cell_type": "code",
   "execution_count": 2,
   "metadata": {},
   "outputs": [
    {
     "name": "stdout",
     "output_type": "stream",
     "text": [
      "Data sample size: (2000, 16384)\n",
      "Output size: (2000, 1)\n"
     ]
    }
   ],
   "source": [
    "x1 = np.load(\"../Data/hd_data/test_decimator0_state0/arr_0.npy\")\n",
    "y1 = np.zeros((x1.shape[0],1),dtype=int)\n",
    "x2 = np.load(\"../Data/hd_data/test_decimator0_state1/arr_0.npy\")\n",
    "y2 = np.ones((x1.shape[0],1),dtype=int)\n",
    "i_q=np.concatenate((x1,x2),axis=0)\n",
    "state=np.concatenate((y1,y2),axis=0)\n",
    "print(\"Data sample size: {}\\nOutput size: {}\".format(i_q.shape,state.shape))"
   ]
  },
  {
   "cell_type": "code",
   "execution_count": 8,
   "metadata": {},
   "outputs": [
    {
     "name": "stdout",
     "output_type": "stream",
     "text": [
      "(2000, 16384) \n",
      " (2000, 3000)\n"
     ]
    }
   ],
   "source": [
    "i_q_slide=np.zeros(((i_q.shape[0]*1),3000))\n",
    "state_slide=np.zeros((state.shape[0]*1,1))\n",
    "print(i_q.shape,\"\\n\", i_q_slide.shape)\n",
    "count=0\n",
    "for i in range(i_q.shape[0]):\n",
    "    tmp_c=1\n",
    "    sP,eP=1400,4400\n",
    "    while tmp_c<=1:\n",
    "        i_q_slide[count]=i_q[i,sP:eP]\n",
    "        sP+=1024\n",
    "        eP+=1024\n",
    "        tmp_c+=1\n",
    "        state_slide[count]=state[i]\n",
    "        count+=1\n",
    "        # print(count,sP,eP,state[i])"
   ]
  },
  {
   "cell_type": "code",
   "execution_count": 9,
   "metadata": {},
   "outputs": [
    {
     "name": "stdout",
     "output_type": "stream",
     "text": [
      "maximum I value: 10968.0\n",
      "minimum I value: -9356.0\n",
      "maximum I value: 1.0\n",
      "minimum I value: 0.0\n"
     ]
    }
   ],
   "source": [
    "mini=i_q_slide.min()\n",
    "maxi=i_q_slide.max()\n",
    "print(\"maximum I value: {}\\nminimum I value: {}\".format(maxi,mini))\n",
    "i_q_slide=(i_q_slide-mini)/(maxi-mini)\n",
    "print(\"maximum I value: {}\\nminimum I value: {}\".format(i_q_slide.max(),i_q_slide.min()))\n"
   ]
  },
  {
   "cell_type": "code",
   "execution_count": 10,
   "metadata": {},
   "outputs": [
    {
     "name": "stdout",
     "output_type": "stream",
     "text": [
      "(1600, 1)\n",
      "        0\n",
      "0     0.0\n",
      "1     0.0\n",
      "2     0.0\n",
      "3     0.0\n",
      "4     0.0\n",
      "...   ...\n",
      "1595  1.0\n",
      "1596  1.0\n",
      "1597  0.0\n",
      "1598  1.0\n",
      "1599  1.0\n",
      "\n",
      "[1600 rows x 1 columns] 0    799.0\n",
      "dtype: float64\n"
     ]
    }
   ],
   "source": [
    "data=train_test_split(i_q_slide,state_slide,test_size=0.2,random_state=42)\n",
    "(trainData, testData) = data[:2]\n",
    "(trainTargets, testTargets) = data[2:4]\n",
    "print(trainTargets.shape)\n",
    "p_s=pd.DataFrame(trainTargets,index=None)\n",
    "print(p_s,p_s.sum())"
   ]
  },
  {
   "cell_type": "code",
   "execution_count": 6,
   "metadata": {},
   "outputs": [
    {
     "name": "stdout",
     "output_type": "stream",
     "text": [
      "[0.522, 44.008, 54.6, 36.064, -123.808, -37.764, -59.68, -13.1]\n"
     ]
    }
   ],
   "source": [
    "l=[]\n",
    "l.append(np.sum(i_q[4,0:1000])/1000)\n",
    "l.append(np.sum(i_q[4,1000:2000])/1000)\n",
    "l.append(np.sum(i_q[4,2000:3000])/1000)\n",
    "l.append(np.sum(i_q[4,3000:4000])/1000)\n",
    "l.append(np.sum(i_q[4,4000:5000])/1000)\n",
    "l.append(np.sum(i_q[4,5000:6000])/1000)\n",
    "l.append(np.sum(i_q[4,6000:7000])/1000)\n",
    "l.append(np.sum(i_q[4,7000:8000])/1000)\n",
    "print(l)\n"
   ]
  },
  {
   "cell_type": "code",
   "execution_count": 11,
   "metadata": {},
   "outputs": [],
   "source": [
    "np.save('../Data/julyData/trainData.npy',trainData)\n",
    "np.save('../Data/julyData/testData.npy',testData)\n",
    "np.save('../Data/julyData/trainTarget.npy',trainTargets)\n",
    "np.save('../Data/julyData/testTarget.npy',testTargets)"
   ]
  },
  {
   "cell_type": "code",
   "execution_count": null,
   "metadata": {},
   "outputs": [],
   "source": []
  }
 ],
 "metadata": {
  "kernelspec": {
   "display_name": "readout",
   "language": "python",
   "name": "readout"
  },
  "language_info": {
   "codemirror_mode": {
    "name": "ipython",
    "version": 3
   },
   "file_extension": ".py",
   "mimetype": "text/x-python",
   "name": "python",
   "nbconvert_exporter": "python",
   "pygments_lexer": "ipython3",
   "version": "3.8.10"
  },
  "orig_nbformat": 4
 },
 "nbformat": 4,
 "nbformat_minor": 2
}
