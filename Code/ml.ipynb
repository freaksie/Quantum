{
 "cells": [
  {
   "cell_type": "code",
   "execution_count": 24,
   "metadata": {
    "tags": []
   },
   "outputs": [],
   "source": [
    "import numpy as np\n",
    "import pandas as pd\n",
    "import matplotlib.pyplot as plt\n",
    "from sklearn.svm import SVC\n",
    "from sklearn.decomposition import PCA\n",
    "from sklearn.preprocessing import StandardScaler\n",
    "from sklearn.linear_model import LogisticRegression\n",
    "from sklearn.mixture import GaussianMixture\n",
    "from sklearn.metrics import accuracy_score\n",
    "from sklearn.model_selection import train_test_split\n",
    "\n",
    "\n",
    "import tensorflow as tf\n",
    "from keras.models import Sequential,load_model\n",
    "from keras import layers,Input\n",
    "from keras.losses import binary_crossentropy\n",
    "from keras.layers import Dense, Dropout\n",
    "from keras.optimizers import SGD\n",
    "from keras.callbacks import ModelCheckpoint\n",
    "from keras.regularizers import L1L2\n",
    "import keras.backend as K"
   ]
  },
  {
   "cell_type": "code",
   "execution_count": 2,
   "metadata": {
    "tags": []
   },
   "outputs": [
    {
     "name": "stdout",
     "output_type": "stream",
     "text": [
      "Num GPUs Available:  0\n"
     ]
    },
    {
     "name": "stderr",
     "output_type": "stream",
     "text": [
      "2023-10-12 18:02:15.085932: W tensorflow/core/common_runtime/gpu/gpu_device.cc:1960] Cannot dlopen some GPU libraries. Please make sure the missing libraries mentioned above are installed properly if you would like to use GPU. Follow the guide at https://www.tensorflow.org/install/gpu for how to download and setup the required libraries for your platform.\n",
      "Skipping registering GPU devices...\n"
     ]
    }
   ],
   "source": [
    "print(\"Num GPUs Available: \", len(tf.config.list_physical_devices('GPU')))"
   ]
  },
  {
   "cell_type": "code",
   "execution_count": 30,
   "metadata": {},
   "outputs": [
    {
     "name": "stdout",
     "output_type": "stream",
     "text": [
      "(2, 10, 2)\n",
      "[[[ 1 11]\n",
      "  [ 2 12]\n",
      "  [ 3 13]\n",
      "  [ 4 14]\n",
      "  [ 5 15]\n",
      "  [ 6 16]\n",
      "  [ 7 17]\n",
      "  [ 8 18]\n",
      "  [ 9 19]\n",
      "  [10 20]]\n",
      "\n",
      " [[ 1 11]\n",
      "  [ 2 12]\n",
      "  [ 3 13]\n",
      "  [ 4 14]\n",
      "  [ 5 15]\n",
      "  [ 6 16]\n",
      "  [ 7 17]\n",
      "  [ 8 18]\n",
      "  [ 9 19]\n",
      "  [10 20]]]\n",
      "[[[ 1 11  2 12]\n",
      "  [ 3 13  4 14]\n",
      "  [ 5 15  6 16]\n",
      "  [ 7 17  8 18]\n",
      "  [ 9 19 10 20]]\n",
      "\n",
      " [[ 1 11  2 12]\n",
      "  [ 3 13  4 14]\n",
      "  [ 5 15  6 16]\n",
      "  [ 7 17  8 18]\n",
      "  [ 9 19 10 20]]]\n",
      "[[[ 1 11]\n",
      "  [ 2 12]\n",
      "  [ 3 13]\n",
      "  [ 4 14]\n",
      "  [ 5 15]\n",
      "  [ 6 16]\n",
      "  [ 7 17]\n",
      "  [ 8 18]\n",
      "  [ 9 19]\n",
      "  [10 20]]\n",
      "\n",
      " [[ 1 11]\n",
      "  [ 2 12]\n",
      "  [ 3 13]\n",
      "  [ 4 14]\n",
      "  [ 5 15]\n",
      "  [ 6 16]\n",
      "  [ 7 17]\n",
      "  [ 8 18]\n",
      "  [ 9 19]\n",
      "  [10 20]]]\n"
     ]
    }
   ],
   "source": [
    "arry=np.array([[[1,11],[2,12],[3,13],[4,14],[5,15],[6,16],[7,17],[8,18],[9,19],[10,20]],[[1,11],[2,12],[3,13],[4,14],[5,15],[6,16],[7,17],[8,18],[9,19],[10,20]]])\n",
    "# arry=np.array([[[1,2,3,4,5,6,7,8,9,10],[11,12,13,14,15,16,17,18,19,20]],[[1,2,3,4,5,6,7,8,9,10],[11,12,13,14,15,16,17,18,19,20]]])\n",
    "print(arry.shape)\n",
    "print(arry)\n",
    "print(arry.reshape((2,5,4)))"
   ]
  },
  {
   "cell_type": "code",
   "execution_count": 25,
   "metadata": {
    "tags": []
   },
   "outputs": [
    {
     "name": "stdout",
     "output_type": "stream",
     "text": [
      "(1000, 8192, 2)\n"
     ]
    }
   ],
   "source": [
    "state0=np.load('../Data/new/2gsps/state0.npy')\n",
    "state1=np.load('../Data/new/2gsps/state1.npy')\n",
    "output0=np.zeros((state0.shape[0]))\n",
    "output1=np.ones((state1.shape[0]))\n",
    "print(state0.shape)"
   ]
  },
  {
   "cell_type": "code",
   "execution_count": 26,
   "metadata": {
    "tags": []
   },
   "outputs": [
    {
     "name": "stdout",
     "output_type": "stream",
     "text": [
      "(2000, 8192, 2)\n",
      "(2000,)\n"
     ]
    }
   ],
   "source": [
    "x=np.vstack((state0,state1))\n",
    "print(x.shape)\n",
    "y=np.hstack((output0,output1))\n",
    "print(y.shape)"
   ]
  },
  {
   "cell_type": "code",
   "execution_count": 37,
   "metadata": {
    "tags": []
   },
   "outputs": [
    {
     "name": "stdout",
     "output_type": "stream",
     "text": [
      "(1400, 2000, 2)\n",
      "704.0\n",
      "(1400, 2)\n"
     ]
    }
   ],
   "source": [
    "\n",
    "st,ed=700,2700\n",
    "x_train, x_test, y_train, y_test = train_test_split(x[:,st:ed,:], y, test_size=0.30, random_state=45)\n",
    "print(x_train.shape)\n",
    "print(y_train.sum())\n",
    "\n",
    "x_train=np.mean(x_train,axis=1)\n",
    "x_test=np.mean(x_test,axis=1)\n",
    "\n",
    "# x_train=x_train.reshape((x_train.shape[0],x_train.shape[1]*2))\n",
    "# x_test=x_test.reshape((x_test.shape[0],x_test.shape[1]*2))\n",
    "print(x_train.shape)"
   ]
  },
  {
   "cell_type": "markdown",
   "metadata": {},
   "source": [
    "## Logistic Regression"
   ]
  },
  {
   "cell_type": "code",
   "execution_count": 33,
   "metadata": {},
   "outputs": [
    {
     "name": "stdout",
     "output_type": "stream",
     "text": [
      "0.9366666666666666\n"
     ]
    }
   ],
   "source": [
    "# x_trainC=x_train.reshape((x_train.shape[0],x_train.shape[1]*2))\n",
    "# x_testC=x_test.reshape((x_test.shape[0],x_test.shape[1]*2))\n",
    "classifier = LogisticRegression(random_state = 42, max_iter=500)\n",
    "classifier.fit(x_train, y_train)\n",
    "print(classifier.score(x_test,y_test))\n",
    "pred = classifier.predict(x_test)"
   ]
  },
  {
   "cell_type": "markdown",
   "metadata": {},
   "source": [
    "## SVM"
   ]
  },
  {
   "cell_type": "code",
   "execution_count": 34,
   "metadata": {},
   "outputs": [
    {
     "name": "stdout",
     "output_type": "stream",
     "text": [
      "0.9383333333333334\n"
     ]
    }
   ],
   "source": [
    "model=SVC(decision_function_shape='ovo')\n",
    "model.fit(x_train,y_train)\n",
    "print(model.score(x_test,y_test))"
   ]
  },
  {
   "cell_type": "markdown",
   "metadata": {},
   "source": [
    "## GMM"
   ]
  },
  {
   "cell_type": "code",
   "execution_count": 36,
   "metadata": {},
   "outputs": [
    {
     "name": "stdout",
     "output_type": "stream",
     "text": [
      "P(0|0)= 0.933\n",
      "P(1|1)= 0.931\n"
     ]
    }
   ],
   "source": [
    "Y=list(zip(np.append(np.mean(state0[:,st:ed,0],axis=1),np.mean(state1[:,st:ed,0],axis=1)),np.append(np.mean(state0[:,st:ed,1],axis=1),np.mean(state1[:,st:ed,1],axis=1))))\n",
    "gmm_Y=GaussianMixture(n_components=2,covariance_type='full').fit(Y)\n",
    "bitstring=np.split(gmm_Y.predict(Y),2)\n",
    "print('P(0|0)=',len(bitstring[0][bitstring[0]==0])/len(bitstring[0]))\n",
    "print('P(1|1)=',len(bitstring[1][bitstring[1]==1])/len(bitstring[1]))\n",
    "X=list(zip(np.mean(state0[:,st:ed,0],axis=1),np.mean(state0[:,st:ed,1],axis=1)))\n",
    "gmm_Y_1=GaussianMixture(n_components=1,covariance_type='spherical').fit(X)\n",
    "X=list(zip(np.mean(state1[:,st:ed,0],axis=1),np.mean(state1[:,st:ed,1],axis=1)))\n",
    "gmm_Y_2=GaussianMixture(n_components=1,covariance_type='spherical').fit(X)"
   ]
  },
  {
   "cell_type": "markdown",
   "metadata": {},
   "source": [
    "## NN"
   ]
  },
  {
   "cell_type": "code",
   "execution_count": 11,
   "metadata": {
    "tags": []
   },
   "outputs": [
    {
     "name": "stdout",
     "output_type": "stream",
     "text": [
      "Model: \"sequential\"\n",
      "_________________________________________________________________\n",
      " Layer (type)                Output Shape              Param #   \n",
      "=================================================================\n",
      " dense (Dense)               (None, 32)                96        \n",
      "                                                                 \n",
      " dropout (Dropout)           (None, 32)                0         \n",
      "                                                                 \n",
      " dense_1 (Dense)             (None, 16)                528       \n",
      "                                                                 \n",
      " dropout_1 (Dropout)         (None, 16)                0         \n",
      "                                                                 \n",
      " dense_2 (Dense)             (None, 1)                 17        \n",
      "                                                                 \n",
      "=================================================================\n",
      "Total params: 641 (2.50 KB)\n",
      "Trainable params: 641 (2.50 KB)\n",
      "Non-trainable params: 0 (0.00 Byte)\n",
      "_________________________________________________________________\n"
     ]
    },
    {
     "name": "stderr",
     "output_type": "stream",
     "text": [
      "2023-10-11 19:25:06.387469: W tensorflow/core/common_runtime/gpu/gpu_device.cc:1960] Cannot dlopen some GPU libraries. Please make sure the missing libraries mentioned above are installed properly if you would like to use GPU. Follow the guide at https://www.tensorflow.org/install/gpu for how to download and setup the required libraries for your platform.\n",
      "Skipping registering GPU devices...\n"
     ]
    }
   ],
   "source": [
    "def arch():\n",
    "    model=Sequential()\n",
    "    model.add(Input(shape=(2)))\n",
    "    model.add(Dense(32,activation='relu'))\n",
    "    model.add(Dropout(0.5))\n",
    "    model.add(Dense(16,activation='relu'))\n",
    "    model.add(Dropout(0.5))\n",
    "    # model.add(Dense(16,activation='relu'))\n",
    "    # # model.add(Dropout(0.8))\n",
    "    # model.add(Dense(16,activation='relu'))\n",
    "    # # model.add(Dropout(0.8))\n",
    "    # model.add(Dense(32,activation='relu'))\n",
    "    # # model.add(Dropout(0.8))\n",
    "    # model.add(Dense(16,activation='relu'))\n",
    "    # # model.add(Dropout(0.8))\n",
    "    # model.add(Dense(4,activation='relu'))\n",
    "    model.add(Dense(1,activation='sigmoid'))\n",
    "    return model\n",
    "arch().summary()"
   ]
  },
  {
   "cell_type": "code",
   "execution_count": 12,
   "metadata": {},
   "outputs": [],
   "source": [
    "def bceloss(y_true, y_pred):\n",
    "    # Clip the prediction value to prevent log(0) error\n",
    "    y_pred = K.clip(y_pred, K.epsilon(), 1 - K.epsilon())\n",
    "    # Calculate the weighted binary cross entropy loss\n",
    "    loss = -(0.1 * (y_true * K.log(y_pred)) + 0.9*((1 - y_true) * K.log(1 - y_pred)))\n",
    "    return K.mean(loss, axis=-1)\n",
    "\n",
    "model=arch()\n",
    "model.summary\n",
    "opt=SGD( learning_rate=0.01, momentum=0.9)\n",
    "model.compile(loss=binary_crossentropy, optimizer='adam', metrics=['accuracy'])\n",
    "model_path=\"../Model/NN2/{epoch:02d}-{val_accuracy:.4f}.h5\"\n",
    "checkpoint = ModelCheckpoint(model_path, monitor='val_accuracy', verbose=1, save_best_only=True, mode='max')\n",
    "callbacks_list = [checkpoint]"
   ]
  },
  {
   "cell_type": "code",
   "execution_count": 13,
   "metadata": {},
   "outputs": [
    {
     "name": "stdout",
     "output_type": "stream",
     "text": [
      "Epoch 1/100\n",
      "523/525 [============================>.] - ETA: 0s - loss: 0.4425 - accuracy: 0.8060\n",
      "Epoch 1: val_accuracy improved from -inf to 0.93194, saving model to ../Model/NN2/01-0.9319.h5\n",
      "525/525 [==============================] - 1s 1ms/step - loss: 0.4418 - accuracy: 0.8065 - val_loss: 0.2078 - val_accuracy: 0.9319\n",
      "Epoch 2/100\n",
      "233/525 [============>.................] - ETA: 0s - loss: 0.2939 - accuracy: 0.9099"
     ]
    },
    {
     "name": "stderr",
     "output_type": "stream",
     "text": [
      "/global/homes/n/nrvora/.conda/envs/readout/lib/python3.8/site-packages/keras/src/engine/training.py:3000: UserWarning: You are saving your model as an HDF5 file via `model.save()`. This file format is considered legacy. We recommend using instead the native Keras format, e.g. `model.save('my_model.keras')`.\n",
      "  saving_api.save_model(\n"
     ]
    },
    {
     "name": "stdout",
     "output_type": "stream",
     "text": [
      "468/525 [=========================>....] - ETA: 0s - loss: 0.2885 - accuracy: 0.9108\n",
      "Epoch 2: val_accuracy improved from 0.93194 to 0.93306, saving model to ../Model/NN2/02-0.9331.h5\n",
      "525/525 [==============================] - 1s 1ms/step - loss: 0.2855 - accuracy: 0.9114 - val_loss: 0.2059 - val_accuracy: 0.9331\n",
      "Epoch 3/100\n",
      "477/525 [==========================>...] - ETA: 0s - loss: 0.2714 - accuracy: 0.9206\n",
      "Epoch 3: val_accuracy did not improve from 0.93306\n",
      "525/525 [==============================] - 1s 957us/step - loss: 0.2716 - accuracy: 0.9214 - val_loss: 0.2067 - val_accuracy: 0.9331\n",
      "Epoch 4/100\n",
      "468/525 [=========================>....] - ETA: 0s - loss: 0.2692 - accuracy: 0.9287\n",
      "Epoch 4: val_accuracy did not improve from 0.93306\n",
      "525/525 [==============================] - 1s 991us/step - loss: 0.2660 - accuracy: 0.9287 - val_loss: 0.2025 - val_accuracy: 0.9328\n",
      "Epoch 5/100\n",
      "457/525 [=========================>....] - ETA: 0s - loss: 0.2601 - accuracy: 0.9297\n",
      "Epoch 5: val_accuracy improved from 0.93306 to 0.93361, saving model to ../Model/NN2/05-0.9336.h5\n",
      "525/525 [==============================] - 1s 988us/step - loss: 0.2627 - accuracy: 0.9295 - val_loss: 0.2019 - val_accuracy: 0.9336\n",
      "Epoch 6/100\n",
      "468/525 [=========================>....] - ETA: 0s - loss: 0.2519 - accuracy: 0.9310\n",
      "Epoch 6: val_accuracy did not improve from 0.93361\n",
      "525/525 [==============================] - 1s 966us/step - loss: 0.2559 - accuracy: 0.9304 - val_loss: 0.1999 - val_accuracy: 0.9331\n",
      "Epoch 7/100\n",
      "489/525 [==========================>...] - ETA: 0s - loss: 0.2546 - accuracy: 0.9294\n",
      "Epoch 7: val_accuracy did not improve from 0.93361\n",
      "525/525 [==============================] - 0s 934us/step - loss: 0.2554 - accuracy: 0.9289 - val_loss: 0.2000 - val_accuracy: 0.9328\n",
      "Epoch 8/100\n",
      "490/525 [===========================>..] - ETA: 0s - loss: 0.2597 - accuracy: 0.9302\n",
      "Epoch 8: val_accuracy improved from 0.93361 to 0.93472, saving model to ../Model/NN2/08-0.9347.h5\n",
      "525/525 [==============================] - 1s 956us/step - loss: 0.2586 - accuracy: 0.9293 - val_loss: 0.1991 - val_accuracy: 0.9347\n",
      "Epoch 9/100\n",
      "494/525 [===========================>..] - ETA: 0s - loss: 0.2567 - accuracy: 0.9294\n",
      "Epoch 9: val_accuracy did not improve from 0.93472\n",
      "525/525 [==============================] - 0s 926us/step - loss: 0.2572 - accuracy: 0.9304 - val_loss: 0.1992 - val_accuracy: 0.9336\n",
      "Epoch 10/100\n",
      "496/525 [===========================>..] - ETA: 0s - loss: 0.2522 - accuracy: 0.9302\n",
      "Epoch 10: val_accuracy improved from 0.93472 to 0.93583, saving model to ../Model/NN2/10-0.9358.h5\n",
      "525/525 [==============================] - 0s 947us/step - loss: 0.2552 - accuracy: 0.9295 - val_loss: 0.2005 - val_accuracy: 0.9358\n",
      "Epoch 11/100\n",
      "496/525 [===========================>..] - ETA: 0s - loss: 0.2516 - accuracy: 0.9308\n",
      "Epoch 11: val_accuracy did not improve from 0.93583\n",
      "525/525 [==============================] - 1s 976us/step - loss: 0.2510 - accuracy: 0.9305 - val_loss: 0.1988 - val_accuracy: 0.9339\n",
      "Epoch 12/100\n",
      "472/525 [=========================>....] - ETA: 0s - loss: 0.2403 - accuracy: 0.9309\n",
      "Epoch 12: val_accuracy did not improve from 0.93583\n",
      "525/525 [==============================] - 1s 991us/step - loss: 0.2405 - accuracy: 0.9308 - val_loss: 0.1983 - val_accuracy: 0.9333\n",
      "Epoch 13/100\n",
      "498/525 [===========================>..] - ETA: 0s - loss: 0.2539 - accuracy: 0.9306\n",
      "Epoch 13: val_accuracy did not improve from 0.93583\n",
      "525/525 [==============================] - 0s 951us/step - loss: 0.2526 - accuracy: 0.9305 - val_loss: 0.1995 - val_accuracy: 0.9342\n",
      "Epoch 14/100\n",
      "466/525 [=========================>....] - ETA: 0s - loss: 0.2429 - accuracy: 0.9299\n",
      "Epoch 14: val_accuracy did not improve from 0.93583\n",
      "525/525 [==============================] - 1s 955us/step - loss: 0.2433 - accuracy: 0.9298 - val_loss: 0.1983 - val_accuracy: 0.9356\n",
      "Epoch 15/100\n",
      "497/525 [===========================>..] - ETA: 0s - loss: 0.2491 - accuracy: 0.9300\n",
      "Epoch 15: val_accuracy did not improve from 0.93583\n",
      "525/525 [==============================] - 0s 945us/step - loss: 0.2476 - accuracy: 0.9300 - val_loss: 0.1990 - val_accuracy: 0.9347\n",
      "Epoch 16/100\n",
      "492/525 [===========================>..] - ETA: 0s - loss: 0.2502 - accuracy: 0.9296\n",
      "Epoch 16: val_accuracy did not improve from 0.93583\n",
      "525/525 [==============================] - 0s 925us/step - loss: 0.2482 - accuracy: 0.9298 - val_loss: 0.1983 - val_accuracy: 0.9336\n",
      "Epoch 17/100\n",
      "497/525 [===========================>..] - ETA: 0s - loss: 0.2424 - accuracy: 0.9310\n",
      "Epoch 17: val_accuracy did not improve from 0.93583\n",
      "525/525 [==============================] - 0s 937us/step - loss: 0.2418 - accuracy: 0.9314 - val_loss: 0.1995 - val_accuracy: 0.9350\n",
      "Epoch 18/100\n",
      "496/525 [===========================>..] - ETA: 0s - loss: 0.2426 - accuracy: 0.9317\n",
      "Epoch 18: val_accuracy did not improve from 0.93583\n",
      "525/525 [==============================] - 0s 922us/step - loss: 0.2395 - accuracy: 0.9323 - val_loss: 0.1980 - val_accuracy: 0.9344\n",
      "Epoch 19/100\n",
      "462/525 [=========================>....] - ETA: 0s - loss: 0.2372 - accuracy: 0.9318\n",
      "Epoch 19: val_accuracy did not improve from 0.93583\n",
      "525/525 [==============================] - 1s 964us/step - loss: 0.2393 - accuracy: 0.9311 - val_loss: 0.1993 - val_accuracy: 0.9342\n",
      "Epoch 20/100\n",
      "460/525 [=========================>....] - ETA: 0s - loss: 0.2436 - accuracy: 0.9298\n",
      "Epoch 20: val_accuracy did not improve from 0.93583\n",
      "525/525 [==============================] - 1s 969us/step - loss: 0.2425 - accuracy: 0.9302 - val_loss: 0.1981 - val_accuracy: 0.9342\n",
      "Epoch 21/100\n",
      "462/525 [=========================>....] - ETA: 0s - loss: 0.2392 - accuracy: 0.9318\n",
      "Epoch 21: val_accuracy did not improve from 0.93583\n",
      "525/525 [==============================] - 1s 961us/step - loss: 0.2381 - accuracy: 0.9313 - val_loss: 0.1997 - val_accuracy: 0.9342\n",
      "Epoch 22/100\n",
      "467/525 [=========================>....] - ETA: 0s - loss: 0.2430 - accuracy: 0.9316\n",
      "Epoch 22: val_accuracy did not improve from 0.93583\n",
      "525/525 [==============================] - 1s 954us/step - loss: 0.2419 - accuracy: 0.9317 - val_loss: 0.1970 - val_accuracy: 0.9347\n",
      "Epoch 23/100\n",
      "486/525 [==========================>...] - ETA: 0s - loss: 0.2434 - accuracy: 0.9309\n",
      "Epoch 23: val_accuracy did not improve from 0.93583\n",
      "525/525 [==============================] - 0s 932us/step - loss: 0.2464 - accuracy: 0.9298 - val_loss: 0.1986 - val_accuracy: 0.9339\n",
      "Epoch 24/100\n",
      "462/525 [=========================>....] - ETA: 0s - loss: 0.2381 - accuracy: 0.9307\n",
      "Epoch 24: val_accuracy did not improve from 0.93583\n",
      "525/525 [==============================] - 1s 967us/step - loss: 0.2374 - accuracy: 0.9312 - val_loss: 0.1977 - val_accuracy: 0.9342\n",
      "Epoch 25/100\n",
      "484/525 [==========================>...] - ETA: 0s - loss: 0.2375 - accuracy: 0.9296\n",
      "Epoch 25: val_accuracy did not improve from 0.93583\n",
      "525/525 [==============================] - 0s 943us/step - loss: 0.2367 - accuracy: 0.9305 - val_loss: 0.1979 - val_accuracy: 0.9350\n",
      "Epoch 26/100\n",
      "467/525 [=========================>....] - ETA: 0s - loss: 0.2416 - accuracy: 0.9301\n",
      "Epoch 26: val_accuracy did not improve from 0.93583\n",
      "525/525 [==============================] - 1s 960us/step - loss: 0.2384 - accuracy: 0.9311 - val_loss: 0.1976 - val_accuracy: 0.9342\n",
      "Epoch 27/100\n",
      "458/525 [=========================>....] - ETA: 0s - loss: 0.2480 - accuracy: 0.9281\n",
      "Epoch 27: val_accuracy did not improve from 0.93583\n",
      "525/525 [==============================] - 1s 984us/step - loss: 0.2438 - accuracy: 0.9296 - val_loss: 0.1971 - val_accuracy: 0.9342\n",
      "Epoch 28/100\n",
      "520/525 [============================>.] - ETA: 0s - loss: 0.2445 - accuracy: 0.9285\n",
      "Epoch 28: val_accuracy did not improve from 0.93583\n",
      "525/525 [==============================] - 1s 1ms/step - loss: 0.2450 - accuracy: 0.9280 - val_loss: 0.1973 - val_accuracy: 0.9344\n",
      "Epoch 29/100\n",
      "464/525 [=========================>....] - ETA: 0s - loss: 0.2430 - accuracy: 0.9306\n",
      "Epoch 29: val_accuracy did not improve from 0.93583\n",
      "525/525 [==============================] - 0s 950us/step - loss: 0.2415 - accuracy: 0.9311 - val_loss: 0.1976 - val_accuracy: 0.9339\n",
      "Epoch 30/100\n",
      "463/525 [=========================>....] - ETA: 0s - loss: 0.2443 - accuracy: 0.9291\n",
      "Epoch 30: val_accuracy did not improve from 0.93583\n",
      "525/525 [==============================] - 1s 963us/step - loss: 0.2392 - accuracy: 0.9313 - val_loss: 0.1979 - val_accuracy: 0.9331\n",
      "Epoch 31/100\n",
      "469/525 [=========================>....] - ETA: 0s - loss: 0.2457 - accuracy: 0.9284\n",
      "Epoch 31: val_accuracy did not improve from 0.93583\n",
      "525/525 [==============================] - 1s 962us/step - loss: 0.2404 - accuracy: 0.9295 - val_loss: 0.1978 - val_accuracy: 0.9344\n",
      "Epoch 32/100\n",
      "465/525 [=========================>....] - ETA: 0s - loss: 0.2365 - accuracy: 0.9304\n",
      "Epoch 32: val_accuracy did not improve from 0.93583\n",
      "525/525 [==============================] - 1s 962us/step - loss: 0.2397 - accuracy: 0.9305 - val_loss: 0.1966 - val_accuracy: 0.9339\n",
      "Epoch 33/100\n",
      "462/525 [=========================>....] - ETA: 0s - loss: 0.2346 - accuracy: 0.9288\n",
      "Epoch 33: val_accuracy did not improve from 0.93583\n",
      "525/525 [==============================] - 1s 961us/step - loss: 0.2358 - accuracy: 0.9287 - val_loss: 0.1984 - val_accuracy: 0.9333\n",
      "Epoch 34/100\n",
      "466/525 [=========================>....] - ETA: 0s - loss: 0.2428 - accuracy: 0.9295\n",
      "Epoch 34: val_accuracy did not improve from 0.93583\n",
      "525/525 [==============================] - 1s 981us/step - loss: 0.2415 - accuracy: 0.9294 - val_loss: 0.1972 - val_accuracy: 0.9342\n",
      "Epoch 35/100\n",
      "461/525 [=========================>....] - ETA: 0s - loss: 0.2442 - accuracy: 0.9303\n",
      "Epoch 35: val_accuracy did not improve from 0.93583\n",
      "525/525 [==============================] - 1s 957us/step - loss: 0.2405 - accuracy: 0.9313 - val_loss: 0.1974 - val_accuracy: 0.9331\n",
      "Epoch 36/100\n",
      "461/525 [=========================>....] - ETA: 0s - loss: 0.2467 - accuracy: 0.9298\n",
      "Epoch 36: val_accuracy did not improve from 0.93583\n",
      "525/525 [==============================] - 1s 963us/step - loss: 0.2403 - accuracy: 0.9311 - val_loss: 0.1967 - val_accuracy: 0.9336\n",
      "Epoch 37/100\n",
      "510/525 [============================>.] - ETA: 0s - loss: 0.2383 - accuracy: 0.9308\n",
      "Epoch 37: val_accuracy did not improve from 0.93583\n",
      "525/525 [==============================] - 1s 1ms/step - loss: 0.2392 - accuracy: 0.9304 - val_loss: 0.1964 - val_accuracy: 0.9342\n",
      "Epoch 38/100\n",
      "449/525 [========================>.....] - ETA: 0s - loss: 0.2424 - accuracy: 0.9283\n",
      "Epoch 38: val_accuracy did not improve from 0.93583\n",
      "525/525 [==============================] - 1s 978us/step - loss: 0.2387 - accuracy: 0.9293 - val_loss: 0.1961 - val_accuracy: 0.9342\n",
      "Epoch 39/100\n",
      "459/525 [=========================>....] - ETA: 0s - loss: 0.2310 - accuracy: 0.9300\n",
      "Epoch 39: val_accuracy did not improve from 0.93583\n",
      "525/525 [==============================] - 1s 968us/step - loss: 0.2329 - accuracy: 0.9307 - val_loss: 0.1990 - val_accuracy: 0.9342\n",
      "Epoch 40/100\n",
      "460/525 [=========================>....] - ETA: 0s - loss: 0.2377 - accuracy: 0.9311\n",
      "Epoch 40: val_accuracy did not improve from 0.93583\n",
      "525/525 [==============================] - 1s 984us/step - loss: 0.2365 - accuracy: 0.9314 - val_loss: 0.1987 - val_accuracy: 0.9342\n",
      "Epoch 41/100\n",
      "480/525 [==========================>...] - ETA: 0s - loss: 0.2424 - accuracy: 0.9299\n",
      "Epoch 41: val_accuracy did not improve from 0.93583\n",
      "525/525 [==============================] - 0s 931us/step - loss: 0.2407 - accuracy: 0.9302 - val_loss: 0.1968 - val_accuracy: 0.9339\n",
      "Epoch 42/100\n",
      "482/525 [==========================>...] - ETA: 0s - loss: 0.2308 - accuracy: 0.9306\n",
      "Epoch 42: val_accuracy did not improve from 0.93583\n",
      "525/525 [==============================] - 0s 938us/step - loss: 0.2317 - accuracy: 0.9307 - val_loss: 0.1976 - val_accuracy: 0.9339\n",
      "Epoch 43/100\n",
      "514/525 [============================>.] - ETA: 0s - loss: 0.2403 - accuracy: 0.9294\n",
      "Epoch 43: val_accuracy did not improve from 0.93583\n",
      "525/525 [==============================] - 1s 1ms/step - loss: 0.2408 - accuracy: 0.9293 - val_loss: 0.1966 - val_accuracy: 0.9331\n",
      "Epoch 44/100\n",
      "517/525 [============================>.] - ETA: 0s - loss: 0.2357 - accuracy: 0.9319\n",
      "Epoch 44: val_accuracy did not improve from 0.93583\n",
      "525/525 [==============================] - 1s 1ms/step - loss: 0.2351 - accuracy: 0.9320 - val_loss: 0.1970 - val_accuracy: 0.9336\n",
      "Epoch 45/100\n",
      "479/525 [==========================>...] - ETA: 0s - loss: 0.2393 - accuracy: 0.9282\n",
      "Epoch 45: val_accuracy did not improve from 0.93583\n",
      "525/525 [==============================] - 0s 944us/step - loss: 0.2370 - accuracy: 0.9294 - val_loss: 0.1977 - val_accuracy: 0.9339\n",
      "Epoch 46/100\n",
      "470/525 [=========================>....] - ETA: 0s - loss: 0.2393 - accuracy: 0.9289\n",
      "Epoch 46: val_accuracy did not improve from 0.93583\n",
      "525/525 [==============================] - 1s 978us/step - loss: 0.2381 - accuracy: 0.9299 - val_loss: 0.1966 - val_accuracy: 0.9342\n",
      "Epoch 47/100\n",
      "461/525 [=========================>....] - ETA: 0s - loss: 0.2343 - accuracy: 0.9318\n",
      "Epoch 47: val_accuracy did not improve from 0.93583\n",
      "525/525 [==============================] - 1s 998us/step - loss: 0.2372 - accuracy: 0.9302 - val_loss: 0.1967 - val_accuracy: 0.9322\n",
      "Epoch 48/100\n",
      "457/525 [=========================>....] - ETA: 0s - loss: 0.2392 - accuracy: 0.9283\n",
      "Epoch 48: val_accuracy did not improve from 0.93583\n",
      "525/525 [==============================] - 1s 980us/step - loss: 0.2341 - accuracy: 0.9299 - val_loss: 0.1969 - val_accuracy: 0.9331\n",
      "Epoch 49/100\n",
      "460/525 [=========================>....] - ETA: 0s - loss: 0.2394 - accuracy: 0.9307\n",
      "Epoch 49: val_accuracy did not improve from 0.93583\n",
      "525/525 [==============================] - 1s 968us/step - loss: 0.2367 - accuracy: 0.9317 - val_loss: 0.1985 - val_accuracy: 0.9339\n",
      "Epoch 50/100\n",
      "470/525 [=========================>....] - ETA: 0s - loss: 0.2386 - accuracy: 0.9299\n",
      "Epoch 50: val_accuracy did not improve from 0.93583\n",
      "525/525 [==============================] - 1s 965us/step - loss: 0.2368 - accuracy: 0.9304 - val_loss: 0.1968 - val_accuracy: 0.9342\n",
      "Epoch 51/100\n",
      "472/525 [=========================>....] - ETA: 0s - loss: 0.2404 - accuracy: 0.9266\n",
      "Epoch 51: val_accuracy did not improve from 0.93583\n",
      "525/525 [==============================] - 1s 953us/step - loss: 0.2380 - accuracy: 0.9280 - val_loss: 0.1961 - val_accuracy: 0.9347\n",
      "Epoch 52/100\n",
      "461/525 [=========================>....] - ETA: 0s - loss: 0.2305 - accuracy: 0.9322\n",
      "Epoch 52: val_accuracy did not improve from 0.93583\n",
      "525/525 [==============================] - 1s 966us/step - loss: 0.2308 - accuracy: 0.9306 - val_loss: 0.2001 - val_accuracy: 0.9322\n",
      "Epoch 53/100\n",
      "466/525 [=========================>....] - ETA: 0s - loss: 0.2306 - accuracy: 0.9297\n",
      "Epoch 53: val_accuracy did not improve from 0.93583\n",
      "525/525 [==============================] - 1s 967us/step - loss: 0.2356 - accuracy: 0.9293 - val_loss: 0.1977 - val_accuracy: 0.9325\n",
      "Epoch 54/100\n",
      "477/525 [==========================>...] - ETA: 0s - loss: 0.2416 - accuracy: 0.9285\n",
      "Epoch 54: val_accuracy did not improve from 0.93583\n",
      "525/525 [==============================] - 0s 947us/step - loss: 0.2381 - accuracy: 0.9296 - val_loss: 0.1971 - val_accuracy: 0.9344\n",
      "Epoch 55/100\n",
      "460/525 [=========================>....] - ETA: 0s - loss: 0.2289 - accuracy: 0.9299\n",
      "Epoch 55: val_accuracy did not improve from 0.93583\n",
      "525/525 [==============================] - 1s 973us/step - loss: 0.2332 - accuracy: 0.9293 - val_loss: 0.1964 - val_accuracy: 0.9336\n",
      "Epoch 56/100\n",
      "477/525 [==========================>...] - ETA: 0s - loss: 0.2353 - accuracy: 0.9287\n",
      "Epoch 56: val_accuracy did not improve from 0.93583\n",
      "525/525 [==============================] - 0s 943us/step - loss: 0.2368 - accuracy: 0.9285 - val_loss: 0.1984 - val_accuracy: 0.9333\n",
      "Epoch 57/100\n",
      "476/525 [==========================>...] - ETA: 0s - loss: 0.2380 - accuracy: 0.9282\n",
      "Epoch 57: val_accuracy did not improve from 0.93583\n",
      "525/525 [==============================] - 0s 943us/step - loss: 0.2381 - accuracy: 0.9290 - val_loss: 0.1964 - val_accuracy: 0.9339\n",
      "Epoch 58/100\n",
      "491/525 [===========================>..] - ETA: 0s - loss: 0.2377 - accuracy: 0.9277\n",
      "Epoch 58: val_accuracy did not improve from 0.93583\n",
      "525/525 [==============================] - 0s 918us/step - loss: 0.2382 - accuracy: 0.9279 - val_loss: 0.1985 - val_accuracy: 0.9328\n",
      "Epoch 59/100\n",
      "486/525 [==========================>...] - ETA: 0s - loss: 0.2320 - accuracy: 0.9312\n",
      "Epoch 59: val_accuracy did not improve from 0.93583\n",
      "525/525 [==============================] - 0s 935us/step - loss: 0.2319 - accuracy: 0.9314 - val_loss: 0.1984 - val_accuracy: 0.9328\n",
      "Epoch 60/100\n",
      "485/525 [==========================>...] - ETA: 0s - loss: 0.2347 - accuracy: 0.9321\n",
      "Epoch 60: val_accuracy did not improve from 0.93583\n",
      "525/525 [==============================] - 0s 937us/step - loss: 0.2375 - accuracy: 0.9310 - val_loss: 0.1976 - val_accuracy: 0.9342\n",
      "Epoch 61/100\n",
      "484/525 [==========================>...] - ETA: 0s - loss: 0.2325 - accuracy: 0.9298\n",
      "Epoch 61: val_accuracy did not improve from 0.93583\n",
      "525/525 [==============================] - 0s 932us/step - loss: 0.2355 - accuracy: 0.9305 - val_loss: 0.1967 - val_accuracy: 0.9336\n",
      "Epoch 62/100\n",
      "480/525 [==========================>...] - ETA: 0s - loss: 0.2378 - accuracy: 0.9315\n",
      "Epoch 62: val_accuracy did not improve from 0.93583\n",
      "525/525 [==============================] - 0s 941us/step - loss: 0.2352 - accuracy: 0.9325 - val_loss: 0.1976 - val_accuracy: 0.9342\n",
      "Epoch 63/100\n",
      "480/525 [==========================>...] - ETA: 0s - loss: 0.2367 - accuracy: 0.9312\n",
      "Epoch 63: val_accuracy did not improve from 0.93583\n",
      "525/525 [==============================] - 1s 974us/step - loss: 0.2350 - accuracy: 0.9315 - val_loss: 0.1981 - val_accuracy: 0.9339\n",
      "Epoch 64/100\n",
      "476/525 [==========================>...] - ETA: 0s - loss: 0.2417 - accuracy: 0.9288\n",
      "Epoch 64: val_accuracy did not improve from 0.93583\n",
      "525/525 [==============================] - 0s 952us/step - loss: 0.2402 - accuracy: 0.9295 - val_loss: 0.1968 - val_accuracy: 0.9344\n",
      "Epoch 65/100\n",
      "478/525 [==========================>...] - ETA: 0s - loss: 0.2339 - accuracy: 0.9324\n",
      "Epoch 65: val_accuracy did not improve from 0.93583\n",
      "525/525 [==============================] - 0s 948us/step - loss: 0.2334 - accuracy: 0.9318 - val_loss: 0.1967 - val_accuracy: 0.9325\n",
      "Epoch 66/100\n",
      "478/525 [==========================>...] - ETA: 0s - loss: 0.2360 - accuracy: 0.9291\n",
      "Epoch 66: val_accuracy did not improve from 0.93583\n",
      "525/525 [==============================] - 1s 975us/step - loss: 0.2367 - accuracy: 0.9288 - val_loss: 0.1975 - val_accuracy: 0.9331\n",
      "Epoch 67/100\n",
      "476/525 [==========================>...] - ETA: 0s - loss: 0.2362 - accuracy: 0.9282\n",
      "Epoch 67: val_accuracy did not improve from 0.93583\n",
      "525/525 [==============================] - 1s 970us/step - loss: 0.2343 - accuracy: 0.9287 - val_loss: 0.1978 - val_accuracy: 0.9331\n",
      "Epoch 68/100\n",
      "479/525 [==========================>...] - ETA: 0s - loss: 0.2350 - accuracy: 0.9305\n",
      "Epoch 68: val_accuracy did not improve from 0.93583\n",
      "525/525 [==============================] - 0s 945us/step - loss: 0.2354 - accuracy: 0.9304 - val_loss: 0.1978 - val_accuracy: 0.9347\n",
      "Epoch 69/100\n",
      "483/525 [==========================>...] - ETA: 0s - loss: 0.2470 - accuracy: 0.9283\n",
      "Epoch 69: val_accuracy did not improve from 0.93583\n",
      "525/525 [==============================] - 1s 973us/step - loss: 0.2410 - accuracy: 0.9308 - val_loss: 0.1967 - val_accuracy: 0.9336\n",
      "Epoch 70/100\n",
      "484/525 [==========================>...] - ETA: 0s - loss: 0.2367 - accuracy: 0.9316\n",
      "Epoch 70: val_accuracy did not improve from 0.93583\n",
      "525/525 [==============================] - 0s 936us/step - loss: 0.2361 - accuracy: 0.9318 - val_loss: 0.1967 - val_accuracy: 0.9342\n",
      "Epoch 71/100\n",
      "486/525 [==========================>...] - ETA: 0s - loss: 0.2365 - accuracy: 0.9309\n",
      "Epoch 71: val_accuracy did not improve from 0.93583\n",
      "525/525 [==============================] - 0s 933us/step - loss: 0.2396 - accuracy: 0.9304 - val_loss: 0.1966 - val_accuracy: 0.9339\n",
      "Epoch 72/100\n",
      "483/525 [==========================>...] - ETA: 0s - loss: 0.2314 - accuracy: 0.9325\n",
      "Epoch 72: val_accuracy did not improve from 0.93583\n",
      "525/525 [==============================] - 1s 955us/step - loss: 0.2337 - accuracy: 0.9317 - val_loss: 0.1974 - val_accuracy: 0.9344\n",
      "Epoch 73/100\n",
      "486/525 [==========================>...] - ETA: 0s - loss: 0.2302 - accuracy: 0.9307\n",
      "Epoch 73: val_accuracy did not improve from 0.93583\n",
      "525/525 [==============================] - 1s 959us/step - loss: 0.2325 - accuracy: 0.9300 - val_loss: 0.1959 - val_accuracy: 0.9331\n",
      "Epoch 74/100\n",
      "487/525 [==========================>...] - ETA: 0s - loss: 0.2331 - accuracy: 0.9298\n",
      "Epoch 74: val_accuracy did not improve from 0.93583\n",
      "525/525 [==============================] - 0s 934us/step - loss: 0.2325 - accuracy: 0.9298 - val_loss: 0.1986 - val_accuracy: 0.9336\n",
      "Epoch 75/100\n",
      "485/525 [==========================>...] - ETA: 0s - loss: 0.2335 - accuracy: 0.9296\n",
      "Epoch 75: val_accuracy did not improve from 0.93583\n",
      "525/525 [==============================] - 0s 943us/step - loss: 0.2326 - accuracy: 0.9307 - val_loss: 0.1953 - val_accuracy: 0.9333\n",
      "Epoch 76/100\n",
      "482/525 [==========================>...] - ETA: 0s - loss: 0.2334 - accuracy: 0.9311\n",
      "Epoch 76: val_accuracy did not improve from 0.93583\n",
      "525/525 [==============================] - 0s 939us/step - loss: 0.2347 - accuracy: 0.9310 - val_loss: 0.1969 - val_accuracy: 0.9339\n",
      "Epoch 77/100\n",
      "481/525 [==========================>...] - ETA: 0s - loss: 0.2344 - accuracy: 0.9272\n",
      "Epoch 77: val_accuracy did not improve from 0.93583\n",
      "525/525 [==============================] - 1s 952us/step - loss: 0.2324 - accuracy: 0.9285 - val_loss: 0.1964 - val_accuracy: 0.9342\n",
      "Epoch 78/100\n",
      "480/525 [==========================>...] - ETA: 0s - loss: 0.2367 - accuracy: 0.9284\n",
      "Epoch 78: val_accuracy did not improve from 0.93583\n",
      "525/525 [==============================] - 0s 946us/step - loss: 0.2338 - accuracy: 0.9290 - val_loss: 0.1982 - val_accuracy: 0.9339\n",
      "Epoch 79/100\n",
      "481/525 [==========================>...] - ETA: 0s - loss: 0.2327 - accuracy: 0.9317\n",
      "Epoch 79: val_accuracy did not improve from 0.93583\n",
      "525/525 [==============================] - 0s 938us/step - loss: 0.2329 - accuracy: 0.9320 - val_loss: 0.1983 - val_accuracy: 0.9333\n",
      "Epoch 80/100\n",
      "478/525 [==========================>...] - ETA: 0s - loss: 0.2393 - accuracy: 0.9278\n",
      "Epoch 80: val_accuracy did not improve from 0.93583\n",
      "525/525 [==============================] - 0s 948us/step - loss: 0.2390 - accuracy: 0.9285 - val_loss: 0.1968 - val_accuracy: 0.9344\n",
      "Epoch 81/100\n",
      "480/525 [==========================>...] - ETA: 0s - loss: 0.2312 - accuracy: 0.9311\n",
      "Epoch 81: val_accuracy did not improve from 0.93583\n",
      "525/525 [==============================] - 0s 943us/step - loss: 0.2322 - accuracy: 0.9311 - val_loss: 0.1968 - val_accuracy: 0.9342\n",
      "Epoch 82/100\n",
      "480/525 [==========================>...] - ETA: 0s - loss: 0.2315 - accuracy: 0.9318\n",
      "Epoch 82: val_accuracy did not improve from 0.93583\n",
      "525/525 [==============================] - 0s 950us/step - loss: 0.2339 - accuracy: 0.9310 - val_loss: 0.1966 - val_accuracy: 0.9344\n",
      "Epoch 83/100\n",
      "480/525 [==========================>...] - ETA: 0s - loss: 0.2309 - accuracy: 0.9310\n",
      "Epoch 83: val_accuracy did not improve from 0.93583\n",
      "525/525 [==============================] - 0s 941us/step - loss: 0.2307 - accuracy: 0.9317 - val_loss: 0.2001 - val_accuracy: 0.9322\n",
      "Epoch 84/100\n",
      "478/525 [==========================>...] - ETA: 0s - loss: 0.2330 - accuracy: 0.9321\n",
      "Epoch 84: val_accuracy did not improve from 0.93583\n",
      "525/525 [==============================] - 0s 946us/step - loss: 0.2357 - accuracy: 0.9299 - val_loss: 0.1966 - val_accuracy: 0.9331\n",
      "Epoch 85/100\n",
      "479/525 [==========================>...] - ETA: 0s - loss: 0.2412 - accuracy: 0.9301\n",
      "Epoch 85: val_accuracy did not improve from 0.93583\n",
      "525/525 [==============================] - 0s 942us/step - loss: 0.2394 - accuracy: 0.9312 - val_loss: 0.1966 - val_accuracy: 0.9333\n",
      "Epoch 86/100\n",
      "480/525 [==========================>...] - ETA: 0s - loss: 0.2340 - accuracy: 0.9301\n",
      "Epoch 86: val_accuracy did not improve from 0.93583\n",
      "525/525 [==============================] - 1s 960us/step - loss: 0.2345 - accuracy: 0.9300 - val_loss: 0.1965 - val_accuracy: 0.9342\n",
      "Epoch 87/100\n",
      "480/525 [==========================>...] - ETA: 0s - loss: 0.2324 - accuracy: 0.9288\n",
      "Epoch 87: val_accuracy did not improve from 0.93583\n",
      "525/525 [==============================] - 0s 941us/step - loss: 0.2350 - accuracy: 0.9271 - val_loss: 0.1992 - val_accuracy: 0.9319\n",
      "Epoch 88/100\n",
      "481/525 [==========================>...] - ETA: 0s - loss: 0.2335 - accuracy: 0.9305\n",
      "Epoch 88: val_accuracy did not improve from 0.93583\n",
      "525/525 [==============================] - 0s 939us/step - loss: 0.2318 - accuracy: 0.9315 - val_loss: 0.1968 - val_accuracy: 0.9333\n",
      "Epoch 89/100\n",
      "478/525 [==========================>...] - ETA: 0s - loss: 0.2387 - accuracy: 0.9278\n",
      "Epoch 89: val_accuracy did not improve from 0.93583\n",
      "525/525 [==============================] - 0s 947us/step - loss: 0.2383 - accuracy: 0.9285 - val_loss: 0.1965 - val_accuracy: 0.9325\n",
      "Epoch 90/100\n",
      "475/525 [==========================>...] - ETA: 0s - loss: 0.2375 - accuracy: 0.9307\n",
      "Epoch 90: val_accuracy did not improve from 0.93583\n",
      "525/525 [==============================] - 1s 975us/step - loss: 0.2369 - accuracy: 0.9307 - val_loss: 0.1975 - val_accuracy: 0.9342\n",
      "Epoch 91/100\n",
      "477/525 [==========================>...] - ETA: 0s - loss: 0.2387 - accuracy: 0.9287\n",
      "Epoch 91: val_accuracy did not improve from 0.93583\n",
      "525/525 [==============================] - 1s 963us/step - loss: 0.2368 - accuracy: 0.9295 - val_loss: 0.1972 - val_accuracy: 0.9336\n",
      "Epoch 92/100\n",
      "477/525 [==========================>...] - ETA: 0s - loss: 0.2295 - accuracy: 0.9320\n",
      "Epoch 92: val_accuracy did not improve from 0.93583\n",
      "525/525 [==============================] - 0s 943us/step - loss: 0.2342 - accuracy: 0.9306 - val_loss: 0.2012 - val_accuracy: 0.9333\n",
      "Epoch 93/100\n",
      "478/525 [==========================>...] - ETA: 0s - loss: 0.2379 - accuracy: 0.9285\n",
      "Epoch 93: val_accuracy did not improve from 0.93583\n",
      "525/525 [==============================] - 1s 955us/step - loss: 0.2398 - accuracy: 0.9270 - val_loss: 0.1993 - val_accuracy: 0.9300\n",
      "Epoch 94/100\n",
      "479/525 [==========================>...] - ETA: 0s - loss: 0.2417 - accuracy: 0.9275\n",
      "Epoch 94: val_accuracy did not improve from 0.93583\n",
      "525/525 [==============================] - 0s 943us/step - loss: 0.2374 - accuracy: 0.9295 - val_loss: 0.1965 - val_accuracy: 0.9344\n",
      "Epoch 95/100\n",
      "480/525 [==========================>...] - ETA: 0s - loss: 0.2360 - accuracy: 0.9301\n",
      "Epoch 95: val_accuracy did not improve from 0.93583\n",
      "525/525 [==============================] - 1s 953us/step - loss: 0.2370 - accuracy: 0.9296 - val_loss: 0.1962 - val_accuracy: 0.9333\n",
      "Epoch 96/100\n",
      "478/525 [==========================>...] - ETA: 0s - loss: 0.2342 - accuracy: 0.9321\n",
      "Epoch 96: val_accuracy did not improve from 0.93583\n",
      "525/525 [==============================] - 0s 949us/step - loss: 0.2330 - accuracy: 0.9323 - val_loss: 0.1966 - val_accuracy: 0.9342\n",
      "Epoch 97/100\n",
      "474/525 [==========================>...] - ETA: 0s - loss: 0.2313 - accuracy: 0.9306\n",
      "Epoch 97: val_accuracy did not improve from 0.93583\n",
      "525/525 [==============================] - 0s 945us/step - loss: 0.2325 - accuracy: 0.9304 - val_loss: 0.1961 - val_accuracy: 0.9342\n",
      "Epoch 98/100\n",
      "487/525 [==========================>...] - ETA: 0s - loss: 0.2400 - accuracy: 0.9298\n",
      "Epoch 98: val_accuracy did not improve from 0.93583\n",
      "525/525 [==============================] - 0s 927us/step - loss: 0.2375 - accuracy: 0.9307 - val_loss: 0.1960 - val_accuracy: 0.9333\n",
      "Epoch 99/100\n",
      "496/525 [===========================>..] - ETA: 0s - loss: 0.2352 - accuracy: 0.9283\n",
      "Epoch 99: val_accuracy did not improve from 0.93583\n",
      "525/525 [==============================] - 0s 924us/step - loss: 0.2323 - accuracy: 0.9293 - val_loss: 0.1979 - val_accuracy: 0.9336\n",
      "Epoch 100/100\n",
      "498/525 [===========================>..] - ETA: 0s - loss: 0.2338 - accuracy: 0.9310\n",
      "Epoch 100: val_accuracy did not improve from 0.93583\n",
      "525/525 [==============================] - 0s 905us/step - loss: 0.2314 - accuracy: 0.9315 - val_loss: 0.1967 - val_accuracy: 0.9339\n"
     ]
    }
   ],
   "source": [
    "H=model.fit(x_train,y_train,\n",
    "          validation_data=(x_test, y_test),\n",
    "          epochs=100,batch_size=16,\n",
    "          callbacks=callbacks_list,\n",
    "          verbose=1)"
   ]
  },
  {
   "cell_type": "code",
   "execution_count": 31,
   "metadata": {},
   "outputs": [
    {
     "name": "stdout",
     "output_type": "stream",
     "text": [
      "304 290\n"
     ]
    }
   ],
   "source": [
    "count=0\n",
    "count1=0\n",
    "y_pred=model.predict(x_test)\n",
    "for i in range(y_pred.shape[0]):\n",
    "    if y_test[i]==0:\n",
    "        count+=1\n",
    "        if y_pred[i]<0.5:\n",
    "            count1+=1\n",
    "print(count,count1)"
   ]
  },
  {
   "cell_type": "markdown",
   "metadata": {},
   "source": [
    "## GDA"
   ]
  },
  {
   "cell_type": "code",
   "execution_count": 39,
   "metadata": {},
   "outputs": [
    {
     "name": "stdout",
     "output_type": "stream",
     "text": [
      "Accuracy: 72.99%\n"
     ]
    }
   ],
   "source": [
    "import numpy as np\n",
    "from scipy.stats import multivariate_normal\n",
    "\n",
    "class GaussianDiscriminantAnalysis:\n",
    "    def fit(self, X, y):\n",
    "        self.classes = np.unique(y)\n",
    "        self.class_priors = np.array([np.mean(y == c) for c in self.classes])\n",
    "\n",
    "        self.means = []\n",
    "        self.cov_matrices = []\n",
    "        for c in self.classes:\n",
    "            X_c = X[y == c]\n",
    "            mean_c = np.mean(X_c, axis=0)\n",
    "            cov_matrix_c = np.cov(X_c, rowvar=False)\n",
    "            self.means.append(mean_c)\n",
    "            self.cov_matrices.append(cov_matrix_c)\n",
    "\n",
    "    def predict(self, X):\n",
    "        posteriors = []\n",
    "\n",
    "        for c in self.classes:\n",
    "            class_prior = self.class_priors[int(c)]\n",
    "            mean = self.means[int(c)]\n",
    "            cov_matrix = self.cov_matrices[int(c)]\n",
    "            mvn = multivariate_normal(mean=mean, cov=cov_matrix)\n",
    "            posterior = class_prior * mvn.pdf(X)\n",
    "            posteriors.append(posterior)\n",
    "\n",
    "        posteriors = np.array(posteriors).T\n",
    "        predicted_labels = np.argmax(posteriors, axis=1)\n",
    "\n",
    "        return predicted_labels\n",
    "\n",
    "\n",
    "\n",
    "# Initialize and train GDA\n",
    "gda = GaussianDiscriminantAnalysis()\n",
    "gda.fit(x_train, y_train)\n",
    "\n",
    "# Make predictions\n",
    "y_pred = gda.predict(x_train)\n",
    "# Calculate accuracy\n",
    "accuracy = np.mean(y_pred == y_train)\n",
    "print(f\"Accuracy: {accuracy * 100:.2f}%\")"
   ]
  },
  {
   "cell_type": "markdown",
   "metadata": {},
   "source": [
    "## RNN"
   ]
  },
  {
   "cell_type": "code",
   "execution_count": 48,
   "metadata": {},
   "outputs": [
    {
     "name": "stdout",
     "output_type": "stream",
     "text": [
      "Min: -32291.412, Max: 28569.142\n",
      "Min: 0.254, Max: 0.718\n"
     ]
    }
   ],
   "source": [
    "min,max=-(2**16),(2**16)\n",
    "print('Min: %.3f, Max: %.3f' % (x.min(), x.max()))\n",
    "x= (x-min)/(max-min)\n",
    "print('Min: %.3f, Max: %.3f' % (x.min(), x.max()))"
   ]
  },
  {
   "cell_type": "code",
   "execution_count": 49,
   "metadata": {},
   "outputs": [
    {
     "name": "stdout",
     "output_type": "stream",
     "text": [
      "(8400, 200, 20)\n",
      "4233.0\n"
     ]
    }
   ],
   "source": [
    "st,ed=700,2700\n",
    "x_train, x_test, y_train, y_test = train_test_split(x[:,st:ed,:], y, test_size=0.30, random_state=45)\n",
    "x_train=x_train.reshape((x_train.shape[0],200,20))\n",
    "x_test=x_test.reshape((x_test.shape[0],200,20))\n",
    "print(x_train.shape)\n",
    "print(y_train.sum())"
   ]
  },
  {
   "cell_type": "code",
   "execution_count": 61,
   "metadata": {},
   "outputs": [],
   "source": [
    "def rnn():\n",
    "    model=Sequential()\n",
    "    model.add(Input(shape=(200,20)))\n",
    "    model.add(layers.LSTM(units=16, return_sequences=True))\n",
    "    model.add(layers.LSTM(units=8, return_sequences=True))\n",
    "    model.add(layers.LSTM(units=4, return_sequences=False))\n",
    "#     model.add(layers.Dense(4,activation='relu'))\n",
    "    model.add(layers.Dense(1,activation='sigmoid'))\n",
    "    return model"
   ]
  },
  {
   "cell_type": "code",
   "execution_count": 62,
   "metadata": {},
   "outputs": [
    {
     "name": "stdout",
     "output_type": "stream",
     "text": [
      "Model: \"sequential_11\"\n",
      "_________________________________________________________________\n",
      " Layer (type)                Output Shape              Param #   \n",
      "=================================================================\n",
      " lstm_29 (LSTM)              (None, 200, 16)           2368      \n",
      "                                                                 \n",
      " lstm_30 (LSTM)              (None, 200, 8)            800       \n",
      "                                                                 \n",
      " lstm_31 (LSTM)              (None, 4)                 208       \n",
      "                                                                 \n",
      " dense_11 (Dense)            (None, 1)                 5         \n",
      "                                                                 \n",
      "=================================================================\n",
      "Total params: 3381 (13.21 KB)\n",
      "Trainable params: 3381 (13.21 KB)\n",
      "Non-trainable params: 0 (0.00 Byte)\n",
      "_________________________________________________________________\n"
     ]
    }
   ],
   "source": [
    "model=rnn()\n",
    "model.summary()\n",
    "opt=SGD( learning_rate=0.001, momentum=0.9)\n",
    "model.compile(loss=binary_crossentropy, optimizer='adam', metrics=['accuracy'])\n",
    "model_path=\"../Model/RNN_new/{epoch:02d}-{val_accuracy:.4f}.h5\"\n",
    "checkpoint = ModelCheckpoint(model_path, monitor='val_accuracy', verbose=1, save_best_only=True, mode='max')\n",
    "callbacks_list = [checkpoint]"
   ]
  },
  {
   "cell_type": "code",
   "execution_count": 64,
   "metadata": {},
   "outputs": [
    {
     "name": "stdout",
     "output_type": "stream",
     "text": [
      "Epoch 1/200\n"
     ]
    },
    {
     "name": "stderr",
     "output_type": "stream",
     "text": [
      "2023-10-12 14:58:39.275865: E tensorflow/compiler/xla/stream_executor/cuda/cuda_dnn.cc:425] Loaded runtime CuDNN library: 8.3.2 but source was compiled with: 8.6.0.  CuDNN library needs to have matching major version and equal or higher minor version. If using a binary install, upgrade your CuDNN library.  If building from sources, make sure the library loaded at runtime is compatible with the version specified during compile configuration.\n",
      "2023-10-12 14:58:39.276790: W tensorflow/core/framework/op_kernel.cc:1828] OP_REQUIRES failed at cudnn_rnn_ops.cc:1762 : UNKNOWN: Fail to find the dnn implementation.\n"
     ]
    },
    {
     "ename": "UnknownError",
     "evalue": "Graph execution error:\n\nFail to find the dnn implementation.\n\t [[{{node CudnnRNN}}]]\n\t [[sequential_11/lstm_29/PartitionedCall]] [Op:__inference_train_function_29808]",
     "output_type": "error",
     "traceback": [
      "\u001b[0;31m---------------------------------------------------------------------------\u001b[0m",
      "\u001b[0;31mUnknownError\u001b[0m                              Traceback (most recent call last)",
      "Cell \u001b[0;32mIn[64], line 2\u001b[0m\n\u001b[1;32m      1\u001b[0m \u001b[38;5;66;03m# with tf.device(\"/gpu:0\"):\u001b[39;00m\n\u001b[0;32m----> 2\u001b[0m H\u001b[38;5;241m=\u001b[39m\u001b[43mmodel\u001b[49m\u001b[38;5;241;43m.\u001b[39;49m\u001b[43mfit\u001b[49m\u001b[43m(\u001b[49m\u001b[43mx_train\u001b[49m\u001b[43m,\u001b[49m\u001b[43my_train\u001b[49m\u001b[43m,\u001b[49m\n\u001b[1;32m      3\u001b[0m \u001b[43m        \u001b[49m\u001b[43mvalidation_data\u001b[49m\u001b[38;5;241;43m=\u001b[39;49m\u001b[43m(\u001b[49m\u001b[43mx_test\u001b[49m\u001b[43m,\u001b[49m\u001b[43m \u001b[49m\u001b[43my_test\u001b[49m\u001b[43m)\u001b[49m\u001b[43m,\u001b[49m\n\u001b[1;32m      4\u001b[0m \u001b[43m        \u001b[49m\u001b[43mepochs\u001b[49m\u001b[38;5;241;43m=\u001b[39;49m\u001b[38;5;241;43m200\u001b[39;49m\u001b[43m,\u001b[49m\u001b[43mbatch_size\u001b[49m\u001b[38;5;241;43m=\u001b[39;49m\u001b[38;5;241;43m32\u001b[39;49m\u001b[43m,\u001b[49m\n\u001b[1;32m      5\u001b[0m \u001b[43m        \u001b[49m\u001b[43mcallbacks\u001b[49m\u001b[38;5;241;43m=\u001b[39;49m\u001b[43mcallbacks_list\u001b[49m\u001b[43m,\u001b[49m\n\u001b[1;32m      6\u001b[0m \u001b[43m        \u001b[49m\u001b[43mverbose\u001b[49m\u001b[38;5;241;43m=\u001b[39;49m\u001b[38;5;241;43m1\u001b[39;49m\u001b[43m)\u001b[49m\n",
      "File \u001b[0;32m~/.conda/envs/readout/lib/python3.8/site-packages/keras/src/utils/traceback_utils.py:70\u001b[0m, in \u001b[0;36mfilter_traceback.<locals>.error_handler\u001b[0;34m(*args, **kwargs)\u001b[0m\n\u001b[1;32m     67\u001b[0m     filtered_tb \u001b[38;5;241m=\u001b[39m _process_traceback_frames(e\u001b[38;5;241m.\u001b[39m__traceback__)\n\u001b[1;32m     68\u001b[0m     \u001b[38;5;66;03m# To get the full stack trace, call:\u001b[39;00m\n\u001b[1;32m     69\u001b[0m     \u001b[38;5;66;03m# `tf.debugging.disable_traceback_filtering()`\u001b[39;00m\n\u001b[0;32m---> 70\u001b[0m     \u001b[38;5;28;01mraise\u001b[39;00m e\u001b[38;5;241m.\u001b[39mwith_traceback(filtered_tb) \u001b[38;5;28;01mfrom\u001b[39;00m \u001b[38;5;28;01mNone\u001b[39;00m\n\u001b[1;32m     71\u001b[0m \u001b[38;5;28;01mfinally\u001b[39;00m:\n\u001b[1;32m     72\u001b[0m     \u001b[38;5;28;01mdel\u001b[39;00m filtered_tb\n",
      "File \u001b[0;32m~/.conda/envs/readout/lib/python3.8/site-packages/tensorflow/python/eager/execute.py:53\u001b[0m, in \u001b[0;36mquick_execute\u001b[0;34m(op_name, num_outputs, inputs, attrs, ctx, name)\u001b[0m\n\u001b[1;32m     51\u001b[0m \u001b[38;5;28;01mtry\u001b[39;00m:\n\u001b[1;32m     52\u001b[0m   ctx\u001b[38;5;241m.\u001b[39mensure_initialized()\n\u001b[0;32m---> 53\u001b[0m   tensors \u001b[38;5;241m=\u001b[39m pywrap_tfe\u001b[38;5;241m.\u001b[39mTFE_Py_Execute(ctx\u001b[38;5;241m.\u001b[39m_handle, device_name, op_name,\n\u001b[1;32m     54\u001b[0m                                       inputs, attrs, num_outputs)\n\u001b[1;32m     55\u001b[0m \u001b[38;5;28;01mexcept\u001b[39;00m core\u001b[38;5;241m.\u001b[39m_NotOkStatusException \u001b[38;5;28;01mas\u001b[39;00m e:\n\u001b[1;32m     56\u001b[0m   \u001b[38;5;28;01mif\u001b[39;00m name \u001b[38;5;129;01mis\u001b[39;00m \u001b[38;5;129;01mnot\u001b[39;00m \u001b[38;5;28;01mNone\u001b[39;00m:\n",
      "\u001b[0;31mUnknownError\u001b[0m: Graph execution error:\n\nFail to find the dnn implementation.\n\t [[{{node CudnnRNN}}]]\n\t [[sequential_11/lstm_29/PartitionedCall]] [Op:__inference_train_function_29808]"
     ]
    }
   ],
   "source": [
    "with tf.device(\"/gpu:0\"):\n",
    "    H=model.fit(x_train,y_train,\n",
    "            validation_data=(x_test, y_test),\n",
    "            epochs=200,batch_size=32,\n",
    "            callbacks=callbacks_list,\n",
    "            verbose=1)"
   ]
  },
  {
   "cell_type": "code",
   "execution_count": null,
   "metadata": {},
   "outputs": [],
   "source": []
  }
 ],
 "metadata": {
  "kernelspec": {
   "display_name": "Python 3",
   "language": "python",
   "name": "python3"
  },
  "language_info": {
   "codemirror_mode": {
    "name": "ipython",
    "version": 3
   },
   "file_extension": ".py",
   "mimetype": "text/x-python",
   "name": "python",
   "nbconvert_exporter": "python",
   "pygments_lexer": "ipython3",
   "version": "3.8.10"
  }
 },
 "nbformat": 4,
 "nbformat_minor": 4
}
