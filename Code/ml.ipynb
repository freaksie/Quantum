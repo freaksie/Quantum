{
 "cells": [
  {
   "cell_type": "code",
   "execution_count": 1,
   "metadata": {
    "tags": []
   },
   "outputs": [
    {
     "name": "stderr",
     "output_type": "stream",
     "text": [
      "2023-11-09 11:46:06.500193: I tensorflow/core/platform/cpu_feature_guard.cc:182] This TensorFlow binary is optimized to use available CPU instructions in performance-critical operations.\n",
      "To enable the following instructions: AVX2 FMA, in other operations, rebuild TensorFlow with the appropriate compiler flags.\n",
      "2023-11-09 11:46:08.962870: W tensorflow/compiler/tf2tensorrt/utils/py_utils.cc:38] TF-TRT Warning: Could not find TensorRT\n"
     ]
    }
   ],
   "source": [
    "import numpy as np\n",
    "import matplotlib.pyplot as plt\n",
    "from sklearn.svm import SVC\n",
    "from sklearn.linear_model import LogisticRegression\n",
    "from sklearn.mixture import GaussianMixture\n",
    "from sklearn.model_selection import train_test_split\n",
    "\n",
    "\n",
    "import tensorflow as tf\n",
    "from keras.models import Sequential,load_model\n",
    "from keras import layers,Input\n",
    "from keras.losses import binary_crossentropy\n",
    "from keras.layers import Dense\n",
    "from keras.optimizers import SGD\n",
    "from keras.callbacks import ModelCheckpoint\n",
    "import keras.backend as K"
   ]
  },
  {
   "cell_type": "code",
   "execution_count": 2,
   "metadata": {
    "tags": []
   },
   "outputs": [
    {
     "name": "stdout",
     "output_type": "stream",
     "text": [
      "Num GPUs Available:  0\n"
     ]
    },
    {
     "name": "stderr",
     "output_type": "stream",
     "text": [
      "2023-10-25 11:10:49.404383: W tensorflow/core/common_runtime/gpu/gpu_device.cc:1960] Cannot dlopen some GPU libraries. Please make sure the missing libraries mentioned above are installed properly if you would like to use GPU. Follow the guide at https://www.tensorflow.org/install/gpu for how to download and setup the required libraries for your platform.\n",
      "Skipping registering GPU devices...\n"
     ]
    }
   ],
   "source": [
    "print(\"Num GPUs Available: \", len(tf.config.list_physical_devices('GPU')))"
   ]
  },
  {
   "cell_type": "code",
   "execution_count": 3,
   "metadata": {},
   "outputs": [
    {
     "name": "stdout",
     "output_type": "stream",
     "text": [
      "(2, 10, 2)\n",
      "[[[ 1 11]\n",
      "  [ 2 12]\n",
      "  [ 3 13]\n",
      "  [ 4 14]\n",
      "  [ 5 15]\n",
      "  [ 6 16]\n",
      "  [ 7 17]\n",
      "  [ 8 18]\n",
      "  [ 9 19]\n",
      "  [10 20]]\n",
      "\n",
      " [[ 1 11]\n",
      "  [ 2 12]\n",
      "  [ 3 13]\n",
      "  [ 4 14]\n",
      "  [ 5 15]\n",
      "  [ 6 16]\n",
      "  [ 7 17]\n",
      "  [ 8 18]\n",
      "  [ 9 19]\n",
      "  [10 20]]]\n",
      "[[[ 1 11  2 12]\n",
      "  [ 3 13  4 14]\n",
      "  [ 5 15  6 16]\n",
      "  [ 7 17  8 18]\n",
      "  [ 9 19 10 20]]\n",
      "\n",
      " [[ 1 11  2 12]\n",
      "  [ 3 13  4 14]\n",
      "  [ 5 15  6 16]\n",
      "  [ 7 17  8 18]\n",
      "  [ 9 19 10 20]]]\n"
     ]
    }
   ],
   "source": [
    "arry=np.array([[[1,11],[2,12],[3,13],[4,14],[5,15],[6,16],[7,17],[8,18],[9,19],[10,20]],[[1,11],[2,12],[3,13],[4,14],[5,15],[6,16],[7,17],[8,18],[9,19],[10,20]]])\n",
    "# arry=np.array([[[1,2,3,4,5,6,7,8,9,10],[11,12,13,14,15,16,17,18,19,20]],[[1,2,3,4,5,6,7,8,9,10],[11,12,13,14,15,16,17,18,19,20]]])\n",
    "print(arry.shape)\n",
    "print(arry)\n",
    "print(arry.reshape((2,5,4)))"
   ]
  },
  {
   "cell_type": "code",
   "execution_count": 14,
   "metadata": {
    "tags": []
   },
   "outputs": [
    {
     "name": "stdout",
     "output_type": "stream",
     "text": [
      "(5717, 8192, 2)\n"
     ]
    }
   ],
   "source": [
    "state0=np.load('../Data/new/2gsps/state0_her.npy')\n",
    "state1=np.load('../Data/new/2gsps/state1_her.npy')\n",
    "output0=np.zeros((state0.shape[0]))\n",
    "output1=np.ones((state1.shape[0]))\n",
    "print(state0.shape)"
   ]
  },
  {
   "cell_type": "code",
   "execution_count": 15,
   "metadata": {
    "tags": []
   },
   "outputs": [
    {
     "name": "stdout",
     "output_type": "stream",
     "text": [
      "(11502, 8192, 2)\n",
      "(11502,)\n"
     ]
    }
   ],
   "source": [
    "x=np.vstack((state0,state1))\n",
    "print(x.shape)\n",
    "y=np.hstack((output0,output1))\n",
    "print(y.shape)"
   ]
  },
  {
   "cell_type": "code",
   "execution_count": 48,
   "metadata": {
    "tags": []
   },
   "outputs": [
    {
     "name": "stdout",
     "output_type": "stream",
     "text": [
      "(8051, 1400, 2)\n",
      "4065.0\n",
      "(8051, 2)\n"
     ]
    }
   ],
   "source": [
    "\n",
    "st,ed=700,2100\n",
    "x_train, x_test, y_train, y_test = train_test_split(x[:,st:ed,:], y, test_size=0.30, random_state=45)\n",
    "print(x_train.shape)\n",
    "print(y_train.sum())\n",
    "\n",
    "x_train=np.mean(x_train,axis=1)\n",
    "x_test=np.mean(x_test,axis=1)\n",
    "\n",
    "# x_train=x_train.reshape((x_train.shape[0],x_train.shape[1]*2))\n",
    "# x_test=x_test.reshape((x_test.shape[0],x_test.shape[1]*2))\n",
    "print(x_train.shape)"
   ]
  },
  {
   "cell_type": "markdown",
   "metadata": {},
   "source": [
    "## Logistic Regression"
   ]
  },
  {
   "cell_type": "code",
   "execution_count": 49,
   "metadata": {},
   "outputs": [
    {
     "name": "stdout",
     "output_type": "stream",
     "text": [
      "0.799478412054477\n"
     ]
    }
   ],
   "source": [
    "# x_trainC=x_train.reshape((x_train.shape[0],x_train.shape[1]*2))\n",
    "# x_testC=x_test.reshape((x_test.shape[0],x_test.shape[1]*2))\n",
    "classifier = LogisticRegression(random_state = 42, max_iter=500)\n",
    "classifier.fit(x_train, y_train)\n",
    "print(classifier.score(x_test,y_test))\n",
    "pred = classifier.predict(x_test)"
   ]
  },
  {
   "cell_type": "markdown",
   "metadata": {},
   "source": [
    "## SVM"
   ]
  },
  {
   "cell_type": "code",
   "execution_count": 50,
   "metadata": {},
   "outputs": [
    {
     "name": "stdout",
     "output_type": "stream",
     "text": [
      "0.8009272674587076\n"
     ]
    }
   ],
   "source": [
    "model=SVC(decision_function_shape='ovo')\n",
    "model.fit(x_train,y_train)\n",
    "print(model.score(x_test,y_test))\n",
    "pred=model.predict(x_test)"
   ]
  },
  {
   "cell_type": "markdown",
   "metadata": {},
   "source": [
    "## GMM"
   ]
  },
  {
   "cell_type": "code",
   "execution_count": 63,
   "metadata": {},
   "outputs": [
    {
     "name": "stdout",
     "output_type": "stream",
     "text": [
      "P(0|0)= 0.7995131281516258\n",
      "P(1|1)= 0.7906451051990958\n"
     ]
    }
   ],
   "source": [
    "Y=list(zip(np.append(np.mean(state0[:,st:ed,0],axis=1),np.mean(state1[:,st:ed,0],axis=1)),np.append(np.mean(state0[:,st:ed,1],axis=1),np.mean(state1[:,st:ed,1],axis=1))))\n",
    "gmm_Y=GaussianMixture(n_components=2,covariance_type='full').fit(Y)\n",
    "bitstring=np.split(gmm_Y.predict(Y),2)\n",
    "print('P(0|0)=',len(bitstring[0][bitstring[0]==0])/len(bitstring[0]))\n",
    "print('P(1|1)=',len(bitstring[1][bitstring[1]==1])/len(bitstring[1]))\n",
    "X=list(zip(np.mean(state0[:,st:ed,0],axis=1),np.mean(state0[:,st:ed,1],axis=1)))\n",
    "gmm_Y_1=GaussianMixture(n_components=1,covariance_type='spherical').fit(X)\n",
    "X=list(zip(np.mean(state1[:,st:ed,0],axis=1),np.mean(state1[:,st:ed,1],axis=1)))\n",
    "gmm_Y_2=GaussianMixture(n_components=1,covariance_type='spherical').fit(X)"
   ]
  },
  {
   "cell_type": "markdown",
   "metadata": {},
   "source": [
    "## NN"
   ]
  },
  {
   "cell_type": "code",
   "execution_count": 53,
   "metadata": {
    "tags": []
   },
   "outputs": [
    {
     "name": "stdout",
     "output_type": "stream",
     "text": [
      "Model: \"sequential_7\"\n",
      "_________________________________________________________________\n",
      " Layer (type)                Output Shape              Param #   \n",
      "=================================================================\n",
      " HiddenLayer1 (Dense)        (None, 8)                 24        \n",
      "                                                                 \n",
      " HiddenLayer2 (Dense)        (None, 4)                 36        \n",
      "                                                                 \n",
      " OuputLayer (Dense)          (None, 1)                 5         \n",
      "                                                                 \n",
      "=================================================================\n",
      "Total params: 65 (260.00 Byte)\n",
      "Trainable params: 65 (260.00 Byte)\n",
      "Non-trainable params: 0 (0.00 Byte)\n",
      "_________________________________________________________________\n"
     ]
    }
   ],
   "source": [
    "def arch():\n",
    "    model=Sequential()\n",
    "    model.add(Input(shape=(2), name='Input Layer'))\n",
    "    model.add(Dense(8,activation='relu', name='HiddenLayer1'))\n",
    "    model.add(Dense(4,activation='relu', name='HiddenLayer2'))\n",
    "    model.add(Dense(1,activation='sigmoid', name='OuputLayer'))\n",
    "    return model\n",
    "arch().summary()"
   ]
  },
  {
   "cell_type": "code",
   "execution_count": 54,
   "metadata": {},
   "outputs": [],
   "source": [
    "def bceloss(y_true, y_pred):\n",
    "    # Clip the prediction value to prevent log(0) error\n",
    "    y_pred = K.clip(y_pred, K.epsilon(), 1 - K.epsilon())\n",
    "    # Calculate the weighted binary cross entropy loss\n",
    "    loss = -(0.1 * (y_true * K.log(y_pred)) + 0.9*((1 - y_true) * K.log(1 - y_pred)))\n",
    "    return K.mean(loss, axis=-1)\n",
    "\n",
    "model=arch()\n",
    "model.summary\n",
    "opt=SGD( learning_rate=0.01, momentum=0.9)\n",
    "model.compile(loss=binary_crossentropy, optimizer='adam', metrics=['accuracy'])\n",
    "model_path=\"../Model/NN2/tmp/{epoch:02d}-{val_accuracy:.4f}.h5\"\n",
    "checkpoint = ModelCheckpoint(model_path, monitor='val_accuracy', verbose=1, save_best_only=True, mode='max')\n",
    "callbacks_list = [checkpoint]"
   ]
  },
  {
   "cell_type": "code",
   "execution_count": 55,
   "metadata": {},
   "outputs": [
    {
     "name": "stdout",
     "output_type": "stream",
     "text": [
      "Epoch 1/100\n",
      " 47/101 [============>.................] - ETA: 0s - loss: 0.7290 - accuracy: 0.5110 \n",
      "Epoch 1: val_accuracy improved from -inf to 0.72874, saving model to ../Model/NN2/tmp/01-0.7287.h5\n",
      "101/101 [==============================] - 1s 3ms/step - loss: 0.6556 - accuracy: 0.6008 - val_loss: 0.5821 - val_accuracy: 0.7287\n",
      "Epoch 2/100\n",
      " 56/101 [===============>..............] - ETA: 0s - loss: 0.5640 - accuracy: 0.7812"
     ]
    },
    {
     "name": "stderr",
     "output_type": "stream",
     "text": [
      "/global/homes/n/nrvora/.conda/envs/readout/lib/python3.8/site-packages/keras/src/engine/training.py:3000: UserWarning: You are saving your model as an HDF5 file via `model.save()`. This file format is considered legacy. We recommend using instead the native Keras format, e.g. `model.save('my_model.keras')`.\n",
      "  saving_api.save_model(\n"
     ]
    },
    {
     "name": "stdout",
     "output_type": "stream",
     "text": [
      "\n",
      "Epoch 2: val_accuracy improved from 0.72874 to 0.75109, saving model to ../Model/NN2/tmp/02-0.7511.h5\n",
      "101/101 [==============================] - 0s 2ms/step - loss: 0.5572 - accuracy: 0.7806 - val_loss: 0.5616 - val_accuracy: 0.7511\n",
      "Epoch 3/100\n",
      " 60/101 [================>.............] - ETA: 0s - loss: 0.5410 - accuracy: 0.7789\n",
      "Epoch 3: val_accuracy improved from 0.75109 to 0.75295, saving model to ../Model/NN2/tmp/03-0.7529.h5\n",
      "101/101 [==============================] - 0s 3ms/step - loss: 0.5385 - accuracy: 0.7863 - val_loss: 0.5505 - val_accuracy: 0.7529\n",
      "Epoch 4/100\n",
      " 87/101 [========================>.....] - ETA: 0s - loss: 0.5262 - accuracy: 0.7872\n",
      "Epoch 4: val_accuracy improved from 0.75295 to 0.75419, saving model to ../Model/NN2/tmp/04-0.7542.h5\n",
      "101/101 [==============================] - 0s 2ms/step - loss: 0.5258 - accuracy: 0.7884 - val_loss: 0.5429 - val_accuracy: 0.7542\n",
      "Epoch 5/100\n",
      " 65/101 [==================>...........] - ETA: 0s - loss: 0.5199 - accuracy: 0.7861\n",
      "Epoch 5: val_accuracy improved from 0.75419 to 0.75481, saving model to ../Model/NN2/tmp/05-0.7548.h5\n",
      "101/101 [==============================] - 0s 3ms/step - loss: 0.5159 - accuracy: 0.7888 - val_loss: 0.5368 - val_accuracy: 0.7548\n",
      "Epoch 6/100\n",
      " 80/101 [======================>.......] - ETA: 0s - loss: 0.5118 - accuracy: 0.7906\n",
      "Epoch 6: val_accuracy improved from 0.75481 to 0.75605, saving model to ../Model/NN2/tmp/06-0.7561.h5\n",
      "101/101 [==============================] - 0s 2ms/step - loss: 0.5079 - accuracy: 0.7890 - val_loss: 0.5319 - val_accuracy: 0.7561\n",
      "Epoch 7/100\n",
      " 96/101 [===========================>..] - ETA: 0s - loss: 0.5038 - accuracy: 0.7861\n",
      "Epoch 7: val_accuracy improved from 0.75605 to 0.75729, saving model to ../Model/NN2/tmp/07-0.7573.h5\n",
      "101/101 [==============================] - 0s 3ms/step - loss: 0.5006 - accuracy: 0.7884 - val_loss: 0.5269 - val_accuracy: 0.7573\n",
      "Epoch 8/100\n",
      " 96/101 [===========================>..] - ETA: 0s - loss: 0.4936 - accuracy: 0.7913\n",
      "Epoch 8: val_accuracy improved from 0.75729 to 0.75916, saving model to ../Model/NN2/tmp/08-0.7592.h5\n",
      "101/101 [==============================] - 0s 2ms/step - loss: 0.4935 - accuracy: 0.7918 - val_loss: 0.5206 - val_accuracy: 0.7592\n",
      "Epoch 9/100\n",
      " 94/101 [==========================>...] - ETA: 0s - loss: 0.4850 - accuracy: 0.7932\n",
      "Epoch 9: val_accuracy did not improve from 0.75916\n",
      "101/101 [==============================] - 0s 3ms/step - loss: 0.4861 - accuracy: 0.7929 - val_loss: 0.5141 - val_accuracy: 0.7592\n",
      "Epoch 10/100\n",
      " 92/101 [==========================>...] - ETA: 0s - loss: 0.4695 - accuracy: 0.7935\n",
      "Epoch 10: val_accuracy did not improve from 0.75916\n",
      "101/101 [==============================] - 0s 2ms/step - loss: 0.4672 - accuracy: 0.7935 - val_loss: 0.4888 - val_accuracy: 0.7573\n",
      "Epoch 11/100\n",
      " 88/101 [=========================>....] - ETA: 0s - loss: 0.4348 - accuracy: 0.7921\n",
      "Epoch 11: val_accuracy did not improve from 0.75916\n",
      "101/101 [==============================] - 0s 2ms/step - loss: 0.4341 - accuracy: 0.7929 - val_loss: 0.4814 - val_accuracy: 0.7573\n",
      "Epoch 12/100\n",
      " 98/101 [============================>.] - ETA: 0s - loss: 0.4266 - accuracy: 0.7977\n",
      "Epoch 12: val_accuracy did not improve from 0.75916\n",
      "101/101 [==============================] - 0s 2ms/step - loss: 0.4256 - accuracy: 0.7978 - val_loss: 0.4797 - val_accuracy: 0.7585\n",
      "Epoch 13/100\n",
      " 83/101 [=======================>......] - ETA: 0s - loss: 0.4191 - accuracy: 0.7995\n",
      "Epoch 13: val_accuracy improved from 0.75916 to 0.76164, saving model to ../Model/NN2/tmp/13-0.7616.h5\n",
      "101/101 [==============================] - 0s 2ms/step - loss: 0.4226 - accuracy: 0.7975 - val_loss: 0.4751 - val_accuracy: 0.7616\n",
      "Epoch 14/100\n",
      " 55/101 [===============>..............] - ETA: 0s - loss: 0.4217 - accuracy: 0.8028\n",
      "Epoch 14: val_accuracy improved from 0.76164 to 0.76226, saving model to ../Model/NN2/tmp/14-0.7623.h5\n",
      "101/101 [==============================] - 0s 2ms/step - loss: 0.4211 - accuracy: 0.8014 - val_loss: 0.4787 - val_accuracy: 0.7623\n",
      "Epoch 15/100\n",
      " 96/101 [===========================>..] - ETA: 0s - loss: 0.4199 - accuracy: 0.7985\n",
      "Epoch 15: val_accuracy did not improve from 0.76226\n",
      "101/101 [==============================] - 0s 2ms/step - loss: 0.4207 - accuracy: 0.7997 - val_loss: 0.4737 - val_accuracy: 0.7623\n",
      "Epoch 16/100\n",
      " 60/101 [================>.............] - ETA: 0s - loss: 0.4297 - accuracy: 0.7956\n",
      "Epoch 16: val_accuracy improved from 0.76226 to 0.76350, saving model to ../Model/NN2/tmp/16-0.7635.h5\n",
      "101/101 [==============================] - 0s 2ms/step - loss: 0.4194 - accuracy: 0.8006 - val_loss: 0.4754 - val_accuracy: 0.7635\n",
      "Epoch 17/100\n",
      " 89/101 [=========================>....] - ETA: 0s - loss: 0.4210 - accuracy: 0.7981\n",
      "Epoch 17: val_accuracy improved from 0.76350 to 0.76598, saving model to ../Model/NN2/tmp/17-0.7660.h5\n",
      "101/101 [==============================] - 0s 2ms/step - loss: 0.4185 - accuracy: 0.7998 - val_loss: 0.4731 - val_accuracy: 0.7660\n",
      "Epoch 18/100\n",
      " 49/101 [=============>................] - ETA: 0s - loss: 0.4177 - accuracy: 0.8045\n",
      "Epoch 18: val_accuracy did not improve from 0.76598\n",
      "101/101 [==============================] - 0s 2ms/step - loss: 0.4183 - accuracy: 0.8011 - val_loss: 0.4725 - val_accuracy: 0.7660\n",
      "Epoch 19/100\n",
      " 83/101 [=======================>......] - ETA: 0s - loss: 0.4178 - accuracy: 0.8012\n",
      "Epoch 19: val_accuracy improved from 0.76598 to 0.76785, saving model to ../Model/NN2/tmp/19-0.7678.h5\n",
      "101/101 [==============================] - 0s 3ms/step - loss: 0.4182 - accuracy: 0.8008 - val_loss: 0.4707 - val_accuracy: 0.7678\n",
      "Epoch 20/100\n",
      " 58/101 [================>.............] - ETA: 0s - loss: 0.4084 - accuracy: 0.8066\n",
      "Epoch 20: val_accuracy did not improve from 0.76785\n",
      "101/101 [==============================] - 0s 2ms/step - loss: 0.4177 - accuracy: 0.8006 - val_loss: 0.4697 - val_accuracy: 0.7666\n",
      "Epoch 21/100\n",
      " 95/101 [===========================>..] - ETA: 0s - loss: 0.4165 - accuracy: 0.8010\n",
      "Epoch 21: val_accuracy did not improve from 0.76785\n",
      "101/101 [==============================] - 0s 2ms/step - loss: 0.4174 - accuracy: 0.8009 - val_loss: 0.4732 - val_accuracy: 0.7678\n",
      "Epoch 22/100\n",
      " 54/101 [===============>..............] - ETA: 0s - loss: 0.4230 - accuracy: 0.7992\n",
      "Epoch 22: val_accuracy did not improve from 0.76785\n",
      "101/101 [==============================] - 0s 2ms/step - loss: 0.4174 - accuracy: 0.8000 - val_loss: 0.4730 - val_accuracy: 0.7678\n",
      "Epoch 23/100\n",
      "101/101 [==============================] - ETA: 0s - loss: 0.4170 - accuracy: 0.8003\n",
      "Epoch 23: val_accuracy did not improve from 0.76785\n",
      "101/101 [==============================] - 0s 3ms/step - loss: 0.4170 - accuracy: 0.8003 - val_loss: 0.4692 - val_accuracy: 0.7678\n",
      "Epoch 24/100\n",
      " 99/101 [============================>.] - ETA: 0s - loss: 0.4150 - accuracy: 0.8018\n",
      "Epoch 24: val_accuracy improved from 0.76785 to 0.76909, saving model to ../Model/NN2/tmp/24-0.7691.h5\n",
      "101/101 [==============================] - 0s 2ms/step - loss: 0.4170 - accuracy: 0.8002 - val_loss: 0.4731 - val_accuracy: 0.7691\n",
      "Epoch 25/100\n",
      " 88/101 [=========================>....] - ETA: 0s - loss: 0.4188 - accuracy: 0.7983\n",
      "Epoch 25: val_accuracy did not improve from 0.76909\n",
      "101/101 [==============================] - 0s 2ms/step - loss: 0.4169 - accuracy: 0.8002 - val_loss: 0.4724 - val_accuracy: 0.7685\n",
      "Epoch 26/100\n",
      " 51/101 [==============>...............] - ETA: 0s - loss: 0.4087 - accuracy: 0.8030\n",
      "Epoch 26: val_accuracy did not improve from 0.76909\n",
      "101/101 [==============================] - 0s 2ms/step - loss: 0.4169 - accuracy: 0.8016 - val_loss: 0.4714 - val_accuracy: 0.7666\n",
      "Epoch 27/100\n",
      " 67/101 [==================>...........] - ETA: 0s - loss: 0.4241 - accuracy: 0.7962\n",
      "Epoch 27: val_accuracy did not improve from 0.76909\n",
      "101/101 [==============================] - 0s 2ms/step - loss: 0.4168 - accuracy: 0.8012 - val_loss: 0.4750 - val_accuracy: 0.7672\n",
      "Epoch 28/100\n",
      " 53/101 [==============>...............] - ETA: 0s - loss: 0.4197 - accuracy: 0.8060\n",
      "Epoch 28: val_accuracy did not improve from 0.76909\n",
      "101/101 [==============================] - 0s 2ms/step - loss: 0.4168 - accuracy: 0.8026 - val_loss: 0.4762 - val_accuracy: 0.7678\n",
      "Epoch 29/100\n",
      " 67/101 [==================>...........] - ETA: 0s - loss: 0.4104 - accuracy: 0.8071\n",
      "Epoch 29: val_accuracy improved from 0.76909 to 0.77157, saving model to ../Model/NN2/tmp/29-0.7716.h5\n",
      "101/101 [==============================] - 0s 2ms/step - loss: 0.4166 - accuracy: 0.8017 - val_loss: 0.4684 - val_accuracy: 0.7716\n",
      "Epoch 30/100\n",
      " 54/101 [===============>..............] - ETA: 0s - loss: 0.4220 - accuracy: 0.7980\n",
      "Epoch 30: val_accuracy did not improve from 0.77157\n",
      "101/101 [==============================] - 0s 2ms/step - loss: 0.4166 - accuracy: 0.8012 - val_loss: 0.4687 - val_accuracy: 0.7716\n",
      "Epoch 31/100\n",
      " 65/101 [==================>...........] - ETA: 0s - loss: 0.4174 - accuracy: 0.7964\n",
      "Epoch 31: val_accuracy did not improve from 0.77157\n",
      "101/101 [==============================] - 0s 2ms/step - loss: 0.4167 - accuracy: 0.7998 - val_loss: 0.4715 - val_accuracy: 0.7691\n",
      "Epoch 32/100\n",
      " 86/101 [========================>.....] - ETA: 0s - loss: 0.4149 - accuracy: 0.8021\n",
      "Epoch 32: val_accuracy did not improve from 0.77157\n",
      "101/101 [==============================] - 0s 2ms/step - loss: 0.4165 - accuracy: 0.8011 - val_loss: 0.4704 - val_accuracy: 0.7678\n",
      "Epoch 33/100\n",
      " 52/101 [==============>...............] - ETA: 0s - loss: 0.4223 - accuracy: 0.8005\n",
      "Epoch 33: val_accuracy did not improve from 0.77157\n",
      "101/101 [==============================] - 0s 2ms/step - loss: 0.4166 - accuracy: 0.8019 - val_loss: 0.4693 - val_accuracy: 0.7685\n",
      "Epoch 34/100\n",
      " 64/101 [==================>...........] - ETA: 0s - loss: 0.4124 - accuracy: 0.8020\n",
      "Epoch 34: val_accuracy did not improve from 0.77157\n",
      "101/101 [==============================] - 0s 2ms/step - loss: 0.4164 - accuracy: 0.8017 - val_loss: 0.4698 - val_accuracy: 0.7697\n",
      "Epoch 35/100\n",
      " 67/101 [==================>...........] - ETA: 0s - loss: 0.4134 - accuracy: 0.8025\n",
      "Epoch 35: val_accuracy did not improve from 0.77157\n",
      "101/101 [==============================] - 0s 2ms/step - loss: 0.4164 - accuracy: 0.8020 - val_loss: 0.4691 - val_accuracy: 0.7703\n",
      "Epoch 36/100\n",
      " 55/101 [===============>..............] - ETA: 0s - loss: 0.4143 - accuracy: 0.8026\n",
      "Epoch 36: val_accuracy did not improve from 0.77157\n",
      "101/101 [==============================] - 0s 2ms/step - loss: 0.4161 - accuracy: 0.8020 - val_loss: 0.4688 - val_accuracy: 0.7703\n",
      "Epoch 37/100\n",
      " 66/101 [==================>...........] - ETA: 0s - loss: 0.4177 - accuracy: 0.8000\n",
      "Epoch 37: val_accuracy did not improve from 0.77157\n",
      "101/101 [==============================] - 0s 2ms/step - loss: 0.4158 - accuracy: 0.8033 - val_loss: 0.4742 - val_accuracy: 0.7691\n",
      "Epoch 38/100\n",
      " 69/101 [===================>..........] - ETA: 0s - loss: 0.4165 - accuracy: 0.8005\n",
      "Epoch 38: val_accuracy did not improve from 0.77157\n",
      "101/101 [==============================] - 0s 2ms/step - loss: 0.4164 - accuracy: 0.8020 - val_loss: 0.4715 - val_accuracy: 0.7685\n",
      "Epoch 39/100\n",
      " 54/101 [===============>..............] - ETA: 0s - loss: 0.4256 - accuracy: 0.7963\n",
      "Epoch 39: val_accuracy did not improve from 0.77157\n",
      "101/101 [==============================] - 0s 2ms/step - loss: 0.4161 - accuracy: 0.8036 - val_loss: 0.4700 - val_accuracy: 0.7691\n",
      "Epoch 40/100\n",
      " 68/101 [===================>..........] - ETA: 0s - loss: 0.4103 - accuracy: 0.8065\n",
      "Epoch 40: val_accuracy did not improve from 0.77157\n",
      "101/101 [==============================] - 0s 2ms/step - loss: 0.4160 - accuracy: 0.8028 - val_loss: 0.4676 - val_accuracy: 0.7697\n",
      "Epoch 41/100\n",
      " 51/101 [==============>...............] - ETA: 0s - loss: 0.4219 - accuracy: 0.7929\n",
      "Epoch 41: val_accuracy did not improve from 0.77157\n",
      "101/101 [==============================] - 0s 2ms/step - loss: 0.4164 - accuracy: 0.8031 - val_loss: 0.4689 - val_accuracy: 0.7709\n",
      "Epoch 42/100\n",
      " 56/101 [===============>..............] - ETA: 0s - loss: 0.4113 - accuracy: 0.8058\n",
      "Epoch 42: val_accuracy did not improve from 0.77157\n",
      "101/101 [==============================] - 0s 2ms/step - loss: 0.4163 - accuracy: 0.8034 - val_loss: 0.4687 - val_accuracy: 0.7691\n",
      "Epoch 43/100\n",
      " 67/101 [==================>...........] - ETA: 0s - loss: 0.4102 - accuracy: 0.8076\n",
      "Epoch 43: val_accuracy did not improve from 0.77157\n",
      "101/101 [==============================] - 0s 3ms/step - loss: 0.4160 - accuracy: 0.8037 - val_loss: 0.4692 - val_accuracy: 0.7709\n",
      "Epoch 44/100\n",
      " 52/101 [==============>...............] - ETA: 0s - loss: 0.4195 - accuracy: 0.7972\n",
      "Epoch 44: val_accuracy did not improve from 0.77157\n",
      "101/101 [==============================] - 0s 2ms/step - loss: 0.4163 - accuracy: 0.8039 - val_loss: 0.4707 - val_accuracy: 0.7691\n",
      "Epoch 45/100\n",
      " 78/101 [======================>.......] - ETA: 0s - loss: 0.4127 - accuracy: 0.8057\n",
      "Epoch 45: val_accuracy did not improve from 0.77157\n",
      "101/101 [==============================] - 0s 3ms/step - loss: 0.4162 - accuracy: 0.8017 - val_loss: 0.4677 - val_accuracy: 0.7716\n",
      "Epoch 46/100\n",
      " 46/101 [============>.................] - ETA: 0s - loss: 0.4114 - accuracy: 0.8057\n",
      "Epoch 46: val_accuracy did not improve from 0.77157\n",
      "101/101 [==============================] - 0s 2ms/step - loss: 0.4158 - accuracy: 0.8036 - val_loss: 0.4691 - val_accuracy: 0.7697\n",
      "Epoch 47/100\n",
      " 58/101 [================>.............] - ETA: 0s - loss: 0.4223 - accuracy: 0.8020\n",
      "Epoch 47: val_accuracy did not improve from 0.77157\n",
      "101/101 [==============================] - 0s 3ms/step - loss: 0.4159 - accuracy: 0.8042 - val_loss: 0.4689 - val_accuracy: 0.7697\n",
      "Epoch 48/100\n",
      " 99/101 [============================>.] - ETA: 0s - loss: 0.4168 - accuracy: 0.8027\n",
      "Epoch 48: val_accuracy did not improve from 0.77157\n",
      "101/101 [==============================] - 0s 2ms/step - loss: 0.4159 - accuracy: 0.8033 - val_loss: 0.4701 - val_accuracy: 0.7697\n",
      "Epoch 49/100\n",
      " 55/101 [===============>..............] - ETA: 0s - loss: 0.4120 - accuracy: 0.8062\n",
      "Epoch 49: val_accuracy did not improve from 0.77157\n",
      "101/101 [==============================] - 0s 3ms/step - loss: 0.4163 - accuracy: 0.8016 - val_loss: 0.4687 - val_accuracy: 0.7685\n",
      "Epoch 50/100\n",
      " 54/101 [===============>..............] - ETA: 0s - loss: 0.4106 - accuracy: 0.8047\n",
      "Epoch 50: val_accuracy did not improve from 0.77157\n",
      "101/101 [==============================] - 0s 2ms/step - loss: 0.4157 - accuracy: 0.8033 - val_loss: 0.4679 - val_accuracy: 0.7685\n",
      "Epoch 51/100\n",
      " 80/101 [======================>.......] - ETA: 0s - loss: 0.4198 - accuracy: 0.7973\n",
      "Epoch 51: val_accuracy did not improve from 0.77157\n",
      "101/101 [==============================] - 0s 2ms/step - loss: 0.4157 - accuracy: 0.8023 - val_loss: 0.4663 - val_accuracy: 0.7678\n",
      "Epoch 52/100\n",
      " 63/101 [=================>............] - ETA: 0s - loss: 0.4165 - accuracy: 0.8033\n",
      "Epoch 52: val_accuracy did not improve from 0.77157\n",
      "101/101 [==============================] - 0s 2ms/step - loss: 0.4161 - accuracy: 0.8020 - val_loss: 0.4682 - val_accuracy: 0.7685\n",
      "Epoch 53/100\n",
      " 79/101 [======================>.......] - ETA: 0s - loss: 0.4110 - accuracy: 0.8064\n",
      "Epoch 53: val_accuracy did not improve from 0.77157\n",
      "101/101 [==============================] - 0s 2ms/step - loss: 0.4160 - accuracy: 0.8033 - val_loss: 0.4674 - val_accuracy: 0.7672\n",
      "Epoch 54/100\n",
      " 57/101 [===============>..............] - ETA: 0s - loss: 0.4096 - accuracy: 0.8032\n",
      "Epoch 54: val_accuracy did not improve from 0.77157\n",
      "101/101 [==============================] - 0s 3ms/step - loss: 0.4161 - accuracy: 0.8019 - val_loss: 0.4693 - val_accuracy: 0.7697\n",
      "Epoch 55/100\n",
      " 87/101 [========================>.....] - ETA: 0s - loss: 0.4159 - accuracy: 0.8008\n",
      "Epoch 55: val_accuracy did not improve from 0.77157\n",
      "101/101 [==============================] - 0s 3ms/step - loss: 0.4159 - accuracy: 0.8016 - val_loss: 0.4674 - val_accuracy: 0.7678\n",
      "Epoch 56/100\n",
      " 66/101 [==================>...........] - ETA: 0s - loss: 0.4152 - accuracy: 0.8056\n",
      "Epoch 56: val_accuracy did not improve from 0.77157\n",
      "101/101 [==============================] - 0s 2ms/step - loss: 0.4159 - accuracy: 0.8053 - val_loss: 0.4686 - val_accuracy: 0.7709\n",
      "Epoch 57/100\n",
      " 48/101 [=============>................] - ETA: 0s - loss: 0.4248 - accuracy: 0.8008\n",
      "Epoch 57: val_accuracy did not improve from 0.77157\n",
      "101/101 [==============================] - 0s 2ms/step - loss: 0.4156 - accuracy: 0.8061 - val_loss: 0.4681 - val_accuracy: 0.7666\n",
      "Epoch 58/100\n",
      " 54/101 [===============>..............] - ETA: 0s - loss: 0.4135 - accuracy: 0.8038\n",
      "Epoch 58: val_accuracy did not improve from 0.77157\n",
      "101/101 [==============================] - 0s 2ms/step - loss: 0.4159 - accuracy: 0.8031 - val_loss: 0.4682 - val_accuracy: 0.7672\n",
      "Epoch 59/100\n",
      " 61/101 [=================>............] - ETA: 0s - loss: 0.4107 - accuracy: 0.8074\n",
      "Epoch 59: val_accuracy did not improve from 0.77157\n",
      "101/101 [==============================] - 0s 2ms/step - loss: 0.4157 - accuracy: 0.8031 - val_loss: 0.4689 - val_accuracy: 0.7678\n",
      "Epoch 60/100\n",
      " 59/101 [================>.............] - ETA: 0s - loss: 0.4165 - accuracy: 0.8035\n",
      "Epoch 60: val_accuracy did not improve from 0.77157\n",
      "101/101 [==============================] - 0s 2ms/step - loss: 0.4160 - accuracy: 0.8031 - val_loss: 0.4688 - val_accuracy: 0.7678\n",
      "Epoch 61/100\n",
      " 74/101 [====================>.........] - ETA: 0s - loss: 0.4148 - accuracy: 0.8076\n",
      "Epoch 61: val_accuracy did not improve from 0.77157\n",
      "101/101 [==============================] - 0s 2ms/step - loss: 0.4157 - accuracy: 0.8039 - val_loss: 0.4692 - val_accuracy: 0.7703\n",
      "Epoch 62/100\n",
      " 52/101 [==============>...............] - ETA: 0s - loss: 0.4100 - accuracy: 0.8107\n",
      "Epoch 62: val_accuracy did not improve from 0.77157\n",
      "101/101 [==============================] - 0s 2ms/step - loss: 0.4157 - accuracy: 0.8033 - val_loss: 0.4720 - val_accuracy: 0.7691\n",
      "Epoch 63/100\n",
      " 72/101 [====================>.........] - ETA: 0s - loss: 0.4164 - accuracy: 0.8040\n",
      "Epoch 63: val_accuracy did not improve from 0.77157\n",
      "101/101 [==============================] - 0s 1ms/step - loss: 0.4163 - accuracy: 0.8020 - val_loss: 0.4697 - val_accuracy: 0.7691\n",
      "Epoch 64/100\n",
      " 79/101 [======================>.......] - ETA: 0s - loss: 0.4104 - accuracy: 0.8083\n",
      "Epoch 64: val_accuracy did not improve from 0.77157\n",
      "101/101 [==============================] - 0s 2ms/step - loss: 0.4155 - accuracy: 0.8040 - val_loss: 0.4657 - val_accuracy: 0.7709\n",
      "Epoch 65/100\n",
      " 72/101 [====================>.........] - ETA: 0s - loss: 0.4169 - accuracy: 0.8025\n",
      "Epoch 65: val_accuracy did not improve from 0.77157\n",
      "101/101 [==============================] - 0s 2ms/step - loss: 0.4158 - accuracy: 0.8045 - val_loss: 0.4715 - val_accuracy: 0.7716\n",
      "Epoch 66/100\n",
      " 63/101 [=================>............] - ETA: 0s - loss: 0.4165 - accuracy: 0.8061\n",
      "Epoch 66: val_accuracy did not improve from 0.77157\n",
      "101/101 [==============================] - 0s 2ms/step - loss: 0.4156 - accuracy: 0.8033 - val_loss: 0.4688 - val_accuracy: 0.7703\n",
      "Epoch 67/100\n",
      " 79/101 [======================>.......] - ETA: 0s - loss: 0.4174 - accuracy: 0.8024\n",
      "Epoch 67: val_accuracy did not improve from 0.77157\n",
      "101/101 [==============================] - 0s 1ms/step - loss: 0.4154 - accuracy: 0.8037 - val_loss: 0.4726 - val_accuracy: 0.7697\n",
      "Epoch 68/100\n",
      " 67/101 [==================>...........] - ETA: 0s - loss: 0.4146 - accuracy: 0.8025\n",
      "Epoch 68: val_accuracy did not improve from 0.77157\n",
      "101/101 [==============================] - 0s 2ms/step - loss: 0.4161 - accuracy: 0.8028 - val_loss: 0.4690 - val_accuracy: 0.7697\n",
      "Epoch 69/100\n",
      " 80/101 [======================>.......] - ETA: 0s - loss: 0.4114 - accuracy: 0.8064\n",
      "Epoch 69: val_accuracy did not improve from 0.77157\n",
      "101/101 [==============================] - 0s 2ms/step - loss: 0.4158 - accuracy: 0.8026 - val_loss: 0.4705 - val_accuracy: 0.7709\n",
      "Epoch 70/100\n",
      " 72/101 [====================>.........] - ETA: 0s - loss: 0.4113 - accuracy: 0.8073\n",
      "Epoch 70: val_accuracy did not improve from 0.77157\n",
      "101/101 [==============================] - 0s 2ms/step - loss: 0.4157 - accuracy: 0.8036 - val_loss: 0.4690 - val_accuracy: 0.7697\n",
      "Epoch 71/100\n",
      " 96/101 [===========================>..] - ETA: 0s - loss: 0.4185 - accuracy: 0.8014\n",
      "Epoch 71: val_accuracy did not improve from 0.77157\n",
      "101/101 [==============================] - 0s 2ms/step - loss: 0.4157 - accuracy: 0.8037 - val_loss: 0.4685 - val_accuracy: 0.7678\n",
      "Epoch 72/100\n",
      " 71/101 [====================>.........] - ETA: 0s - loss: 0.4207 - accuracy: 0.8019\n",
      "Epoch 72: val_accuracy did not improve from 0.77157\n",
      "101/101 [==============================] - 0s 2ms/step - loss: 0.4154 - accuracy: 0.8039 - val_loss: 0.4706 - val_accuracy: 0.7703\n",
      "Epoch 73/100\n",
      " 70/101 [===================>..........] - ETA: 0s - loss: 0.4140 - accuracy: 0.8042\n",
      "Epoch 73: val_accuracy did not improve from 0.77157\n",
      "101/101 [==============================] - 0s 2ms/step - loss: 0.4156 - accuracy: 0.8036 - val_loss: 0.4723 - val_accuracy: 0.7703\n",
      "Epoch 74/100\n",
      " 92/101 [==========================>...] - ETA: 0s - loss: 0.4147 - accuracy: 0.8042\n",
      "Epoch 74: val_accuracy did not improve from 0.77157\n",
      "101/101 [==============================] - 0s 2ms/step - loss: 0.4157 - accuracy: 0.8026 - val_loss: 0.4704 - val_accuracy: 0.7672\n",
      "Epoch 75/100\n",
      " 75/101 [=====================>........] - ETA: 0s - loss: 0.4054 - accuracy: 0.8121\n",
      "Epoch 75: val_accuracy did not improve from 0.77157\n",
      "101/101 [==============================] - 0s 2ms/step - loss: 0.4154 - accuracy: 0.8036 - val_loss: 0.4666 - val_accuracy: 0.7697\n",
      "Epoch 76/100\n",
      " 62/101 [=================>............] - ETA: 0s - loss: 0.4129 - accuracy: 0.8024\n",
      "Epoch 76: val_accuracy did not improve from 0.77157\n",
      "101/101 [==============================] - 0s 2ms/step - loss: 0.4156 - accuracy: 0.8030 - val_loss: 0.4696 - val_accuracy: 0.7691\n",
      "Epoch 77/100\n",
      " 98/101 [============================>.] - ETA: 0s - loss: 0.4133 - accuracy: 0.8053\n",
      "Epoch 77: val_accuracy did not improve from 0.77157\n",
      "101/101 [==============================] - 0s 2ms/step - loss: 0.4156 - accuracy: 0.8031 - val_loss: 0.4713 - val_accuracy: 0.7697\n",
      "Epoch 78/100\n",
      " 66/101 [==================>...........] - ETA: 0s - loss: 0.4169 - accuracy: 0.8049\n",
      "Epoch 78: val_accuracy did not improve from 0.77157\n",
      "101/101 [==============================] - 0s 2ms/step - loss: 0.4154 - accuracy: 0.8039 - val_loss: 0.4695 - val_accuracy: 0.7685\n",
      "Epoch 79/100\n",
      " 73/101 [====================>.........] - ETA: 0s - loss: 0.4211 - accuracy: 0.8031\n",
      "Epoch 79: val_accuracy did not improve from 0.77157\n",
      "101/101 [==============================] - 0s 2ms/step - loss: 0.4155 - accuracy: 0.8039 - val_loss: 0.4697 - val_accuracy: 0.7685\n",
      "Epoch 80/100\n",
      " 49/101 [=============>................] - ETA: 0s - loss: 0.4062 - accuracy: 0.8064\n",
      "Epoch 80: val_accuracy did not improve from 0.77157\n",
      "101/101 [==============================] - 0s 2ms/step - loss: 0.4156 - accuracy: 0.8039 - val_loss: 0.4688 - val_accuracy: 0.7709\n",
      "Epoch 81/100\n",
      " 63/101 [=================>............] - ETA: 0s - loss: 0.4134 - accuracy: 0.8056\n",
      "Epoch 81: val_accuracy did not improve from 0.77157\n",
      "101/101 [==============================] - 0s 2ms/step - loss: 0.4154 - accuracy: 0.8040 - val_loss: 0.4679 - val_accuracy: 0.7703\n",
      "Epoch 82/100\n",
      " 71/101 [====================>.........] - ETA: 0s - loss: 0.4112 - accuracy: 0.8057\n",
      "Epoch 82: val_accuracy did not improve from 0.77157\n",
      "101/101 [==============================] - 0s 2ms/step - loss: 0.4155 - accuracy: 0.8042 - val_loss: 0.4685 - val_accuracy: 0.7697\n",
      "Epoch 83/100\n",
      " 61/101 [=================>............] - ETA: 0s - loss: 0.4275 - accuracy: 0.7974\n",
      "Epoch 83: val_accuracy did not improve from 0.77157\n",
      "101/101 [==============================] - 0s 2ms/step - loss: 0.4152 - accuracy: 0.8039 - val_loss: 0.4731 - val_accuracy: 0.7703\n",
      "Epoch 84/100\n",
      " 69/101 [===================>..........] - ETA: 0s - loss: 0.4141 - accuracy: 0.8041\n",
      "Epoch 84: val_accuracy did not improve from 0.77157\n",
      "101/101 [==============================] - 0s 2ms/step - loss: 0.4153 - accuracy: 0.8047 - val_loss: 0.4730 - val_accuracy: 0.7703\n",
      "Epoch 85/100\n",
      " 66/101 [==================>...........] - ETA: 0s - loss: 0.4085 - accuracy: 0.8042\n",
      "Epoch 85: val_accuracy did not improve from 0.77157\n",
      "101/101 [==============================] - 0s 2ms/step - loss: 0.4155 - accuracy: 0.8037 - val_loss: 0.4678 - val_accuracy: 0.7691\n",
      "Epoch 86/100\n",
      " 51/101 [==============>...............] - ETA: 0s - loss: 0.4148 - accuracy: 0.8113\n",
      "Epoch 86: val_accuracy did not improve from 0.77157\n",
      "101/101 [==============================] - 0s 2ms/step - loss: 0.4156 - accuracy: 0.8043 - val_loss: 0.4698 - val_accuracy: 0.7672\n",
      "Epoch 87/100\n",
      " 53/101 [==============>...............] - ETA: 0s - loss: 0.4186 - accuracy: 0.8019\n",
      "Epoch 87: val_accuracy did not improve from 0.77157\n",
      "101/101 [==============================] - 0s 3ms/step - loss: 0.4155 - accuracy: 0.8030 - val_loss: 0.4697 - val_accuracy: 0.7703\n",
      "Epoch 88/100\n",
      " 87/101 [========================>.....] - ETA: 0s - loss: 0.4130 - accuracy: 0.8059\n",
      "Epoch 88: val_accuracy did not improve from 0.77157\n",
      "101/101 [==============================] - 0s 2ms/step - loss: 0.4155 - accuracy: 0.8033 - val_loss: 0.4708 - val_accuracy: 0.7691\n",
      "Epoch 89/100\n",
      " 56/101 [===============>..............] - ETA: 0s - loss: 0.4068 - accuracy: 0.8119\n",
      "Epoch 89: val_accuracy did not improve from 0.77157\n",
      "101/101 [==============================] - 0s 2ms/step - loss: 0.4154 - accuracy: 0.8053 - val_loss: 0.4671 - val_accuracy: 0.7691\n",
      "Epoch 90/100\n",
      " 62/101 [=================>............] - ETA: 0s - loss: 0.4124 - accuracy: 0.8054\n",
      "Epoch 90: val_accuracy did not improve from 0.77157\n",
      "101/101 [==============================] - 0s 2ms/step - loss: 0.4155 - accuracy: 0.8037 - val_loss: 0.4696 - val_accuracy: 0.7691\n",
      "Epoch 91/100\n",
      " 74/101 [====================>.........] - ETA: 0s - loss: 0.4141 - accuracy: 0.8041\n",
      "Epoch 91: val_accuracy did not improve from 0.77157\n",
      "101/101 [==============================] - 0s 2ms/step - loss: 0.4154 - accuracy: 0.8040 - val_loss: 0.4718 - val_accuracy: 0.7703\n",
      "Epoch 92/100\n",
      " 66/101 [==================>...........] - ETA: 0s - loss: 0.4110 - accuracy: 0.8097\n",
      "Epoch 92: val_accuracy did not improve from 0.77157\n",
      "101/101 [==============================] - 0s 2ms/step - loss: 0.4154 - accuracy: 0.8050 - val_loss: 0.4696 - val_accuracy: 0.7691\n",
      "Epoch 93/100\n",
      " 82/101 [=======================>......] - ETA: 0s - loss: 0.4219 - accuracy: 0.8026\n",
      "Epoch 93: val_accuracy did not improve from 0.77157\n",
      "101/101 [==============================] - 0s 2ms/step - loss: 0.4155 - accuracy: 0.8045 - val_loss: 0.4681 - val_accuracy: 0.7703\n",
      "Epoch 94/100\n",
      " 61/101 [=================>............] - ETA: 0s - loss: 0.4211 - accuracy: 0.8046\n",
      "Epoch 94: val_accuracy did not improve from 0.77157\n",
      "101/101 [==============================] - 0s 2ms/step - loss: 0.4155 - accuracy: 0.8042 - val_loss: 0.4735 - val_accuracy: 0.7709\n",
      "Epoch 95/100\n",
      " 79/101 [======================>.......] - ETA: 0s - loss: 0.4196 - accuracy: 0.8006\n",
      "Epoch 95: val_accuracy did not improve from 0.77157\n",
      "101/101 [==============================] - 0s 1ms/step - loss: 0.4154 - accuracy: 0.8043 - val_loss: 0.4692 - val_accuracy: 0.7697\n",
      "Epoch 96/100\n",
      " 82/101 [=======================>......] - ETA: 0s - loss: 0.4208 - accuracy: 0.8009\n",
      "Epoch 96: val_accuracy did not improve from 0.77157\n",
      "101/101 [==============================] - 0s 1ms/step - loss: 0.4154 - accuracy: 0.8034 - val_loss: 0.4722 - val_accuracy: 0.7703\n",
      "Epoch 97/100\n",
      " 74/101 [====================>.........] - ETA: 0s - loss: 0.4212 - accuracy: 0.8005\n",
      "Epoch 97: val_accuracy did not improve from 0.77157\n",
      "101/101 [==============================] - 0s 2ms/step - loss: 0.4153 - accuracy: 0.8036 - val_loss: 0.4713 - val_accuracy: 0.7703\n",
      "Epoch 98/100\n",
      " 80/101 [======================>.......] - ETA: 0s - loss: 0.4137 - accuracy: 0.8045\n",
      "Epoch 98: val_accuracy did not improve from 0.77157\n",
      "101/101 [==============================] - 0s 1ms/step - loss: 0.4153 - accuracy: 0.7997 - val_loss: 0.4691 - val_accuracy: 0.7697\n",
      "Epoch 99/100\n",
      " 79/101 [======================>.......] - ETA: 0s - loss: 0.4189 - accuracy: 0.8026\n",
      "Epoch 99: val_accuracy did not improve from 0.77157\n",
      "101/101 [==============================] - 0s 2ms/step - loss: 0.4156 - accuracy: 0.8031 - val_loss: 0.4702 - val_accuracy: 0.7685\n",
      "Epoch 100/100\n",
      " 71/101 [====================>.........] - ETA: 0s - loss: 0.4172 - accuracy: 0.7978\n",
      "Epoch 100: val_accuracy did not improve from 0.77157\n",
      "101/101 [==============================] - 0s 2ms/step - loss: 0.4151 - accuracy: 0.8026 - val_loss: 0.4683 - val_accuracy: 0.7697\n"
     ]
    }
   ],
   "source": [
    "H=model.fit(x_train,y_train,\n",
    "          validation_split=0.2,\n",
    "          epochs=100,batch_size=64,\n",
    "          callbacks=callbacks_list,\n",
    "          verbose=1)"
   ]
  },
  {
   "cell_type": "code",
   "execution_count": 57,
   "metadata": {},
   "outputs": [
    {
     "name": "stdout",
     "output_type": "stream",
     "text": [
      "108/108 [==============================] - 0s 524us/step\n",
      "1720 1368\n"
     ]
    }
   ],
   "source": [
    "model=load_model('../Model/NN2/tmp/29-0.7716.h5', compile=False)\n",
    "count=0\n",
    "count1=0\n",
    "y_pred=model.predict(x_test)\n",
    "for i in range(y_pred.shape[0]):\n",
    "    if y_test[i]==1:\n",
    "        count+=1\n",
    "        if y_pred[i]>=0.5:\n",
    "            count1+=1\n",
    "print(count,count1)"
   ]
  },
  {
   "cell_type": "code",
   "execution_count": 6,
   "metadata": {},
   "outputs": [],
   "source": [
    "np.save('../x_text.npy',x_test)\n",
    "np.save('../y_test.npy',y_test)"
   ]
  },
  {
   "cell_type": "markdown",
   "metadata": {},
   "source": [
    "## GDA"
   ]
  },
  {
   "cell_type": "code",
   "execution_count": 20,
   "metadata": {},
   "outputs": [
    {
     "name": "stdout",
     "output_type": "stream",
     "text": [
      "Accuracy: 96.15%\n"
     ]
    }
   ],
   "source": [
    "import numpy as np\n",
    "from scipy.stats import multivariate_normal\n",
    "\n",
    "class GaussianDiscriminantAnalysis:\n",
    "    def fit(self, X, y):\n",
    "        self.classes = np.unique(y)\n",
    "        self.class_priors = np.array([np.mean(y == c) for c in self.classes])\n",
    "\n",
    "        self.means = []\n",
    "        self.cov_matrices = []\n",
    "        for c in self.classes:\n",
    "            X_c = X[y == c]\n",
    "            mean_c = np.mean(X_c, axis=0)\n",
    "            cov_matrix_c = np.cov(X_c, rowvar=False)\n",
    "            self.means.append(mean_c)\n",
    "            self.cov_matrices.append(cov_matrix_c)\n",
    "\n",
    "    def predict(self, X):\n",
    "        posteriors = []\n",
    "\n",
    "        for c in self.classes:\n",
    "            class_prior = self.class_priors[int(c)]\n",
    "            mean = self.means[int(c)]\n",
    "            cov_matrix = self.cov_matrices[int(c)]\n",
    "            mvn = multivariate_normal(mean=mean, cov=cov_matrix)\n",
    "            posterior = class_prior * mvn.pdf(X)\n",
    "            posteriors.append(posterior)\n",
    "\n",
    "        posteriors = np.array(posteriors).T\n",
    "        predicted_labels = np.argmax(posteriors, axis=1)\n",
    "\n",
    "        return predicted_labels\n",
    "\n",
    "\n",
    "\n",
    "# Initialize and train GDA\n",
    "gda = GaussianDiscriminantAnalysis()\n",
    "gda.fit(x_train, y_train)\n",
    "\n",
    "# Make predictions\n",
    "y_pred = gda.predict(x_train)\n",
    "# Calculate accuracy\n",
    "accuracy = np.mean(y_pred == y_train)\n",
    "print(f\"Accuracy: {accuracy * 100:.2f}%\")"
   ]
  },
  {
   "cell_type": "markdown",
   "metadata": {},
   "source": [
    "## RNN"
   ]
  },
  {
   "cell_type": "code",
   "execution_count": 48,
   "metadata": {},
   "outputs": [
    {
     "name": "stdout",
     "output_type": "stream",
     "text": [
      "Min: -32291.412, Max: 28569.142\n",
      "Min: 0.254, Max: 0.718\n"
     ]
    }
   ],
   "source": [
    "min,max= -(2**16),(2**16)\n",
    "print('Min: %.3f, Max: %.3f' % (x.min(), x.max()))\n",
    "x= (x-min)/(max-min)\n",
    "print('Min: %.3f, Max: %.3f' % (x.min(), x.max()))"
   ]
  },
  {
   "cell_type": "code",
   "execution_count": 49,
   "metadata": {},
   "outputs": [
    {
     "name": "stdout",
     "output_type": "stream",
     "text": [
      "(8400, 200, 20)\n",
      "4233.0\n"
     ]
    }
   ],
   "source": [
    "st,ed=700,2700\n",
    "x_train, x_test, y_train, y_test = train_test_split(x[:,st:ed,:], y, test_size=0.30, random_state=45)\n",
    "x_train=x_train.reshape((x_train.shape[0],200,20))\n",
    "x_test=x_test.reshape((x_test.shape[0],200,20))\n",
    "print(x_train.shape)\n",
    "print(y_train.sum())"
   ]
  },
  {
   "cell_type": "code",
   "execution_count": 61,
   "metadata": {},
   "outputs": [],
   "source": [
    "def rnn():\n",
    "    model=Sequential()\n",
    "    model.add(Input(shape=(200,20)))\n",
    "    model.add(layers.LSTM(units=16, return_sequences=True))\n",
    "    model.add(layers.LSTM(units=8, return_sequences=True))\n",
    "    model.add(layers.LSTM(units=4, return_sequences=False))\n",
    "#     model.add(layers.Dense(4,activation='relu'))\n",
    "    model.add(layers.Dense(1,activation='sigmoid'))\n",
    "    return model"
   ]
  },
  {
   "cell_type": "code",
   "execution_count": 62,
   "metadata": {},
   "outputs": [
    {
     "name": "stdout",
     "output_type": "stream",
     "text": [
      "Model: \"sequential_11\"\n",
      "_________________________________________________________________\n",
      " Layer (type)                Output Shape              Param #   \n",
      "=================================================================\n",
      " lstm_29 (LSTM)              (None, 200, 16)           2368      \n",
      "                                                                 \n",
      " lstm_30 (LSTM)              (None, 200, 8)            800       \n",
      "                                                                 \n",
      " lstm_31 (LSTM)              (None, 4)                 208       \n",
      "                                                                 \n",
      " dense_11 (Dense)            (None, 1)                 5         \n",
      "                                                                 \n",
      "=================================================================\n",
      "Total params: 3381 (13.21 KB)\n",
      "Trainable params: 3381 (13.21 KB)\n",
      "Non-trainable params: 0 (0.00 Byte)\n",
      "_________________________________________________________________\n"
     ]
    }
   ],
   "source": [
    "model=rnn()\n",
    "model.summary()\n",
    "opt=SGD( learning_rate=0.001, momentum=0.9)\n",
    "model.compile(loss=binary_crossentropy, optimizer='adam', metrics=['accuracy'])\n",
    "model_path=\"../Model/RNN_new/{epoch:02d}-{val_accuracy:.4f}.h5\"\n",
    "checkpoint = ModelCheckpoint(model_path, monitor='val_accuracy', verbose=1, save_best_only=True, mode='max')\n",
    "callbacks_list = [checkpoint]"
   ]
  },
  {
   "cell_type": "code",
   "execution_count": 64,
   "metadata": {},
   "outputs": [
    {
     "name": "stdout",
     "output_type": "stream",
     "text": [
      "Epoch 1/200\n"
     ]
    },
    {
     "name": "stderr",
     "output_type": "stream",
     "text": [
      "2023-10-12 14:58:39.275865: E tensorflow/compiler/xla/stream_executor/cuda/cuda_dnn.cc:425] Loaded runtime CuDNN library: 8.3.2 but source was compiled with: 8.6.0.  CuDNN library needs to have matching major version and equal or higher minor version. If using a binary install, upgrade your CuDNN library.  If building from sources, make sure the library loaded at runtime is compatible with the version specified during compile configuration.\n",
      "2023-10-12 14:58:39.276790: W tensorflow/core/framework/op_kernel.cc:1828] OP_REQUIRES failed at cudnn_rnn_ops.cc:1762 : UNKNOWN: Fail to find the dnn implementation.\n"
     ]
    },
    {
     "ename": "UnknownError",
     "evalue": "Graph execution error:\n\nFail to find the dnn implementation.\n\t [[{{node CudnnRNN}}]]\n\t [[sequential_11/lstm_29/PartitionedCall]] [Op:__inference_train_function_29808]",
     "output_type": "error",
     "traceback": [
      "\u001b[0;31m---------------------------------------------------------------------------\u001b[0m",
      "\u001b[0;31mUnknownError\u001b[0m                              Traceback (most recent call last)",
      "Cell \u001b[0;32mIn[64], line 2\u001b[0m\n\u001b[1;32m      1\u001b[0m \u001b[38;5;66;03m# with tf.device(\"/gpu:0\"):\u001b[39;00m\n\u001b[0;32m----> 2\u001b[0m H\u001b[38;5;241m=\u001b[39m\u001b[43mmodel\u001b[49m\u001b[38;5;241;43m.\u001b[39;49m\u001b[43mfit\u001b[49m\u001b[43m(\u001b[49m\u001b[43mx_train\u001b[49m\u001b[43m,\u001b[49m\u001b[43my_train\u001b[49m\u001b[43m,\u001b[49m\n\u001b[1;32m      3\u001b[0m \u001b[43m        \u001b[49m\u001b[43mvalidation_data\u001b[49m\u001b[38;5;241;43m=\u001b[39;49m\u001b[43m(\u001b[49m\u001b[43mx_test\u001b[49m\u001b[43m,\u001b[49m\u001b[43m \u001b[49m\u001b[43my_test\u001b[49m\u001b[43m)\u001b[49m\u001b[43m,\u001b[49m\n\u001b[1;32m      4\u001b[0m \u001b[43m        \u001b[49m\u001b[43mepochs\u001b[49m\u001b[38;5;241;43m=\u001b[39;49m\u001b[38;5;241;43m200\u001b[39;49m\u001b[43m,\u001b[49m\u001b[43mbatch_size\u001b[49m\u001b[38;5;241;43m=\u001b[39;49m\u001b[38;5;241;43m32\u001b[39;49m\u001b[43m,\u001b[49m\n\u001b[1;32m      5\u001b[0m \u001b[43m        \u001b[49m\u001b[43mcallbacks\u001b[49m\u001b[38;5;241;43m=\u001b[39;49m\u001b[43mcallbacks_list\u001b[49m\u001b[43m,\u001b[49m\n\u001b[1;32m      6\u001b[0m \u001b[43m        \u001b[49m\u001b[43mverbose\u001b[49m\u001b[38;5;241;43m=\u001b[39;49m\u001b[38;5;241;43m1\u001b[39;49m\u001b[43m)\u001b[49m\n",
      "File \u001b[0;32m~/.conda/envs/readout/lib/python3.8/site-packages/keras/src/utils/traceback_utils.py:70\u001b[0m, in \u001b[0;36mfilter_traceback.<locals>.error_handler\u001b[0;34m(*args, **kwargs)\u001b[0m\n\u001b[1;32m     67\u001b[0m     filtered_tb \u001b[38;5;241m=\u001b[39m _process_traceback_frames(e\u001b[38;5;241m.\u001b[39m__traceback__)\n\u001b[1;32m     68\u001b[0m     \u001b[38;5;66;03m# To get the full stack trace, call:\u001b[39;00m\n\u001b[1;32m     69\u001b[0m     \u001b[38;5;66;03m# `tf.debugging.disable_traceback_filtering()`\u001b[39;00m\n\u001b[0;32m---> 70\u001b[0m     \u001b[38;5;28;01mraise\u001b[39;00m e\u001b[38;5;241m.\u001b[39mwith_traceback(filtered_tb) \u001b[38;5;28;01mfrom\u001b[39;00m \u001b[38;5;28;01mNone\u001b[39;00m\n\u001b[1;32m     71\u001b[0m \u001b[38;5;28;01mfinally\u001b[39;00m:\n\u001b[1;32m     72\u001b[0m     \u001b[38;5;28;01mdel\u001b[39;00m filtered_tb\n",
      "File \u001b[0;32m~/.conda/envs/readout/lib/python3.8/site-packages/tensorflow/python/eager/execute.py:53\u001b[0m, in \u001b[0;36mquick_execute\u001b[0;34m(op_name, num_outputs, inputs, attrs, ctx, name)\u001b[0m\n\u001b[1;32m     51\u001b[0m \u001b[38;5;28;01mtry\u001b[39;00m:\n\u001b[1;32m     52\u001b[0m   ctx\u001b[38;5;241m.\u001b[39mensure_initialized()\n\u001b[0;32m---> 53\u001b[0m   tensors \u001b[38;5;241m=\u001b[39m pywrap_tfe\u001b[38;5;241m.\u001b[39mTFE_Py_Execute(ctx\u001b[38;5;241m.\u001b[39m_handle, device_name, op_name,\n\u001b[1;32m     54\u001b[0m                                       inputs, attrs, num_outputs)\n\u001b[1;32m     55\u001b[0m \u001b[38;5;28;01mexcept\u001b[39;00m core\u001b[38;5;241m.\u001b[39m_NotOkStatusException \u001b[38;5;28;01mas\u001b[39;00m e:\n\u001b[1;32m     56\u001b[0m   \u001b[38;5;28;01mif\u001b[39;00m name \u001b[38;5;129;01mis\u001b[39;00m \u001b[38;5;129;01mnot\u001b[39;00m \u001b[38;5;28;01mNone\u001b[39;00m:\n",
      "\u001b[0;31mUnknownError\u001b[0m: Graph execution error:\n\nFail to find the dnn implementation.\n\t [[{{node CudnnRNN}}]]\n\t [[sequential_11/lstm_29/PartitionedCall]] [Op:__inference_train_function_29808]"
     ]
    }
   ],
   "source": [
    "with tf.device(\"/gpu:0\"):\n",
    "    H=model.fit(x_train,y_train,\n",
    "            validation_data=(x_test, y_test),\n",
    "            epochs=200,batch_size=32,\n",
    "            callbacks=callbacks_list,\n",
    "            verbose=1)"
   ]
  },
  {
   "cell_type": "markdown",
   "metadata": {},
   "source": [
    "## HLS4ML"
   ]
  },
  {
   "cell_type": "code",
   "execution_count": 3,
   "metadata": {},
   "outputs": [
    {
     "name": "stderr",
     "output_type": "stream",
     "text": [
      "cat: /etc/lsb-release: No such file or directory\n"
     ]
    },
    {
     "ename": "CalledProcessError",
     "evalue": "Command 'b'cat /etc/lsb-release\\n'' returned non-zero exit status 1.",
     "output_type": "error",
     "traceback": [
      "\u001b[0;31m---------------------------------------------------------------------------\u001b[0m",
      "\u001b[0;31mCalledProcessError\u001b[0m                        Traceback (most recent call last)",
      "Cell \u001b[0;32mIn[3], line 1\u001b[0m\n\u001b[0;32m----> 1\u001b[0m \u001b[43mget_ipython\u001b[49m\u001b[43m(\u001b[49m\u001b[43m)\u001b[49m\u001b[38;5;241;43m.\u001b[39;49m\u001b[43mrun_cell_magic\u001b[49m\u001b[43m(\u001b[49m\u001b[38;5;124;43m'\u001b[39;49m\u001b[38;5;124;43mbash\u001b[39;49m\u001b[38;5;124;43m'\u001b[39;49m\u001b[43m,\u001b[49m\u001b[43m \u001b[49m\u001b[38;5;124;43m'\u001b[39;49m\u001b[38;5;124;43m'\u001b[39;49m\u001b[43m,\u001b[49m\u001b[43m \u001b[49m\u001b[38;5;124;43m'\u001b[39;49m\u001b[38;5;124;43mcat /etc/lsb-release\u001b[39;49m\u001b[38;5;130;43;01m\\n\u001b[39;49;00m\u001b[38;5;124;43m'\u001b[39;49m\u001b[43m)\u001b[49m\n",
      "File \u001b[0;32m/global/common/software/nersc/pm-2022q4/sw/tensorflow/2.12.0/lib/python3.9/site-packages/IPython/core/interactiveshell.py:2478\u001b[0m, in \u001b[0;36mInteractiveShell.run_cell_magic\u001b[0;34m(self, magic_name, line, cell)\u001b[0m\n\u001b[1;32m   2476\u001b[0m \u001b[38;5;28;01mwith\u001b[39;00m \u001b[38;5;28mself\u001b[39m\u001b[38;5;241m.\u001b[39mbuiltin_trap:\n\u001b[1;32m   2477\u001b[0m     args \u001b[38;5;241m=\u001b[39m (magic_arg_s, cell)\n\u001b[0;32m-> 2478\u001b[0m     result \u001b[38;5;241m=\u001b[39m \u001b[43mfn\u001b[49m\u001b[43m(\u001b[49m\u001b[38;5;241;43m*\u001b[39;49m\u001b[43margs\u001b[49m\u001b[43m,\u001b[49m\u001b[43m \u001b[49m\u001b[38;5;241;43m*\u001b[39;49m\u001b[38;5;241;43m*\u001b[39;49m\u001b[43mkwargs\u001b[49m\u001b[43m)\u001b[49m\n\u001b[1;32m   2480\u001b[0m \u001b[38;5;66;03m# The code below prevents the output from being displayed\u001b[39;00m\n\u001b[1;32m   2481\u001b[0m \u001b[38;5;66;03m# when using magics with decodator @output_can_be_silenced\u001b[39;00m\n\u001b[1;32m   2482\u001b[0m \u001b[38;5;66;03m# when the last Python token in the expression is a ';'.\u001b[39;00m\n\u001b[1;32m   2483\u001b[0m \u001b[38;5;28;01mif\u001b[39;00m \u001b[38;5;28mgetattr\u001b[39m(fn, magic\u001b[38;5;241m.\u001b[39mMAGIC_OUTPUT_CAN_BE_SILENCED, \u001b[38;5;28;01mFalse\u001b[39;00m):\n",
      "File \u001b[0;32m/global/common/software/nersc/pm-2022q4/sw/tensorflow/2.12.0/lib/python3.9/site-packages/IPython/core/magics/script.py:153\u001b[0m, in \u001b[0;36mScriptMagics._make_script_magic.<locals>.named_script_magic\u001b[0;34m(line, cell)\u001b[0m\n\u001b[1;32m    151\u001b[0m \u001b[38;5;28;01melse\u001b[39;00m:\n\u001b[1;32m    152\u001b[0m     line \u001b[38;5;241m=\u001b[39m script\n\u001b[0;32m--> 153\u001b[0m \u001b[38;5;28;01mreturn\u001b[39;00m \u001b[38;5;28;43mself\u001b[39;49m\u001b[38;5;241;43m.\u001b[39;49m\u001b[43mshebang\u001b[49m\u001b[43m(\u001b[49m\u001b[43mline\u001b[49m\u001b[43m,\u001b[49m\u001b[43m \u001b[49m\u001b[43mcell\u001b[49m\u001b[43m)\u001b[49m\n",
      "File \u001b[0;32m/global/common/software/nersc/pm-2022q4/sw/tensorflow/2.12.0/lib/python3.9/site-packages/IPython/core/magics/script.py:305\u001b[0m, in \u001b[0;36mScriptMagics.shebang\u001b[0;34m(self, line, cell)\u001b[0m\n\u001b[1;32m    300\u001b[0m \u001b[38;5;28;01mif\u001b[39;00m args\u001b[38;5;241m.\u001b[39mraise_error \u001b[38;5;129;01mand\u001b[39;00m p\u001b[38;5;241m.\u001b[39mreturncode \u001b[38;5;241m!=\u001b[39m \u001b[38;5;241m0\u001b[39m:\n\u001b[1;32m    301\u001b[0m     \u001b[38;5;66;03m# If we get here and p.returncode is still None, we must have\u001b[39;00m\n\u001b[1;32m    302\u001b[0m     \u001b[38;5;66;03m# killed it but not yet seen its return code. We don't wait for it,\u001b[39;00m\n\u001b[1;32m    303\u001b[0m     \u001b[38;5;66;03m# in case it's stuck in uninterruptible sleep. -9 = SIGKILL\u001b[39;00m\n\u001b[1;32m    304\u001b[0m     rc \u001b[38;5;241m=\u001b[39m p\u001b[38;5;241m.\u001b[39mreturncode \u001b[38;5;129;01mor\u001b[39;00m \u001b[38;5;241m-\u001b[39m\u001b[38;5;241m9\u001b[39m\n\u001b[0;32m--> 305\u001b[0m     \u001b[38;5;28;01mraise\u001b[39;00m CalledProcessError(rc, cell)\n",
      "\u001b[0;31mCalledProcessError\u001b[0m: Command 'b'cat /etc/lsb-release\\n'' returned non-zero exit status 1."
     ]
    }
   ],
   "source": [
    "%%bash\n",
    "cat /etc/lsb-release"
   ]
  },
  {
   "cell_type": "code",
   "execution_count": 5,
   "metadata": {},
   "outputs": [
    {
     "data": {
      "text/plain": [
       "'/global/homes/n/nrvora/.local/perlmutter/tensorflow2.12.0/bin:/global/common/software/nersc/pm-2022q4/sw/tensorflow/2.12.0/bin:/global/common/software/nersc/pm-2022q4/sw/evp-patch/bin:/global/homes/n/nrvora/.conda/envs/readout/bin:/global/common/software/nersc/pe/conda/23.9.0/Miniconda3-py311_23.5.2-0/condabin:/global/u1/n/nrvora/.vscode-server/bin/f1b07bd25dfad64b0167beb15359ae573aecd2cc/bin/remote-cli:/opt/nersc/pe/bin:/global/common/software/nersc/bin:/global/common/software/nersc/pm-2021q4/easybuild/software/Nsight-Systems/2022.2.1:/global/common/software/nersc/pm-2021q4/easybuild/software/Nsight-Systems/2022.2.1/bin:/global/common/software/nersc/pm-2021q4/easybuild/software/Nsight-Compute/2022.1.1:/opt/nvidia/hpc_sdk/Linux_x86_64/22.7/cuda/11.7/compute-sanitizer:/opt/nvidia/hpc_sdk/Linux_x86_64/22.7/cuda/11.7/bin:/opt/nvidia/hpc_sdk/Linux_x86_64/22.7/cuda/11.7/libnvvp:/opt/nvidia/hpc_sdk/Linux_x86_64/22.7/profilers/Nsight_Compute:/opt/nvidia/hpc_sdk/Linux_x86_64/22.7/profilers/Nsight_Systems/bin:/opt/cray/pe/perftools/23.03.0/bin:/opt/cray/pe/papi/7.0.0.1/bin:/opt/cray/pe/gcc/11.2.0/bin:/opt/cray/pe/craype/2.7.20/bin:/opt/cray/pe/mpich/8.1.25/ofi/gnu/9.1/bin:/opt/cray/pe/mpich/8.1.25/bin:/opt/cray/libfabric/1.15.2.0/bin:/usr/local/bin:/usr/bin:/bin:/usr/lib/mit/bin:/opt/cray/pe/bin'"
      ]
     },
     "execution_count": 5,
     "metadata": {},
     "output_type": "execute_result"
    }
   ],
   "source": [
    "import os\n",
    "\n",
    "os.environ['PATH'] "
   ]
  },
  {
   "cell_type": "code",
   "execution_count": null,
   "metadata": {},
   "outputs": [],
   "source": []
  }
 ],
 "metadata": {
  "kernelspec": {
   "display_name": "readout-jupyter",
   "language": "python",
   "name": "readout-jupyter"
  },
  "language_info": {
   "codemirror_mode": {
    "name": "ipython",
    "version": 3
   },
   "file_extension": ".py",
   "mimetype": "text/x-python",
   "name": "python",
   "nbconvert_exporter": "python",
   "pygments_lexer": "ipython3",
   "version": "3.8.10"
  }
 },
 "nbformat": 4,
 "nbformat_minor": 4
}
