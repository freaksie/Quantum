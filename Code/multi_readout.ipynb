{
 "cells": [
  {
   "cell_type": "code",
   "execution_count": 1,
   "metadata": {},
   "outputs": [
    {
     "name": "stderr",
     "output_type": "stream",
     "text": [
      "2023-12-18 15:09:23.576035: I tensorflow/core/platform/cpu_feature_guard.cc:182] This TensorFlow binary is optimized to use available CPU instructions in performance-critical operations.\n",
      "To enable the following instructions: AVX2 FMA, in other operations, rebuild TensorFlow with the appropriate compiler flags.\n",
      "2023-12-18 15:09:25.695224: W tensorflow/compiler/tf2tensorrt/utils/py_utils.cc:38] TF-TRT Warning: Could not find TensorRT\n"
     ]
    }
   ],
   "source": [
    "import numpy as np\n",
    "import matplotlib.pyplot as plt\n",
    "from sklearn.svm import SVC\n",
    "from sklearn.linear_model import LogisticRegression\n",
    "from sklearn.mixture import GaussianMixture\n",
    "from sklearn.model_selection import train_test_split\n",
    "import tensorflow as tf\n",
    "from keras.models import Sequential,load_model\n",
    "from keras import layers,Input\n",
    "from keras.losses import binary_crossentropy\n",
    "from keras.layers import Dense\n",
    "from keras.optimizers import SGD\n",
    "from keras.callbacks import ModelCheckpoint\n",
    "import keras.backend as K"
   ]
  },
  {
   "cell_type": "code",
   "execution_count": 2,
   "metadata": {},
   "outputs": [
    {
     "name": "stdout",
     "output_type": "stream",
     "text": [
      "(19150,) (19395,)\n"
     ]
    }
   ],
   "source": [
    "state0_1,state1_1=np.load('../Data/ML/121623/state0_1.npy'),np.load('../Data/ML/121623/state1_1.npy')\n",
    "state0_2,state1_2=np.load('../Data/ML/121623/state0_2.npy'),np.load('../Data/ML/121623/state1_2.npy')\n",
    "state0_3,state1_3=np.load('../Data/ML/121623/state0_3.npy'),np.load('../Data/ML/121623/state1_3.npy')\n",
    "output0=np.zeros((state0_1.shape[0]))\n",
    "output1=np.ones((state1_1.shape[0]))\n",
    "print(output0.shape,output1.shape)"
   ]
  },
  {
   "cell_type": "code",
   "execution_count": 3,
   "metadata": {},
   "outputs": [
    {
     "name": "stdout",
     "output_type": "stream",
     "text": [
      "(38545, 2, 3)\n",
      "(38545,)\n"
     ]
    }
   ],
   "source": [
    "x=np.stack((np.vstack((state0_1,state1_1)),np.vstack((state0_2,state1_2)),np.vstack((state0_3,state1_3))),axis=2)\n",
    "print(x.shape)\n",
    "y=np.hstack((output0,output1))\n",
    "print(y.shape)"
   ]
  },
  {
   "cell_type": "code",
   "execution_count": 4,
   "metadata": {},
   "outputs": [
    {
     "name": "stdout",
     "output_type": "stream",
     "text": [
      "[1.13417899]\n",
      "[0.56707478]\n",
      "[0.56707478]\n",
      "X shape: (38545, 1)\n"
     ]
    },
    {
     "data": {
      "image/png": "[encoded data removed]",
      "text/plain": [
       "<Figure size 640x480 with 1 Axes>"
      ]
     },
     "metadata": {},
     "output_type": "display_data"
    }
   ],
   "source": [
    "from sklearn.decomposition import PCA\n",
    "from sklearn.preprocessing import StandardScaler\n",
    "\n",
    "sc = StandardScaler()\n",
    "X= sc.fit_transform(x[:,:,0])\n",
    "# X_test = sc.transform(x_test)\n",
    "pca = PCA(n_components = 1)\n",
    "X = pca.fit_transform(X)\n",
    "print (pca.explained_variance_)\n",
    "print (pca.explained_variance_ratio_)\n",
    "print (pca.explained_variance_ratio_.cumsum())\n",
    "# X_test = pca.transform(X_test)\n",
    "print(\"X shape: {}\".format(X.shape))\n",
    "x_red =X[y[:] == 1, 0]  # Use y[:, 0] for indexing\n",
    "x_blue = X[y[:] == 0, 0] \n",
    "\n",
    "# Create a histogram with two different colors\n",
    "plt.hist(x_blue, bins=50, color='blue', alpha=0.7, label='y=0')\n",
    "plt.hist(x_red, bins=50, color='red', alpha=0.7, label='y=1')\n",
    "# Add labels and legend\n",
    "plt.xlabel('Scaled values')\n",
    "plt.ylabel('Frequency')\n",
    "plt.legend()\n",
    "\n",
    "# Show the plot\n",
    "plt.show()"
   ]
  },
  {
   "cell_type": "code",
   "execution_count": 4,
   "metadata": {},
   "outputs": [
    {
     "name": "stdout",
     "output_type": "stream",
     "text": [
      "(7709, 2) (7709,)\n"
     ]
    }
   ],
   "source": [
    "x_train, x_test, y_train, y_test = train_test_split(x, y, test_size=0.80, random_state=45)\n",
    "x1_train,x2_train,x3_train=x_train[:,:,0],x_train[:,:,1],x_train[:,:,2]\n",
    "x1_test,x2_test,x3_test=x_test[:,:,0],x_test[:,:,1],x_test[:,:,2]\n",
    "print(x1_train.shape,y_train.shape)"
   ]
  },
  {
   "cell_type": "markdown",
   "metadata": {},
   "source": [
    "## Model1"
   ]
  },
  {
   "cell_type": "code",
   "execution_count": 5,
   "metadata": {},
   "outputs": [
    {
     "name": "stdout",
     "output_type": "stream",
     "text": [
      "0.9787585938513426\n"
     ]
    }
   ],
   "source": [
    "classifier = LogisticRegression(random_state = 42, max_iter=500)\n",
    "classifier.fit(x1_train, y_train)\n",
    "print(classifier.score(x1_test,y_test))\n",
    "pred1 = classifier.predict(x1_test)"
   ]
  },
  {
   "cell_type": "code",
   "execution_count": 9,
   "metadata": {},
   "outputs": [
    {
     "name": "stdout",
     "output_type": "stream",
     "text": [
      "15372 15262\n",
      "0.9928441321883945\n",
      "15464 14919\n",
      "0.9647568546301086\n"
     ]
    }
   ],
   "source": [
    "count=0\n",
    "count1=0\n",
    "for i in range(y_test.shape[0]):\n",
    "    if y_test[i]==0:\n",
    "        count+=1\n",
    "        if pred1[i] == 0:\n",
    "            count1+=1\n",
    "print(count,count1)\n",
    "print(count1/count)\n",
    "\n",
    "count=0\n",
    "count1=0\n",
    "for i in range(y_test.shape[0]):\n",
    "    if y_test[i]==1:\n",
    "        count+=1\n",
    "        if (pred1[i]) ==1:\n",
    "            count1+=1\n",
    "print(count,count1)\n",
    "print(count1/count)"
   ]
  },
  {
   "cell_type": "markdown",
   "metadata": {},
   "source": [
    "## Model2"
   ]
  },
  {
   "cell_type": "code",
   "execution_count": 6,
   "metadata": {},
   "outputs": [
    {
     "name": "stdout",
     "output_type": "stream",
     "text": [
      "0.957809054352056\n"
     ]
    }
   ],
   "source": [
    "classifier = LogisticRegression(random_state = 42, max_iter=500)\n",
    "classifier.fit(x2_train, y_train)\n",
    "print(classifier.score(x2_test,y_test))\n",
    "pred2 = classifier.predict(x2_test)"
   ]
  },
  {
   "cell_type": "code",
   "execution_count": 10,
   "metadata": {},
   "outputs": [
    {
     "name": "stdout",
     "output_type": "stream",
     "text": [
      "15372 15257\n",
      "0.9925188654696852\n",
      "15464 14278\n",
      "0.923305742369374\n"
     ]
    }
   ],
   "source": [
    "count=0\n",
    "count1=0\n",
    "for i in range(y_test.shape[0]):\n",
    "    if y_test[i]==0:\n",
    "        count+=1\n",
    "        if pred2[i] == 0:\n",
    "            count1+=1\n",
    "print(count,count1)\n",
    "print(count1/count)\n",
    "\n",
    "count=0\n",
    "count1=0\n",
    "for i in range(y_test.shape[0]):\n",
    "    if y_test[i]==1:\n",
    "        count+=1\n",
    "        if (pred2[i]) ==1:\n",
    "            count1+=1\n",
    "print(count,count1)\n",
    "print(count1/count)"
   ]
  },
  {
   "cell_type": "markdown",
   "metadata": {},
   "source": [
    "## Model3"
   ]
  },
  {
   "cell_type": "code",
   "execution_count": 7,
   "metadata": {},
   "outputs": [
    {
     "name": "stdout",
     "output_type": "stream",
     "text": [
      "0.937216240757556\n"
     ]
    }
   ],
   "source": [
    "classifier = LogisticRegression(random_state = 42, max_iter=500)\n",
    "classifier.fit(x3_train, y_train)\n",
    "print(classifier.score(x3_test,y_test))\n",
    "pred3 = classifier.predict(x3_test)"
   ]
  },
  {
   "cell_type": "code",
   "execution_count": 11,
   "metadata": {},
   "outputs": [
    {
     "name": "stdout",
     "output_type": "stream",
     "text": [
      "15372 15247\n",
      "0.9918683320322664\n",
      "15464 13653\n",
      "0.8828892912571132\n"
     ]
    }
   ],
   "source": [
    "count=0\n",
    "count1=0\n",
    "for i in range(y_test.shape[0]):\n",
    "    if y_test[i]==0:\n",
    "        count+=1\n",
    "        if pred3[i] == 0:\n",
    "            count1+=1\n",
    "print(count,count1)\n",
    "print(count1/count)\n",
    "\n",
    "count=0\n",
    "count1=0\n",
    "for i in range(y_test.shape[0]):\n",
    "    if y_test[i]==1:\n",
    "        count+=1\n",
    "        if (pred3[i]) ==1:\n",
    "            count1+=1\n",
    "print(count,count1)\n",
    "print(count1/count)"
   ]
  },
  {
   "cell_type": "markdown",
   "metadata": {},
   "source": [
    "## Majority Voting"
   ]
  },
  {
   "cell_type": "code",
   "execution_count": 8,
   "metadata": {},
   "outputs": [
    {
     "name": "stdout",
     "output_type": "stream",
     "text": [
      "15372 15321\n",
      "0.9966822794691648\n",
      "15464 14329\n",
      "0.9266037247801345\n"
     ]
    }
   ],
   "source": [
    "count=0\n",
    "count1=0\n",
    "for i in range(y_test.shape[0]):\n",
    "    if y_test[i]==0:\n",
    "        count+=1\n",
    "        if (pred1[i] + pred2[i] + pred3[i]) < 2:\n",
    "            count1+=1\n",
    "print(count,count1)\n",
    "print(count1/count)\n",
    "\n",
    "count=0\n",
    "count1=0\n",
    "for i in range(y_test.shape[0]):\n",
    "    if y_test[i]==1:\n",
    "        count+=1\n",
    "        if (pred1[i] + pred2[i] + pred3[i]) >=2:\n",
    "            count1+=1\n",
    "print(count,count1)\n",
    "print(count1/count)"
   ]
  }
 ],
 "metadata": {
  "kernelspec": {
   "display_name": "readout",
   "language": "python",
   "name": "readout"
  },
  "language_info": {
   "codemirror_mode": {
    "name": "ipython",
    "version": 3
   },
   "file_extension": ".py",
   "mimetype": "text/x-python",
   "name": "python",
   "nbconvert_exporter": "python",
   "pygments_lexer": "ipython3",
   "version": "3.8.10"
  }
 },
 "nbformat": 4,
 "nbformat_minor": 2
}
