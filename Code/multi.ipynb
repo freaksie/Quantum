{
 "cells": [
  {
   "cell_type": "code",
   "execution_count": 2,
   "metadata": {},
   "outputs": [],
   "source": [
    "import numpy as np\n",
    "import matplotlib.pyplot as plt\n",
    "from sklearn.svm import SVC\n",
    "from sklearn.linear_model import LogisticRegression\n",
    "from sklearn.mixture import GaussianMixture\n",
    "from sklearn.model_selection import train_test_split\n",
    "\n",
    "\n",
    "import tensorflow as tf\n",
    "from keras.models import Sequential,load_model\n",
    "from keras import layers,Input\n",
    "from keras.losses import binary_crossentropy\n",
    "from keras.layers import Dense\n",
    "from keras.optimizers import SGD\n",
    "from keras.callbacks import ModelCheckpoint\n",
    "import keras.backend as K"
   ]
  },
  {
   "cell_type": "markdown",
   "metadata": {},
   "source": [
    "## Multiqubit"
   ]
  },
  {
   "cell_type": "code",
   "execution_count": 61,
   "metadata": {},
   "outputs": [
    {
     "name": "stdout",
     "output_type": "stream",
     "text": [
      "(967, 8192, 2) (948, 8192, 2)\n",
      "(950, 8192, 2) (950, 8192, 2)\n"
     ]
    }
   ],
   "source": [
    "Q0state0=np.load('../Data/new/2gsps/Q0state0_her.npy')\n",
    "Q0state1=np.load('../Data/new/2gsps/Q0state1_her.npy')\n",
    "Q0output0=np.zeros((Q0state0.shape[0]))\n",
    "Q0output1=np.ones((Q0state1.shape[0]))\n",
    "print(Q0state0.shape, Q0state1.shape)\n",
    "\n",
    "Q1state0=np.load('../Data/new/2gsps/Q1state0_her.npy')\n",
    "Q1state1=np.load('../Data/new/2gsps/Q1state1_her.npy')\n",
    "indices = np.arange(Q1state1.shape[0])\n",
    "np.random.shuffle(indices)\n",
    "selected_indices = indices[:950]\n",
    "Q1state0 = Q1state0[selected_indices]\n",
    "Q1state1 = Q1state1[selected_indices]\n",
    "Q1output0=np.zeros((Q1state0.shape[0]))\n",
    "Q1output1=np.ones((Q1state1.shape[0]))\n",
    "print(Q1state0.shape, Q1state1.shape)"
   ]
  },
  {
   "cell_type": "code",
   "execution_count": 62,
   "metadata": {},
   "outputs": [
    {
     "name": "stdout",
     "output_type": "stream",
     "text": [
      "(967, 2) (948, 2) (950, 2) (950, 2)\n"
     ]
    }
   ],
   "source": [
    "st,ed=700,2700\n",
    "Q0state0=np.mean(Q0state0[:,st:ed,:], axis=1)\n",
    "Q0state1=np.mean(Q0state1[:,st:ed,:], axis=1)\n",
    "Q1state0=np.mean(Q1state0[:,st:ed,:], axis=1)\n",
    "Q1state1=np.mean(Q1state1[:,st:ed,:], axis=1)\n",
    "print(Q0state0.shape, Q0state1.shape, Q1state0.shape, Q1state1.shape)"
   ]
  },
  {
   "cell_type": "code",
   "execution_count": 63,
   "metadata": {},
   "outputs": [
    {
     "name": "stdout",
     "output_type": "stream",
     "text": [
      "[[-1.86258963 -3.4491148 ]\n",
      " [ 1.51223662 -5.54383595]\n",
      " [-1.98299879 -2.33745642]\n",
      " ...\n",
      " [-1.43970027 -3.84779876]\n",
      " [ 5.49199819 -0.16619367]\n",
      " [ 1.83827626 -3.7038209 ]] [[-0.67298194 -4.71165805]\n",
      " [ 0.15761759 -3.31193289]\n",
      " [-2.21697453 -3.67511811]\n",
      " ...\n",
      " [-3.73552051 -3.89711095]\n",
      " [-1.53497018  0.57580245]\n",
      " [-1.46468201 -3.70130676]]\n",
      "[[-1.86258963 -3.4491148   0.        ]\n",
      " [ 1.51223662 -5.54383595  0.        ]\n",
      " [-1.98299879 -2.33745642  0.        ]\n",
      " ...\n",
      " [-1.43970027 -3.84779876  0.        ]\n",
      " [ 5.49199819 -0.16619367  0.        ]\n",
      " [ 1.83827626 -3.7038209   0.        ]] [[-0.67298194 -4.71165805  1.        ]\n",
      " [ 0.15761759 -3.31193289  1.        ]\n",
      " [-2.21697453 -3.67511811  1.        ]\n",
      " ...\n",
      " [-3.73552051 -3.89711095  1.        ]\n",
      " [-1.53497018  0.57580245  1.        ]\n",
      " [-1.46468201 -3.70130676  1.        ]]\n",
      "(967, 3) (948, 3) (950, 3) (950, 3)\n"
     ]
    }
   ],
   "source": [
    "print(Q0state0,Q1state0)\n",
    "Q0state0=np.hstack((Q0state0,np.zeros((Q0state0.shape[0],1))))\n",
    "Q0state1=np.hstack((Q0state1,np.zeros((Q0state1.shape[0],1))))\n",
    "Q1state0=np.hstack((Q1state0,np.ones((Q1state0.shape[0],1))))\n",
    "Q1state1=np.hstack((Q1state1,np.ones((Q1state1.shape[0],1))))\n",
    "print(Q0state0,Q1state0)\n",
    "print(Q0state0.shape, Q0state1.shape, Q1state0.shape, Q1state1.shape)"
   ]
  },
  {
   "cell_type": "code",
   "execution_count": 64,
   "metadata": {},
   "outputs": [
    {
     "name": "stdout",
     "output_type": "stream",
     "text": [
      "(3815, 3)\n",
      "(3815,)\n"
     ]
    }
   ],
   "source": [
    "x=np.vstack((Q0state0,Q0state1,Q1state0,Q1state1))\n",
    "print(x.shape)\n",
    "y=np.hstack((Q0output0,Q0output1,Q1output0,Q1output1))\n",
    "print(y.shape)"
   ]
  },
  {
   "cell_type": "code",
   "execution_count": 65,
   "metadata": {},
   "outputs": [
    {
     "name": "stdout",
     "output_type": "stream",
     "text": [
      "(3052, 3)\n",
      "1523.0\n"
     ]
    }
   ],
   "source": [
    "\n",
    "x_train, x_test, y_train, y_test = train_test_split(x, y, test_size=0.20, random_state=45)\n",
    "print(x_train.shape)\n",
    "print(y_train.sum())"
   ]
  },
  {
   "cell_type": "code",
   "execution_count": 66,
   "metadata": {},
   "outputs": [
    {
     "name": "stdout",
     "output_type": "stream",
     "text": [
      "0.8532110091743119\n",
      "388 314\n",
      "375 337\n"
     ]
    }
   ],
   "source": [
    "# x_trainC=x_train.reshape((x_train.shape[0],x_train.shape[1]*2))\n",
    "# x_testC=x_test.reshape((x_test.shape[0],x_test.shape[1]*2))\n",
    "classifier = LogisticRegression(random_state = 42, max_iter=500)\n",
    "classifier.fit(x_train, y_train)\n",
    "print(classifier.score(x_test,y_test))\n",
    "pred = classifier.predict(x_test)\n",
    "count=0\n",
    "count1=0\n",
    "for i in range(pred.shape[0]):\n",
    "    if y_test[i]==0:\n",
    "        count+=1\n",
    "        if pred[i]<=0.5:\n",
    "            count1+=1\n",
    "print(count,count1)\n",
    "count=0\n",
    "count1=0\n",
    "for i in range(pred.shape[0]):\n",
    "    if y_test[i]==1:\n",
    "        count+=1\n",
    "        if pred[i]>=0.5:\n",
    "            count1+=1\n",
    "print(count,count1)"
   ]
  },
  {
   "cell_type": "code",
   "execution_count": 67,
   "metadata": {},
   "outputs": [
    {
     "name": "stdout",
     "output_type": "stream",
     "text": [
      "0.8885976408912188\n",
      "388 338\n",
      "375 340\n"
     ]
    }
   ],
   "source": [
    "model=SVC(decision_function_shape='ovo')\n",
    "model.fit(x_train,y_train)\n",
    "print(model.score(x_test,y_test))\n",
    "pred=model.predict(x_test)\n",
    "count=0\n",
    "count1=0\n",
    "for i in range(pred.shape[0]):\n",
    "    if y_test[i]==0:\n",
    "        count+=1\n",
    "        if pred[i]<=0.5:\n",
    "            count1+=1\n",
    "print(count,count1)\n",
    "count=0\n",
    "count1=0\n",
    "for i in range(pred.shape[0]):\n",
    "    if y_test[i]==1:\n",
    "        count+=1\n",
    "        if pred[i]>=0.5:\n",
    "            count1+=1\n",
    "print(count,count1)"
   ]
  },
  {
   "cell_type": "code",
   "execution_count": 96,
   "metadata": {},
   "outputs": [
    {
     "name": "stdout",
     "output_type": "stream",
     "text": [
      "0.9257627517729033\n",
      "388 0\n",
      "375 372\n"
     ]
    }
   ],
   "source": [
    "n_components = 2\n",
    "gmm = GaussianMixture(n_components=n_components)\n",
    "gmm.fit(x_train)\n",
    "y_pred = gmm.predict(x_test)\n",
    "print(gmm.score)\n",
    "count=0\n",
    "count1=0\n",
    "for i in range(y_pred.shape[0]):\n",
    "    if y_test[i]==0:\n",
    "        count+=1\n",
    "        if y_pred[i]<=0.5:\n",
    "            count1+=1\n",
    "print(count,count1)\n",
    "count=0\n",
    "count1=0\n",
    "for i in range(y_pred.shape[0]):\n",
    "    if y_test[i]==1:\n",
    "        count+=1\n",
    "        if y_pred[i]>=0.5:\n",
    "            count1+=1\n",
    "print(count,count1)"
   ]
  },
  {
   "cell_type": "code",
   "execution_count": 84,
   "metadata": {},
   "outputs": [
    {
     "name": "stdout",
     "output_type": "stream",
     "text": [
      "Model: \"sequential\"\n",
      "_________________________________________________________________\n",
      " Layer (type)                Output Shape              Param #   \n",
      "=================================================================\n",
      " HiddenLayer1 (Dense)        (None, 8)                 32        \n",
      "                                                                 \n",
      " HiddenLayer2 (Dense)        (None, 4)                 36        \n",
      "                                                                 \n",
      " OuputLayer (Dense)          (None, 1)                 5         \n",
      "                                                                 \n",
      "=================================================================\n",
      "Total params: 73 (292.00 Byte)\n",
      "Trainable params: 73 (292.00 Byte)\n",
      "Non-trainable params: 0 (0.00 Byte)\n",
      "_________________________________________________________________\n"
     ]
    }
   ],
   "source": [
    "def arch():\n",
    "    model=Sequential()\n",
    "    model.add(Input(shape=(3), name='Input Layer'))\n",
    "    model.add(Dense(8,activation='relu', name='HiddenLayer1'))\n",
    "    model.add(Dense(4,activation='relu', name='HiddenLayer2'))\n",
    "    model.add(Dense(1,activation='sigmoid', name='OuputLayer'))\n",
    "    return model\n",
    "arch().summary()"
   ]
  },
  {
   "cell_type": "code",
   "execution_count": null,
   "metadata": {},
   "outputs": [],
   "source": [
    "def bceloss(y_true, y_pred):\n",
    "    # Clip the prediction value to prevent log(0) error\n",
    "    y_pred = K.clip(y_pred, K.epsilon(), 1 - K.epsilon())\n",
    "    # Calculate the weighted binary cross entropy loss\n",
    "    loss = -(0.1 * (y_true * K.log(y_pred)) + 0.9*((1 - y_true) * K.log(1 - y_pred)))\n",
    "    return K.mean(loss, axis=-1)\n",
    "\n",
    "model=arch()\n",
    "model.summary\n",
    "opt=SGD( learning_rate=0.01, momentum=0.9)\n",
    "model.compile(loss=binary_crossentropy, optimizer='adam', metrics=['accuracy'])\n",
    "model_path=\"../Model/NN2/tmp/{epoch:02d}-{val_accuracy:.4f}.h5\"\n",
    "checkpoint = ModelCheckpoint(model_path, monitor='val_accuracy', verbose=1, save_best_only=True, mode='max')\n",
    "callbacks_list = [checkpoint]"
   ]
  },
  {
   "cell_type": "code",
   "execution_count": null,
   "metadata": {},
   "outputs": [],
   "source": [
    "H=model.fit(x_train,y_train,\n",
    "          validation_split=0.2,\n",
    "          epochs=100,batch_size=64,\n",
    "          callbacks=callbacks_list,\n",
    "          verbose=1)"
   ]
  },
  {
   "cell_type": "code",
   "execution_count": 94,
   "metadata": {},
   "outputs": [
    {
     "name": "stdout",
     "output_type": "stream",
     "text": [
      "24/24 [==============================] - 0s 578us/step\n",
      "388 338\n",
      "375 336\n"
     ]
    }
   ],
   "source": [
    "model=load_model('../Model/NN2/Best/64-0.9771.h5', compile=False)\n",
    "y_pred=model.predict(x_test)\n",
    "count=0\n",
    "count1=0\n",
    "for i in range(y_pred.shape[0]):\n",
    "    if y_test[i]==0:\n",
    "        count+=1\n",
    "        if y_pred[i]<=0.5:\n",
    "            count1+=1\n",
    "print(count,count1)\n",
    "count=0\n",
    "count1=0\n",
    "for i in range(y_pred.shape[0]):\n",
    "    if y_test[i]==1:\n",
    "        count+=1\n",
    "        if y_pred[i]>=0.5:\n",
    "            count1+=1\n",
    "print(count,count1)"
   ]
  },
  {
   "cell_type": "markdown",
   "metadata": {},
   "source": [
    "## Multichannel"
   ]
  },
  {
   "cell_type": "code",
   "execution_count": null,
   "metadata": {},
   "outputs": [],
   "source": [
    "state0=np.load('../Data/new/2gsps/Q1state0_her.npy')\n",
    "state1=np.load('../Data/new/2gsps/Q1state1_her.npy')"
   ]
  }
 ],
 "metadata": {
  "kernelspec": {
   "display_name": "readout",
   "language": "python",
   "name": "readout"
  },
  "language_info": {
   "codemirror_mode": {
    "name": "ipython",
    "version": 3
   },
   "file_extension": ".py",
   "mimetype": "text/x-python",
   "name": "python",
   "nbconvert_exporter": "python",
   "pygments_lexer": "ipython3",
   "version": "3.8.18"
  }
 },
 "nbformat": 4,
 "nbformat_minor": 2
}
