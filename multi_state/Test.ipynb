{
 "cells": [
  {
   "cell_type": "code",
   "execution_count": 1,
   "id": "ec2bc514-07d3-4c41-a997-6dcdb4277166",
   "metadata": {},
   "outputs": [
    {
     "name": "stderr",
     "output_type": "stream",
     "text": [
      "2024-08-26 13:43:01.177659: I tensorflow/tsl/cuda/cudart_stub.cc:28] Could not find cuda drivers on your machine, GPU will not be used.\n",
      "2024-08-26 13:43:01.727446: I tensorflow/tsl/cuda/cudart_stub.cc:28] Could not find cuda drivers on your machine, GPU will not be used.\n",
      "2024-08-26 13:43:01.730296: I tensorflow/core/platform/cpu_feature_guard.cc:182] This TensorFlow binary is optimized to use available CPU instructions in performance-critical operations.\n",
      "To enable the following instructions: AVX2 FMA, in other operations, rebuild TensorFlow with the appropriate compiler flags.\n",
      "2024-08-26 13:43:03.808390: W tensorflow/compiler/tf2tensorrt/utils/py_utils.cc:38] TF-TRT Warning: Could not find TensorRT\n"
     ]
    }
   ],
   "source": [
    "import numpy as np\n",
    "import matplotlib.pyplot as plt\n",
    "import tensorflow as tf\n",
    "from keras.models import Sequential,load_model\n",
    "from keras import layers\n",
    "\n",
    "from sklearn.model_selection import train_test_split,StratifiedKFold\n",
    "from keras.utils import to_categorical\n",
    "from sklearn.metrics import confusion_matrix, ConfusionMatrixDisplay, accuracy_score\n",
    "from keras.callbacks import ModelCheckpoint,ReduceLROnPlateau"
   ]
  },
  {
   "cell_type": "code",
   "execution_count": 2,
   "id": "e6fdcd9c-1cc2-4e0b-91ac-7e61a895a39d",
   "metadata": {},
   "outputs": [
    {
     "name": "stdout",
     "output_type": "stream",
     "text": [
      "Num GPUs Available:  0\n"
     ]
    },
    {
     "name": "stderr",
     "output_type": "stream",
     "text": [
      "2024-08-26 13:43:08.220417: W tensorflow/core/common_runtime/gpu/gpu_device.cc:1960] Cannot dlopen some GPU libraries. Please make sure the missing libraries mentioned above are installed properly if you would like to use GPU. Follow the guide at https://www.tensorflow.org/install/gpu for how to download and setup the required libraries for your platform.\n",
      "Skipping registering GPU devices...\n"
     ]
    }
   ],
   "source": [
    "print(\"Num GPUs Available: \", len(tf.config.list_physical_devices('GPU')))"
   ]
  },
  {
   "cell_type": "markdown",
   "id": "da183ba4",
   "metadata": {},
   "source": [
    "# 10 state"
   ]
  },
  {
   "cell_type": "markdown",
   "id": "f0006bc5-5305-43c2-ac93-95211962b495",
   "metadata": {},
   "source": [
    "## Load"
   ]
  },
  {
   "cell_type": "code",
   "execution_count": null,
   "id": "0d16e0f4-dd76-4ec0-b412-4df53e5176cc",
   "metadata": {},
   "outputs": [],
   "source": [
    "x=np.load('/pscratch/sd/n/nrvora/Data/Quantum/20240711/train-001.npy')"
   ]
  },
  {
   "cell_type": "code",
   "execution_count": null,
   "id": "6b9a8a79-7150-4bdc-a483-36f240d3d7c3",
   "metadata": {},
   "outputs": [],
   "source": [
    "INTEGRATION_LENGTH = 2200\n",
    "integeration_start = 142\n",
    "\n",
    "\n",
    "with open('/pscratch/sd/n/nrvora/Data/Quantum/20240711/train-001.npy', 'rb') as file:\n",
    "    train_data = np.load(file, allow_pickle=False)[:,:, integeration_start:integeration_start+INTEGRATION_LENGTH]\n",
    "\n",
    "n_reps, n_levels, n_sample_points = train_data.shape\n",
    "\n",
    "\n",
    "train_label = np.array([[[l] for l in range(n_levels)] for _ in range(n_reps)])\n",
    "train_data_acc = train_data.mean(axis=-1)\n",
    "\n",
    "\n",
    "with open('/pscratch/sd/n/nrvora/Data/Quantum/20240711/test.npy', 'rb') as file:\n",
    "    test_data = np.load(file, allow_pickle=False)[:,:, integeration_start:integeration_start+INTEGRATION_LENGTH]\n",
    "\n",
    "n_reps, n_levels, n_sample_points = test_data.shape\n",
    "\n",
    "\n",
    "test_label = np.array([[[l] for l in range(n_levels)] for _ in range(n_reps)])\n",
    "test_data_acc = test_data.mean(axis=-1)"
   ]
  },
  {
   "cell_type": "markdown",
   "id": "9f02f6f2",
   "metadata": {},
   "source": [
    "## Analysis"
   ]
  },
  {
   "cell_type": "code",
   "execution_count": null,
   "id": "a41145ee",
   "metadata": {},
   "outputs": [],
   "source": [
    "state0  = x[:,0,:]\n",
    "state1  = x[:,1,:]\n",
    "state2  = x[:,2,:]"
   ]
  },
  {
   "cell_type": "code",
   "execution_count": null,
   "id": "b280cbe3",
   "metadata": {},
   "outputs": [],
   "source": [
    "plt.figure(figsize=(12, 6))\n",
    "plt.plot(np.mean(state0[:,st:ed],axis=0), label='Mean Signal')\n",
    "plt.fill_between(np.arange(4000), np.mean(state0[:,st:ed],axis=0) - np.std(state0[:,st:ed],axis=0), np.mean(state0[:,st:ed],axis=0) + np.std(state0[:,st:ed],axis=0), color='red', alpha=0.3, label='Standard Deviation')\n",
    "plt.title('Mean and Standard Deviation of Signal')\n",
    "plt.xlabel('Time')\n",
    "plt.ylabel('Value')\n",
    "plt.legend()\n",
    "plt.show()"
   ]
  },
  {
   "cell_type": "code",
   "execution_count": null,
   "id": "83334208",
   "metadata": {},
   "outputs": [],
   "source": [
    "ratio_mean_std = np.std(state0[:,st:ed],axis=0)/np.mean(state0[:,st:ed],axis=0)\n",
    "ratio_mean_std"
   ]
  },
  {
   "cell_type": "code",
   "execution_count": null,
   "id": "db389517",
   "metadata": {},
   "outputs": [],
   "source": [
    "st,ed=0,4000\n",
    "t=np.arange(0e-9,4e-6,1e-9)\n",
    "\n",
    "plt.plot(t,state0[5,st:ed],alpha=0.2,c='b')\n",
    "plt.plot(t,state1[5,st:ed],alpha=0.5,c='orange')\n",
    "\n",
    "plt.plot(t,np.mean(state0[:,st:ed],axis=0),alpha=0.5,c='b', label='state0')\n",
    "plt.plot(t,np.mean(state1[:,st:ed],axis=0),alpha=0.9,c='orange', label='state1')\n",
    "plt.legend()\n"
   ]
  },
  {
   "cell_type": "code",
   "execution_count": null,
   "id": "5e93f322",
   "metadata": {},
   "outputs": [],
   "source": [
    "plt.plot(t,np.convolve(np.mean(state0,axis=0), np.ones(100)/100, mode='same'))\n",
    "plt.plot(t,np.convolve(np.mean(state1,axis=0), np.ones(100)/100, mode='same'))\n",
    "plt.plot(t,np.convolve(np.mean(state2,axis=0), np.ones(100)/100, mode='same'))\n",
    "\n",
    "# plt.plot(t,np.convolve(state0[5], np.ones(100)/100, mode='same'))\n",
    "# plt.plot(t,np.convolve(state1[5], np.ones(100)/100, mode='same'))\n",
    "# plt.plot(t,np.convolve(state2[5], np.ones(100)/100, mode='same'))\n",
    "## NN"
   ]
  },
  {
   "cell_type": "code",
   "execution_count": null,
   "id": "461b742d-32ca-4d0d-b83d-481ff2efd656",
   "metadata": {},
   "outputs": [],
   "source": [
    "train_data.shape,train_label.shape"
   ]
  },
  {
   "cell_type": "code",
   "execution_count": null,
   "id": "8594fc38-5749-4ae7-80d6-bec2f2e7db9b",
   "metadata": {},
   "outputs": [],
   "source": [
    "x=train_data.reshape(-1,train_data.shape[-1])\n",
    "X=np.hstack((x.real,x.imag))\n",
    "y=train_label.reshape(-1)\n",
    "X.shape, y.shape"
   ]
  },
  {
   "cell_type": "code",
   "execution_count": null,
   "id": "0ebd38ad-0ede-4737-8781-4f87dc2802f2",
   "metadata": {},
   "outputs": [],
   "source": [
    "y = to_categorical(y, num_classes=10)\n",
    "y.shape"
   ]
  },
  {
   "cell_type": "code",
   "execution_count": null,
   "id": "9307fc76-7191-442d-a203-86cc85661387",
   "metadata": {},
   "outputs": [],
   "source": [
    "model = Sequential()\n",
    "model.add(layers.Input(shape=(4400,), name='Input_Layer'))\n",
    "model.add(layers.Dense(16, activation='relu', name='Hidden_Layer_1'))\n",
    "# model.add(layers.Dense(16, activation='relu', name='Hidden_Layer_2'))\n",
    "# model.add(layers.Dropout(0.5))\n",
    "model.add(layers.Dense(10, activation='softmax', name='Output_Layer'))\n",
    "\n",
    "\n",
    "# Compile the model\n",
    "optimizer = tf.keras.optimizers.Adam()\n",
    "model.compile(optimizer='adam', loss='categorical_crossentropy', metrics=['accuracy'])\n",
    "\n",
    "# Print the model summary\n",
    "model.summary()\n",
    "\n",
    "reduce_lr = ReduceLROnPlateau(monitor='val_loss', factor=0.2, patience=10, min_lr=0.0001)\n",
    "\n",
    "model_path=\"model/{epoch:02d}-{val_loss:.4f}-{val_accuracy:.4f}.h5\"\n",
    "checkpoint = ModelCheckpoint(model_path, monitor='val_accuracy', verbose=1, save_best_only=True, mode='max')\n",
    "callbacks_list = [checkpoint]\n",
    "\n",
    "\n"
   ]
  },
  {
   "cell_type": "code",
   "execution_count": null,
   "id": "114df9dd-cd8e-447b-9125-a076e6255ff3",
   "metadata": {},
   "outputs": [],
   "source": [
    "# Train the model\n",
    "model.fit(X, y, epochs=100, batch_size=1024, validation_split=0.2, callbacks=callbacks_list)"
   ]
  },
  {
   "cell_type": "code",
   "execution_count": null,
   "id": "a177cce1-2467-48b0-8d72-0de18437fc8a",
   "metadata": {},
   "outputs": [],
   "source": [
    "x_test=test_data.reshape(-1,test_data.shape[-1])\n",
    "X_test=np.hstack((x_test.real,x_test.imag))\n",
    "y_test=test_label.reshape(-1)\n",
    "y_test = to_categorical(y_test, num_classes=10)\n",
    "X_test.shape, y_test.shape"
   ]
  },
  {
   "cell_type": "code",
   "execution_count": null,
   "id": "463fd78a-7402-46bc-b524-5a38ae232c01",
   "metadata": {},
   "outputs": [],
   "source": [
    "model = load_model('model/45-0.2302-0.9387.h5', compile=False)\n",
    "Y_pred = model.predict(X_test)\n",
    "\n",
    "# Convert one-hot encoded predictions back to label format\n",
    "Y_test_labels = np.argmax(y_test, axis=1)\n",
    "Y_pred_labels = np.argmax(Y_pred, axis=1)\n",
    "\n",
    "# Generate the confusion matrix\n",
    "conf_matrix = confusion_matrix(Y_test_labels, Y_pred_labels)\n",
    "\n",
    "# Normalize the confusion matrix to percentage\n",
    "conf_matrix_normalized = conf_matrix.astype('float') / conf_matrix.sum(axis=1)[:, np.newaxis] * 100\n",
    "\n",
    "# Display the normalized confusion matrix\n",
    "disp = ConfusionMatrixDisplay(confusion_matrix=conf_matrix_normalized, display_labels=np.arange(10))\n",
    "disp.plot(cmap=plt.cm.Blues)\n",
    "plt.title('Confusion Matrix (in Percentage)')\n",
    "plt.xlabel('Predicted Label')\n",
    "plt.ylabel('True Label')\n",
    "plt.xticks(np.arange(10), labels=np.arange(10))\n",
    "plt.yticks(np.arange(10), labels=np.arange(10))\n",
    "plt.show()\n",
    "\n",
    "accuracy = accuracy_score(Y_test_labels, Y_pred_labels)\n",
    "print(f'Test Accuracy: {accuracy * 100:.2f}%')"
   ]
  },
  {
   "cell_type": "code",
   "execution_count": null,
   "id": "82425c1b-3400-4ee6-a1ba-71f0956ac7ea",
   "metadata": {},
   "outputs": [],
   "source": [
    "conf_matrix"
   ]
  },
  {
   "cell_type": "markdown",
   "id": "eefde1b9",
   "metadata": {},
   "source": [
    "# 3state"
   ]
  },
  {
   "cell_type": "code",
   "execution_count": 36,
   "id": "ec798df1",
   "metadata": {},
   "outputs": [
    {
     "data": {
      "text/plain": [
       "((36000, 1600), (36000,))"
      ]
     },
     "execution_count": 36,
     "metadata": {},
     "output_type": "execute_result"
    }
   ],
   "source": [
    "state0 = np.load('/pscratch/sd/n/nrvora/Data/Quantum/longterm/dlo_state0.npy')[:,1100:2700]\n",
    "state1 = np.load('/pscratch/sd/n/nrvora/Data/Quantum/longterm/dlo_state1.npy')[:,1100:2700]\n",
    "state2 = np.load('/pscratch/sd/n/nrvora/Data/Quantum/longterm/dlo_state2.npy')[:,1100:2700]\n",
    "output0=np.zeros((state0.shape[0]))\n",
    "output1=np.ones((state1.shape[0]))\n",
    "output2=np.array((2,)*state2.shape[0])\n",
    "\n",
    "trainData = np.vstack((state0,state1,state2))\n",
    "trainLabel = np.hstack((output0,output1,output2))\n",
    "\n",
    "trainData.shape, trainLabel.shape\n"
   ]
  },
  {
   "cell_type": "markdown",
   "id": "d6c4df69",
   "metadata": {},
   "source": [
    "## Analysis"
   ]
  },
  {
   "cell_type": "code",
   "execution_count": null,
   "id": "471cfd90",
   "metadata": {},
   "outputs": [],
   "source": [
    "plt.figure(figsize=(12, 6))\n",
    "plt.plot(np.mean(state0[:,st:ed],axis=0), label='Mean Signal')\n",
    "plt.fill_between(np.arange(4000), np.mean(state0[:,st:ed],axis=0) - np.std(state0[:,st:ed],axis=0), np.mean(state0[:,st:ed],axis=0) + np.std(state0[:,st:ed],axis=0), color='red', alpha=0.3, label='Standard Deviation')\n",
    "plt.title('Mean and Standard Deviation of Signal')\n",
    "plt.xlabel('Time')\n",
    "plt.ylabel('Value')\n",
    "plt.legend()\n",
    "plt.show()"
   ]
  },
  {
   "cell_type": "code",
   "execution_count": null,
   "id": "71980082",
   "metadata": {},
   "outputs": [],
   "source": [
    "ratio_mean_std = np.std(state0[:,st:ed],axis=0)/np.mean(state0[:,st:ed],axis=0)\n",
    "ratio_mean_std"
   ]
  },
  {
   "cell_type": "code",
   "execution_count": 43,
   "id": "5b3cda4b",
   "metadata": {},
   "outputs": [
    {
     "data": {
      "text/plain": [
       "<matplotlib.legend.Legend at 0x7f5c5d0d4280>"
      ]
     },
     "execution_count": 43,
     "metadata": {},
     "output_type": "execute_result"
    },
    {
     "data": {
      "image/png": "[encoded data removed]",
      "text/plain": [
       "<Figure size 640x480 with 1 Axes>"
      ]
     },
     "metadata": {},
     "output_type": "display_data"
    }
   ],
   "source": [
    "t=np.arange(0e-9,1e-6,0.5e-9)\n",
    "\n",
    "# plt.plot(t,state0[5],alpha=0.2,c='b')\n",
    "# plt.plot(t,state1[5],alpha=0.5,c='orange')\n",
    "# plt.plot(t,state2[5,st:ed],alpha=0.09,c='g')\n",
    "\n",
    "plt.plot(t,np.mean(state0,axis=0),alpha=0.5,c='b',label='state0')\n",
    "plt.plot(t,np.mean(state1,axis=0),alpha=0.9,c='orange',label='state1')\n",
    "# plt.plot(t,np.mean(state2[:,st:ed],axis=0),alpha=0.3,c='g')\n",
    "\n",
    "plt.legend()\n"
   ]
  },
  {
   "cell_type": "code",
   "execution_count": null,
   "id": "47f21c8a",
   "metadata": {},
   "outputs": [],
   "source": [
    "st,ed=1200,3000\n",
    "window=100\n",
    "trc0I=np.add.reduceat(np.mean((state0[:,st:ed]),axis=0).real, range(0,ed-st,window),axis=0)/float(window)\n",
    "trc0Q=np.add.reduceat(np.mean((state0[:,st:ed]),axis=0).imag, range(0,ed-st,window),axis=0)/float(window)\n",
    "trc1I=np.add.reduceat(np.mean((state1[:,st:ed]),axis=0).real, range(0,ed-st,window),axis=0)/float(window)\n",
    "trc1Q=np.add.reduceat(np.mean((state1[:,st:ed]),axis=0).imag, range(0,ed-st,window),axis=0)/float(window)\n",
    "trc2I=np.add.reduceat(np.mean((state2[:,st:ed]),axis=0).real, range(0,ed-st,window),axis=0)/float(window)\n",
    "trc2Q=np.add.reduceat(np.mean((state2[:,st:ed]),axis=0).imag, range(0,ed-st,window),axis=0)/float(window)\n",
    "\n",
    "plt.plot(trc0I, trc0Q, marker='o', label='State 0')\n",
    "plt.plot(trc1I, trc1Q, marker='o', label='State 1')\n",
    "plt.plot(trc2I, trc2Q, marker='o', label='State 2')"
   ]
  },
  {
   "cell_type": "markdown",
   "id": "60f58aa8",
   "metadata": {},
   "source": [
    "## NN"
   ]
  },
  {
   "cell_type": "code",
   "execution_count": 37,
   "id": "1af045bb",
   "metadata": {},
   "outputs": [
    {
     "data": {
      "text/plain": [
       "((2, 36000, 1600), (36000,))"
      ]
     },
     "execution_count": 37,
     "metadata": {},
     "output_type": "execute_result"
    }
   ],
   "source": [
    "X=np.stack((trainData.real,trainData.imag))\n",
    "y=trainLabel.reshape(-1)\n",
    "X.shape, y.shape"
   ]
  },
  {
   "cell_type": "code",
   "execution_count": 38,
   "id": "d097e80a",
   "metadata": {},
   "outputs": [],
   "source": [
    "size_bin=64\n",
    "nums_bin = X.shape[2]//size_bin\n",
    "binI,binQ=[],[]\n",
    "for i in range(nums_bin):\n",
    "    st=i*size_bin\n",
    "    ed=st+size_bin\n",
    "    binI.append(np.mean(X[0,:,st:ed],axis=-1))\n",
    "    binQ.append(np.mean(X[1,:,st:ed],axis=-1))\n",
    "binI=np.array(binI).T\n",
    "binQ=np.array(binQ).T\n",
    "X=np.hstack((binI,binQ))"
   ]
  },
  {
   "cell_type": "code",
   "execution_count": 39,
   "id": "71a59228",
   "metadata": {},
   "outputs": [
    {
     "data": {
      "text/plain": [
       "(36000, 50)"
      ]
     },
     "execution_count": 39,
     "metadata": {},
     "output_type": "execute_result"
    }
   ],
   "source": [
    "X.shape"
   ]
  },
  {
   "cell_type": "code",
   "execution_count": 40,
   "id": "6ae671db",
   "metadata": {},
   "outputs": [
    {
     "data": {
      "text/plain": [
       "(36000, 50)"
      ]
     },
     "execution_count": 40,
     "metadata": {},
     "output_type": "execute_result"
    }
   ],
   "source": [
    "mean = np.mean(X, axis=0)\n",
    "std = np.std(X, axis=0)\n",
    "X_standardized = (X - mean) / std\n",
    "\n",
    "X_standardized.shape"
   ]
  },
  {
   "cell_type": "code",
   "execution_count": 41,
   "id": "16ce789c",
   "metadata": {},
   "outputs": [
    {
     "name": "stdout",
     "output_type": "stream",
     "text": [
      "(25200, 50)\n",
      "(10800, 50)\n",
      "(25200, 3)\n"
     ]
    }
   ],
   "source": [
    "y = to_categorical(y, num_classes=3)\n",
    "\n",
    "x_train, x_test, y_train, y_test = train_test_split(X_standardized, y, test_size=0.30, random_state=45)\n",
    "print(x_train.shape)\n",
    "print(x_test.shape)\n",
    "print(y_train.shape)"
   ]
  },
  {
   "cell_type": "code",
   "execution_count": 42,
   "id": "013b4825",
   "metadata": {},
   "outputs": [
    {
     "name": "stdout",
     "output_type": "stream",
     "text": [
      "Model: \"sequential_4\"\n",
      "_________________________________________________________________\n",
      " Layer (type)                Output Shape              Param #   \n",
      "=================================================================\n",
      " Hidden_Layer_1 (Dense)      (None, 16)                816       \n",
      "                                                                 \n",
      " Output_Layer (Dense)        (None, 3)                 51        \n",
      "                                                                 \n",
      "=================================================================\n",
      "Total params: 867 (3.39 KB)\n",
      "Trainable params: 867 (3.39 KB)\n",
      "Non-trainable params: 0 (0.00 Byte)\n",
      "_________________________________________________________________\n"
     ]
    }
   ],
   "source": [
    "model = Sequential()\n",
    "model.add(layers.Input(shape=(x_train.shape[1],), name='Input_Layer'))\n",
    "model.add(layers.Dense(16, activation='relu', name='Hidden_Layer_1'))\n",
    "model.add(layers.Dense(3, activation='softmax', name='Output_Layer'))\n",
    "\n",
    "\n",
    "# Compile the model\n",
    "optimizer = tf.keras.optimizers.Adam()\n",
    "model.compile(optimizer='adam', loss='categorical_crossentropy', metrics=['accuracy'])\n",
    "\n",
    "# Print the model summary\n",
    "model.summary()\n",
    "\n",
    "reduce_lr = ReduceLROnPlateau(monitor='val_loss', factor=0.2, patience=10, min_lr=0.0001)\n",
    "\n",
    "model_path=\"model2/{epoch:02d}-{val_loss:.4f}-{val_accuracy:.4f}.h5\"\n",
    "checkpoint = ModelCheckpoint(model_path, monitor='val_accuracy', verbose=1, save_best_only=True, mode='max')\n",
    "callbacks_list = [checkpoint]\n"
   ]
  },
  {
   "cell_type": "code",
   "execution_count": 32,
   "id": "4b18c583",
   "metadata": {},
   "outputs": [
    {
     "name": "stdout",
     "output_type": "stream",
     "text": [
      "Epoch 1/100\n",
      " 1/40 [..............................] - ETA: 12s - loss: 1.5232 - accuracy: 0.2031\n",
      "Epoch 1: val_accuracy improved from -inf to 0.77877, saving model to model2/01-0.6617-0.7788.h5\n",
      "40/40 [==============================] - 1s 5ms/step - loss: 1.0238 - accuracy: 0.4953 - val_loss: 0.6617 - val_accuracy: 0.7788\n",
      "Epoch 2/100\n",
      " 1/40 [..............................] - ETA: 0s - loss: 0.6449 - accuracy: 0.7793\n",
      "Epoch 2: val_accuracy improved from 0.77877 to 0.92917, saving model to model2/02-0.3660-0.9292.h5\n",
      "40/40 [==============================] - 0s 3ms/step - loss: 0.4934 - accuracy: 0.8785 - val_loss: 0.3660 - val_accuracy: 0.9292\n",
      "Epoch 3/100\n",
      " 1/40 [..............................] - ETA: 0s - loss: 0.3342 - accuracy: 0.9395"
     ]
    },
    {
     "name": "stderr",
     "output_type": "stream",
     "text": [
      "/global/homes/n/nrvora/.conda/envs/readout/lib/python3.8/site-packages/keras/src/engine/training.py:3000: UserWarning: You are saving your model as an HDF5 file via `model.save()`. This file format is considered legacy. We recommend using instead the native Keras format, e.g. `model.save('my_model.keras')`.\n",
      "  saving_api.save_model(\n"
     ]
    },
    {
     "name": "stdout",
     "output_type": "stream",
     "text": [
      "\n",
      "Epoch 3: val_accuracy improved from 0.92917 to 0.94802, saving model to model2/03-0.2599-0.9480.h5\n",
      "40/40 [==============================] - 0s 3ms/step - loss: 0.3066 - accuracy: 0.9418 - val_loss: 0.2599 - val_accuracy: 0.9480\n",
      "Epoch 4/100\n",
      " 1/40 [..............................] - ETA: 0s - loss: 0.2199 - accuracy: 0.9688\n",
      "Epoch 4: val_accuracy improved from 0.94802 to 0.95456, saving model to model2/04-0.2234-0.9546.h5\n",
      "40/40 [==============================] - 0s 4ms/step - loss: 0.2440 - accuracy: 0.9509 - val_loss: 0.2234 - val_accuracy: 0.9546\n",
      "Epoch 5/100\n",
      " 1/40 [..............................] - ETA: 0s - loss: 0.2103 - accuracy: 0.9609\n",
      "Epoch 5: val_accuracy improved from 0.95456 to 0.95635, saving model to model2/05-0.2077-0.9563.h5\n",
      "40/40 [==============================] - 0s 3ms/step - loss: 0.2216 - accuracy: 0.9534 - val_loss: 0.2077 - val_accuracy: 0.9563\n",
      "Epoch 6/100\n",
      " 1/40 [..............................] - ETA: 0s - loss: 0.2158 - accuracy: 0.9570\n",
      "Epoch 6: val_accuracy improved from 0.95635 to 0.95694, saving model to model2/06-0.1990-0.9569.h5\n",
      "40/40 [==============================] - 0s 3ms/step - loss: 0.2108 - accuracy: 0.9547 - val_loss: 0.1990 - val_accuracy: 0.9569\n",
      "Epoch 7/100\n",
      " 1/40 [..............................] - ETA: 0s - loss: 0.2672 - accuracy: 0.9453\n",
      "Epoch 7: val_accuracy improved from 0.95694 to 0.95734, saving model to model2/07-0.1932-0.9573.h5\n",
      "40/40 [==============================] - 0s 3ms/step - loss: 0.2041 - accuracy: 0.9555 - val_loss: 0.1932 - val_accuracy: 0.9573\n",
      "Epoch 8/100\n",
      " 1/40 [..............................] - ETA: 0s - loss: 0.2628 - accuracy: 0.9492\n",
      "Epoch 8: val_accuracy improved from 0.95734 to 0.95833, saving model to model2/08-0.1889-0.9583.h5\n",
      "40/40 [==============================] - 0s 3ms/step - loss: 0.1992 - accuracy: 0.9562 - val_loss: 0.1889 - val_accuracy: 0.9583\n",
      "Epoch 9/100\n",
      " 1/40 [..............................] - ETA: 0s - loss: 0.1662 - accuracy: 0.9688\n",
      "Epoch 9: val_accuracy improved from 0.95833 to 0.95952, saving model to model2/09-0.1855-0.9595.h5\n",
      "40/40 [==============================] - 0s 3ms/step - loss: 0.1952 - accuracy: 0.9573 - val_loss: 0.1855 - val_accuracy: 0.9595\n",
      "Epoch 10/100\n",
      " 1/40 [..............................] - ETA: 0s - loss: 0.2021 - accuracy: 0.9570\n",
      "Epoch 10: val_accuracy did not improve from 0.95952\n",
      "40/40 [==============================] - 0s 3ms/step - loss: 0.1917 - accuracy: 0.9581 - val_loss: 0.1825 - val_accuracy: 0.9593\n",
      "Epoch 11/100\n",
      " 1/40 [..............................] - ETA: 0s - loss: 0.2359 - accuracy: 0.9531\n",
      "Epoch 11: val_accuracy did not improve from 0.95952\n",
      "40/40 [==============================] - 0s 3ms/step - loss: 0.1887 - accuracy: 0.9590 - val_loss: 0.1801 - val_accuracy: 0.9595\n",
      "Epoch 12/100\n",
      " 1/40 [..............................] - ETA: 0s - loss: 0.1984 - accuracy: 0.9492\n",
      "Epoch 12: val_accuracy improved from 0.95952 to 0.95972, saving model to model2/12-0.1779-0.9597.h5\n",
      "40/40 [==============================] - 0s 3ms/step - loss: 0.1860 - accuracy: 0.9592 - val_loss: 0.1779 - val_accuracy: 0.9597\n",
      "Epoch 13/100\n",
      " 1/40 [..............................] - ETA: 0s - loss: 0.1710 - accuracy: 0.9629\n",
      "Epoch 13: val_accuracy improved from 0.95972 to 0.96012, saving model to model2/13-0.1761-0.9601.h5\n",
      "40/40 [==============================] - 0s 3ms/step - loss: 0.1836 - accuracy: 0.9601 - val_loss: 0.1761 - val_accuracy: 0.9601\n",
      "Epoch 14/100\n",
      " 1/40 [..............................] - ETA: 0s - loss: 0.1327 - accuracy: 0.9727\n",
      "Epoch 14: val_accuracy did not improve from 0.96012\n",
      "40/40 [==============================] - 0s 3ms/step - loss: 0.1814 - accuracy: 0.9603 - val_loss: 0.1745 - val_accuracy: 0.9597\n",
      "Epoch 15/100\n",
      " 1/40 [..............................] - ETA: 0s - loss: 0.1667 - accuracy: 0.9648\n",
      "Epoch 15: val_accuracy did not improve from 0.96012\n",
      "40/40 [==============================] - 0s 3ms/step - loss: 0.1794 - accuracy: 0.9606 - val_loss: 0.1730 - val_accuracy: 0.9599\n",
      "Epoch 16/100\n",
      " 1/40 [..............................] - ETA: 0s - loss: 0.2218 - accuracy: 0.9590\n",
      "Epoch 16: val_accuracy improved from 0.96012 to 0.96032, saving model to model2/16-0.1717-0.9603.h5\n",
      "40/40 [==============================] - 0s 4ms/step - loss: 0.1776 - accuracy: 0.9607 - val_loss: 0.1717 - val_accuracy: 0.9603\n",
      "Epoch 17/100\n",
      " 1/40 [..............................] - ETA: 0s - loss: 0.1472 - accuracy: 0.9648\n",
      "Epoch 17: val_accuracy improved from 0.96032 to 0.96052, saving model to model2/17-0.1706-0.9605.h5\n",
      "40/40 [==============================] - 0s 3ms/step - loss: 0.1761 - accuracy: 0.9608 - val_loss: 0.1706 - val_accuracy: 0.9605\n",
      "Epoch 18/100\n",
      " 1/40 [..............................] - ETA: 0s - loss: 0.2230 - accuracy: 0.9473\n",
      "Epoch 18: val_accuracy improved from 0.96052 to 0.96071, saving model to model2/18-0.1694-0.9607.h5\n",
      "40/40 [==============================] - 0s 3ms/step - loss: 0.1746 - accuracy: 0.9611 - val_loss: 0.1694 - val_accuracy: 0.9607\n",
      "Epoch 19/100\n",
      " 1/40 [..............................] - ETA: 0s - loss: 0.1405 - accuracy: 0.9707\n",
      "Epoch 19: val_accuracy did not improve from 0.96071\n",
      "40/40 [==============================] - 0s 3ms/step - loss: 0.1732 - accuracy: 0.9614 - val_loss: 0.1685 - val_accuracy: 0.9607\n",
      "Epoch 20/100\n",
      " 1/40 [..............................] - ETA: 0s - loss: 0.1754 - accuracy: 0.9668\n",
      "Epoch 20: val_accuracy improved from 0.96071 to 0.96091, saving model to model2/20-0.1676-0.9609.h5\n",
      "40/40 [==============================] - 0s 3ms/step - loss: 0.1720 - accuracy: 0.9616 - val_loss: 0.1676 - val_accuracy: 0.9609\n",
      "Epoch 21/100\n",
      " 1/40 [..............................] - ETA: 0s - loss: 0.1743 - accuracy: 0.9531\n",
      "Epoch 21: val_accuracy improved from 0.96091 to 0.96111, saving model to model2/21-0.1668-0.9611.h5\n",
      "40/40 [==============================] - 0s 3ms/step - loss: 0.1708 - accuracy: 0.9618 - val_loss: 0.1668 - val_accuracy: 0.9611\n",
      "Epoch 22/100\n",
      " 1/40 [..............................] - ETA: 0s - loss: 0.1856 - accuracy: 0.9609\n",
      "Epoch 22: val_accuracy did not improve from 0.96111\n",
      "40/40 [==============================] - 0s 3ms/step - loss: 0.1697 - accuracy: 0.9619 - val_loss: 0.1660 - val_accuracy: 0.9611\n",
      "Epoch 23/100\n",
      " 1/40 [..............................] - ETA: 0s - loss: 0.1343 - accuracy: 0.9688\n",
      "Epoch 23: val_accuracy improved from 0.96111 to 0.96151, saving model to model2/23-0.1654-0.9615.h5\n",
      "40/40 [==============================] - 0s 3ms/step - loss: 0.1687 - accuracy: 0.9621 - val_loss: 0.1654 - val_accuracy: 0.9615\n",
      "Epoch 24/100\n",
      " 1/40 [..............................] - ETA: 0s - loss: 0.1569 - accuracy: 0.9609\n",
      "Epoch 24: val_accuracy did not improve from 0.96151\n",
      "40/40 [==============================] - 0s 3ms/step - loss: 0.1678 - accuracy: 0.9621 - val_loss: 0.1647 - val_accuracy: 0.9611\n",
      "Epoch 25/100\n",
      " 1/40 [..............................] - ETA: 0s - loss: 0.2176 - accuracy: 0.9434\n",
      "Epoch 25: val_accuracy did not improve from 0.96151\n",
      "40/40 [==============================] - 0s 3ms/step - loss: 0.1669 - accuracy: 0.9620 - val_loss: 0.1641 - val_accuracy: 0.9609\n",
      "Epoch 26/100\n",
      " 1/40 [..............................] - ETA: 0s - loss: 0.1329 - accuracy: 0.9688\n",
      "Epoch 26: val_accuracy did not improve from 0.96151\n",
      "40/40 [==============================] - 0s 3ms/step - loss: 0.1662 - accuracy: 0.9621 - val_loss: 0.1636 - val_accuracy: 0.9613\n",
      "Epoch 27/100\n",
      " 1/40 [..............................] - ETA: 0s - loss: 0.1776 - accuracy: 0.9609\n",
      "Epoch 27: val_accuracy did not improve from 0.96151\n",
      "40/40 [==============================] - 0s 3ms/step - loss: 0.1654 - accuracy: 0.9621 - val_loss: 0.1630 - val_accuracy: 0.9613\n",
      "Epoch 28/100\n",
      " 1/40 [..............................] - ETA: 0s - loss: 0.1814 - accuracy: 0.9512\n",
      "Epoch 28: val_accuracy did not improve from 0.96151\n",
      "40/40 [==============================] - 0s 3ms/step - loss: 0.1647 - accuracy: 0.9622 - val_loss: 0.1626 - val_accuracy: 0.9613\n",
      "Epoch 29/100\n",
      " 1/40 [..............................] - ETA: 0s - loss: 0.1607 - accuracy: 0.9590\n",
      "Epoch 29: val_accuracy improved from 0.96151 to 0.96171, saving model to model2/29-0.1621-0.9617.h5\n",
      "40/40 [==============================] - 0s 3ms/step - loss: 0.1641 - accuracy: 0.9622 - val_loss: 0.1621 - val_accuracy: 0.9617\n",
      "Epoch 30/100\n",
      " 1/40 [..............................] - ETA: 0s - loss: 0.1790 - accuracy: 0.9629\n",
      "Epoch 30: val_accuracy did not improve from 0.96171\n",
      "40/40 [==============================] - 0s 3ms/step - loss: 0.1634 - accuracy: 0.9621 - val_loss: 0.1618 - val_accuracy: 0.9611\n",
      "Epoch 31/100\n",
      " 1/40 [..............................] - ETA: 0s - loss: 0.1494 - accuracy: 0.9688\n",
      "Epoch 31: val_accuracy improved from 0.96171 to 0.96190, saving model to model2/31-0.1613-0.9619.h5\n",
      "40/40 [==============================] - 0s 3ms/step - loss: 0.1629 - accuracy: 0.9622 - val_loss: 0.1613 - val_accuracy: 0.9619\n",
      "Epoch 32/100\n",
      " 1/40 [..............................] - ETA: 0s - loss: 0.0939 - accuracy: 0.9785\n",
      "Epoch 32: val_accuracy did not improve from 0.96190\n",
      "40/40 [==============================] - 0s 3ms/step - loss: 0.1623 - accuracy: 0.9623 - val_loss: 0.1610 - val_accuracy: 0.9617\n",
      "Epoch 33/100\n",
      " 1/40 [..............................] - ETA: 0s - loss: 0.1722 - accuracy: 0.9629\n",
      "Epoch 33: val_accuracy did not improve from 0.96190\n",
      "40/40 [==============================] - 0s 3ms/step - loss: 0.1619 - accuracy: 0.9623 - val_loss: 0.1607 - val_accuracy: 0.9615\n",
      "Epoch 34/100\n",
      " 1/40 [..............................] - ETA: 0s - loss: 0.2374 - accuracy: 0.9473\n",
      "Epoch 34: val_accuracy did not improve from 0.96190\n",
      "40/40 [==============================] - 0s 3ms/step - loss: 0.1613 - accuracy: 0.9625 - val_loss: 0.1604 - val_accuracy: 0.9617\n",
      "Epoch 35/100\n",
      " 1/40 [..............................] - ETA: 0s - loss: 0.1657 - accuracy: 0.9648\n",
      "Epoch 35: val_accuracy did not improve from 0.96190\n",
      "40/40 [==============================] - 0s 3ms/step - loss: 0.1610 - accuracy: 0.9623 - val_loss: 0.1601 - val_accuracy: 0.9615\n",
      "Epoch 36/100\n",
      " 1/40 [..............................] - ETA: 0s - loss: 0.1499 - accuracy: 0.9629\n",
      "Epoch 36: val_accuracy did not improve from 0.96190\n",
      "40/40 [==============================] - 0s 3ms/step - loss: 0.1605 - accuracy: 0.9625 - val_loss: 0.1597 - val_accuracy: 0.9619\n",
      "Epoch 37/100\n",
      " 1/40 [..............................] - ETA: 0s - loss: 0.2102 - accuracy: 0.9492\n",
      "Epoch 37: val_accuracy did not improve from 0.96190\n",
      "40/40 [==============================] - 0s 3ms/step - loss: 0.1601 - accuracy: 0.9624 - val_loss: 0.1595 - val_accuracy: 0.9615\n",
      "Epoch 38/100\n",
      " 1/40 [..............................] - ETA: 0s - loss: 0.1633 - accuracy: 0.9531\n",
      "Epoch 38: val_accuracy did not improve from 0.96190\n",
      "40/40 [==============================] - 0s 3ms/step - loss: 0.1598 - accuracy: 0.9625 - val_loss: 0.1593 - val_accuracy: 0.9613\n",
      "Epoch 39/100\n",
      " 1/40 [..............................] - ETA: 0s - loss: 0.1066 - accuracy: 0.9766\n",
      "Epoch 39: val_accuracy did not improve from 0.96190\n",
      "40/40 [==============================] - 0s 3ms/step - loss: 0.1594 - accuracy: 0.9625 - val_loss: 0.1591 - val_accuracy: 0.9611\n",
      "Epoch 40/100\n",
      " 1/40 [..............................] - ETA: 0s - loss: 0.1752 - accuracy: 0.9629\n",
      "Epoch 40: val_accuracy did not improve from 0.96190\n",
      "40/40 [==============================] - 0s 3ms/step - loss: 0.1591 - accuracy: 0.9625 - val_loss: 0.1589 - val_accuracy: 0.9619\n",
      "Epoch 41/100\n",
      " 1/40 [..............................] - ETA: 0s - loss: 0.1848 - accuracy: 0.9551\n",
      "Epoch 41: val_accuracy did not improve from 0.96190\n",
      "40/40 [==============================] - 0s 4ms/step - loss: 0.1588 - accuracy: 0.9625 - val_loss: 0.1586 - val_accuracy: 0.9615\n",
      "Epoch 42/100\n",
      " 1/40 [..............................] - ETA: 0s - loss: 0.1549 - accuracy: 0.9629\n",
      "Epoch 42: val_accuracy improved from 0.96190 to 0.96210, saving model to model2/42-0.1585-0.9621.h5\n",
      "40/40 [==============================] - 0s 3ms/step - loss: 0.1584 - accuracy: 0.9626 - val_loss: 0.1585 - val_accuracy: 0.9621\n",
      "Epoch 43/100\n",
      " 1/40 [..............................] - ETA: 0s - loss: 0.1116 - accuracy: 0.9805\n",
      "Epoch 43: val_accuracy did not improve from 0.96210\n",
      "40/40 [==============================] - 0s 3ms/step - loss: 0.1582 - accuracy: 0.9627 - val_loss: 0.1584 - val_accuracy: 0.9611\n",
      "Epoch 44/100\n",
      " 1/40 [..............................] - ETA: 0s - loss: 0.1994 - accuracy: 0.9512\n",
      "Epoch 44: val_accuracy did not improve from 0.96210\n",
      "40/40 [==============================] - 0s 3ms/step - loss: 0.1578 - accuracy: 0.9627 - val_loss: 0.1581 - val_accuracy: 0.9615\n",
      "Epoch 45/100\n",
      " 1/40 [..............................] - ETA: 0s - loss: 0.1775 - accuracy: 0.9512\n",
      "Epoch 45: val_accuracy did not improve from 0.96210\n",
      "40/40 [==============================] - 0s 3ms/step - loss: 0.1575 - accuracy: 0.9628 - val_loss: 0.1581 - val_accuracy: 0.9621\n",
      "Epoch 46/100\n",
      " 1/40 [..............................] - ETA: 0s - loss: 0.1413 - accuracy: 0.9707\n",
      "Epoch 46: val_accuracy did not improve from 0.96210\n",
      "40/40 [==============================] - 0s 3ms/step - loss: 0.1573 - accuracy: 0.9627 - val_loss: 0.1578 - val_accuracy: 0.9613\n",
      "Epoch 47/100\n",
      " 1/40 [..............................] - ETA: 0s - loss: 0.1571 - accuracy: 0.9668\n",
      "Epoch 47: val_accuracy did not improve from 0.96210\n",
      "40/40 [==============================] - 0s 3ms/step - loss: 0.1571 - accuracy: 0.9626 - val_loss: 0.1577 - val_accuracy: 0.9621\n",
      "Epoch 48/100\n",
      " 1/40 [..............................] - ETA: 0s - loss: 0.1141 - accuracy: 0.9746\n",
      "Epoch 48: val_accuracy did not improve from 0.96210\n",
      "40/40 [==============================] - 0s 3ms/step - loss: 0.1567 - accuracy: 0.9628 - val_loss: 0.1576 - val_accuracy: 0.9615\n",
      "Epoch 49/100\n",
      " 1/40 [..............................] - ETA: 0s - loss: 0.1547 - accuracy: 0.9648\n",
      "Epoch 49: val_accuracy did not improve from 0.96210\n",
      "40/40 [==============================] - 0s 3ms/step - loss: 0.1566 - accuracy: 0.9629 - val_loss: 0.1576 - val_accuracy: 0.9621\n",
      "Epoch 50/100\n",
      " 1/40 [..............................] - ETA: 0s - loss: 0.1656 - accuracy: 0.9570\n",
      "Epoch 50: val_accuracy did not improve from 0.96210\n",
      "40/40 [==============================] - 0s 3ms/step - loss: 0.1562 - accuracy: 0.9630 - val_loss: 0.1573 - val_accuracy: 0.9613\n",
      "Epoch 51/100\n",
      " 1/40 [..............................] - ETA: 0s - loss: 0.1461 - accuracy: 0.9609\n",
      "Epoch 51: val_accuracy did not improve from 0.96210\n",
      "40/40 [==============================] - 0s 3ms/step - loss: 0.1562 - accuracy: 0.9630 - val_loss: 0.1573 - val_accuracy: 0.9615\n",
      "Epoch 52/100\n",
      " 1/40 [..............................] - ETA: 0s - loss: 0.1718 - accuracy: 0.9531\n",
      "Epoch 52: val_accuracy did not improve from 0.96210\n",
      "40/40 [==============================] - 0s 3ms/step - loss: 0.1558 - accuracy: 0.9629 - val_loss: 0.1572 - val_accuracy: 0.9617\n",
      "Epoch 53/100\n",
      " 1/40 [..............................] - ETA: 0s - loss: 0.2014 - accuracy: 0.9512\n",
      "Epoch 53: val_accuracy did not improve from 0.96210\n",
      "40/40 [==============================] - 0s 3ms/step - loss: 0.1556 - accuracy: 0.9631 - val_loss: 0.1571 - val_accuracy: 0.9611\n",
      "Epoch 54/100\n",
      " 1/40 [..............................] - ETA: 0s - loss: 0.1476 - accuracy: 0.9688\n",
      "Epoch 54: val_accuracy did not improve from 0.96210\n",
      "40/40 [==============================] - 0s 3ms/step - loss: 0.1554 - accuracy: 0.9632 - val_loss: 0.1570 - val_accuracy: 0.9615\n",
      "Epoch 55/100\n",
      " 1/40 [..............................] - ETA: 0s - loss: 0.1882 - accuracy: 0.9570\n",
      "Epoch 55: val_accuracy did not improve from 0.96210\n",
      "40/40 [==============================] - 0s 3ms/step - loss: 0.1551 - accuracy: 0.9629 - val_loss: 0.1569 - val_accuracy: 0.9619\n",
      "Epoch 56/100\n",
      " 1/40 [..............................] - ETA: 0s - loss: 0.1268 - accuracy: 0.9668\n",
      "Epoch 56: val_accuracy did not improve from 0.96210\n",
      "40/40 [==============================] - 0s 3ms/step - loss: 0.1550 - accuracy: 0.9631 - val_loss: 0.1567 - val_accuracy: 0.9615\n",
      "Epoch 57/100\n",
      " 1/40 [..............................] - ETA: 0s - loss: 0.1699 - accuracy: 0.9668\n",
      "Epoch 57: val_accuracy did not improve from 0.96210\n",
      "40/40 [==============================] - 0s 3ms/step - loss: 0.1548 - accuracy: 0.9631 - val_loss: 0.1569 - val_accuracy: 0.9615\n",
      "Epoch 58/100\n",
      " 1/40 [..............................] - ETA: 0s - loss: 0.1466 - accuracy: 0.9688\n",
      "Epoch 58: val_accuracy did not improve from 0.96210\n",
      "40/40 [==============================] - 0s 3ms/step - loss: 0.1546 - accuracy: 0.9632 - val_loss: 0.1569 - val_accuracy: 0.9613\n",
      "Epoch 59/100\n",
      " 1/40 [..............................] - ETA: 0s - loss: 0.1264 - accuracy: 0.9746\n",
      "Epoch 59: val_accuracy did not improve from 0.96210\n",
      "40/40 [==============================] - 0s 3ms/step - loss: 0.1544 - accuracy: 0.9632 - val_loss: 0.1566 - val_accuracy: 0.9613\n",
      "Epoch 60/100\n",
      " 1/40 [..............................] - ETA: 0s - loss: 0.1540 - accuracy: 0.9629\n",
      "Epoch 60: val_accuracy did not improve from 0.96210\n",
      "40/40 [==============================] - 0s 3ms/step - loss: 0.1543 - accuracy: 0.9631 - val_loss: 0.1565 - val_accuracy: 0.9615\n",
      "Epoch 61/100\n",
      " 1/40 [..............................] - ETA: 0s - loss: 0.1975 - accuracy: 0.9590\n",
      "Epoch 61: val_accuracy did not improve from 0.96210\n",
      "40/40 [==============================] - 0s 3ms/step - loss: 0.1540 - accuracy: 0.9632 - val_loss: 0.1565 - val_accuracy: 0.9615\n",
      "Epoch 62/100\n",
      " 1/40 [..............................] - ETA: 0s - loss: 0.1577 - accuracy: 0.9629\n",
      "Epoch 62: val_accuracy did not improve from 0.96210\n",
      "40/40 [==============================] - 0s 3ms/step - loss: 0.1538 - accuracy: 0.9630 - val_loss: 0.1564 - val_accuracy: 0.9613\n",
      "Epoch 63/100\n",
      " 1/40 [..............................] - ETA: 0s - loss: 0.1579 - accuracy: 0.9648\n",
      "Epoch 63: val_accuracy did not improve from 0.96210\n",
      "40/40 [==============================] - 0s 3ms/step - loss: 0.1537 - accuracy: 0.9633 - val_loss: 0.1564 - val_accuracy: 0.9617\n",
      "Epoch 64/100\n",
      " 1/40 [..............................] - ETA: 0s - loss: 0.2464 - accuracy: 0.9395\n",
      "Epoch 64: val_accuracy did not improve from 0.96210\n",
      "40/40 [==============================] - 0s 3ms/step - loss: 0.1537 - accuracy: 0.9632 - val_loss: 0.1563 - val_accuracy: 0.9613\n",
      "Epoch 65/100\n",
      " 1/40 [..............................] - ETA: 0s - loss: 0.1294 - accuracy: 0.9668\n",
      "Epoch 65: val_accuracy did not improve from 0.96210\n",
      "40/40 [==============================] - 0s 3ms/step - loss: 0.1534 - accuracy: 0.9632 - val_loss: 0.1564 - val_accuracy: 0.9615\n",
      "Epoch 66/100\n",
      " 1/40 [..............................] - ETA: 0s - loss: 0.1636 - accuracy: 0.9609\n",
      "Epoch 66: val_accuracy did not improve from 0.96210\n",
      "40/40 [==============================] - 0s 3ms/step - loss: 0.1531 - accuracy: 0.9635 - val_loss: 0.1562 - val_accuracy: 0.9617\n",
      "Epoch 67/100\n",
      " 1/40 [..............................] - ETA: 0s - loss: 0.1662 - accuracy: 0.9570\n",
      "Epoch 67: val_accuracy did not improve from 0.96210\n",
      "40/40 [==============================] - 0s 3ms/step - loss: 0.1530 - accuracy: 0.9632 - val_loss: 0.1562 - val_accuracy: 0.9615\n",
      "Epoch 68/100\n",
      " 1/40 [..............................] - ETA: 0s - loss: 0.1102 - accuracy: 0.9746\n",
      "Epoch 68: val_accuracy did not improve from 0.96210\n",
      "40/40 [==============================] - 0s 3ms/step - loss: 0.1530 - accuracy: 0.9634 - val_loss: 0.1561 - val_accuracy: 0.9617\n",
      "Epoch 69/100\n",
      " 1/40 [..............................] - ETA: 0s - loss: 0.1613 - accuracy: 0.9609\n",
      "Epoch 69: val_accuracy did not improve from 0.96210\n",
      "40/40 [==============================] - 0s 3ms/step - loss: 0.1526 - accuracy: 0.9636 - val_loss: 0.1561 - val_accuracy: 0.9619\n",
      "Epoch 70/100\n",
      " 1/40 [..............................] - ETA: 0s - loss: 0.1373 - accuracy: 0.9688\n",
      "Epoch 70: val_accuracy did not improve from 0.96210\n",
      "40/40 [==============================] - 0s 3ms/step - loss: 0.1525 - accuracy: 0.9636 - val_loss: 0.1563 - val_accuracy: 0.9603\n",
      "Epoch 71/100\n",
      " 1/40 [..............................] - ETA: 0s - loss: 0.1514 - accuracy: 0.9727\n",
      "Epoch 71: val_accuracy did not improve from 0.96210\n",
      "40/40 [==============================] - 0s 3ms/step - loss: 0.1524 - accuracy: 0.9634 - val_loss: 0.1560 - val_accuracy: 0.9613\n",
      "Epoch 72/100\n",
      " 1/40 [..............................] - ETA: 0s - loss: 0.1160 - accuracy: 0.9746\n",
      "Epoch 72: val_accuracy did not improve from 0.96210\n",
      "40/40 [==============================] - 0s 3ms/step - loss: 0.1523 - accuracy: 0.9636 - val_loss: 0.1559 - val_accuracy: 0.9617\n",
      "Epoch 73/100\n",
      " 1/40 [..............................] - ETA: 0s - loss: 0.1656 - accuracy: 0.9648\n",
      "Epoch 73: val_accuracy did not improve from 0.96210\n",
      "40/40 [==============================] - 0s 3ms/step - loss: 0.1521 - accuracy: 0.9635 - val_loss: 0.1562 - val_accuracy: 0.9611\n",
      "Epoch 74/100\n",
      " 1/40 [..............................] - ETA: 0s - loss: 0.1110 - accuracy: 0.9785\n",
      "Epoch 74: val_accuracy did not improve from 0.96210\n",
      "40/40 [==============================] - 0s 3ms/step - loss: 0.1520 - accuracy: 0.9635 - val_loss: 0.1559 - val_accuracy: 0.9615\n",
      "Epoch 75/100\n",
      " 1/40 [..............................] - ETA: 0s - loss: 0.1876 - accuracy: 0.9512\n",
      "Epoch 75: val_accuracy did not improve from 0.96210\n",
      "40/40 [==============================] - 0s 3ms/step - loss: 0.1519 - accuracy: 0.9631 - val_loss: 0.1558 - val_accuracy: 0.9613\n",
      "Epoch 76/100\n",
      " 1/40 [..............................] - ETA: 0s - loss: 0.1448 - accuracy: 0.9707\n",
      "Epoch 76: val_accuracy did not improve from 0.96210\n",
      "40/40 [==============================] - 0s 3ms/step - loss: 0.1517 - accuracy: 0.9633 - val_loss: 0.1559 - val_accuracy: 0.9615\n",
      "Epoch 77/100\n",
      " 1/40 [..............................] - ETA: 0s - loss: 0.1610 - accuracy: 0.9531\n",
      "Epoch 77: val_accuracy did not improve from 0.96210\n",
      "40/40 [==============================] - 0s 3ms/step - loss: 0.1515 - accuracy: 0.9637 - val_loss: 0.1560 - val_accuracy: 0.9613\n",
      "Epoch 78/100\n",
      " 1/40 [..............................] - ETA: 0s - loss: 0.1141 - accuracy: 0.9727\n",
      "Epoch 78: val_accuracy did not improve from 0.96210\n",
      "40/40 [==============================] - 0s 3ms/step - loss: 0.1513 - accuracy: 0.9637 - val_loss: 0.1560 - val_accuracy: 0.9613\n",
      "Epoch 79/100\n",
      " 1/40 [..............................] - ETA: 0s - loss: 0.1199 - accuracy: 0.9648\n",
      "Epoch 79: val_accuracy did not improve from 0.96210\n",
      "40/40 [==============================] - 0s 3ms/step - loss: 0.1511 - accuracy: 0.9636 - val_loss: 0.1560 - val_accuracy: 0.9611\n",
      "Epoch 80/100\n",
      " 1/40 [..............................] - ETA: 0s - loss: 0.1409 - accuracy: 0.9648\n",
      "Epoch 80: val_accuracy did not improve from 0.96210\n",
      "40/40 [==============================] - 0s 4ms/step - loss: 0.1511 - accuracy: 0.9636 - val_loss: 0.1559 - val_accuracy: 0.9609\n",
      "Epoch 81/100\n",
      " 1/40 [..............................] - ETA: 0s - loss: 0.1553 - accuracy: 0.9531\n",
      "Epoch 81: val_accuracy did not improve from 0.96210\n",
      "40/40 [==============================] - 0s 3ms/step - loss: 0.1508 - accuracy: 0.9638 - val_loss: 0.1558 - val_accuracy: 0.9611\n",
      "Epoch 82/100\n",
      " 1/40 [..............................] - ETA: 0s - loss: 0.0974 - accuracy: 0.9746\n",
      "Epoch 82: val_accuracy did not improve from 0.96210\n",
      "40/40 [==============================] - 0s 3ms/step - loss: 0.1507 - accuracy: 0.9638 - val_loss: 0.1559 - val_accuracy: 0.9611\n",
      "Epoch 83/100\n",
      " 1/40 [..............................] - ETA: 0s - loss: 0.1472 - accuracy: 0.9688\n",
      "Epoch 83: val_accuracy did not improve from 0.96210\n",
      "40/40 [==============================] - 0s 3ms/step - loss: 0.1505 - accuracy: 0.9639 - val_loss: 0.1560 - val_accuracy: 0.9609\n",
      "Epoch 84/100\n",
      " 1/40 [..............................] - ETA: 0s - loss: 0.1438 - accuracy: 0.9648\n",
      "Epoch 84: val_accuracy did not improve from 0.96210\n",
      "40/40 [==============================] - 0s 3ms/step - loss: 0.1505 - accuracy: 0.9638 - val_loss: 0.1560 - val_accuracy: 0.9609\n",
      "Epoch 85/100\n",
      " 1/40 [..............................] - ETA: 0s - loss: 0.1952 - accuracy: 0.9434\n",
      "Epoch 85: val_accuracy did not improve from 0.96210\n",
      "40/40 [==============================] - 0s 3ms/step - loss: 0.1503 - accuracy: 0.9637 - val_loss: 0.1557 - val_accuracy: 0.9609\n",
      "Epoch 86/100\n",
      " 1/40 [..............................] - ETA: 0s - loss: 0.1444 - accuracy: 0.9590\n",
      "Epoch 86: val_accuracy did not improve from 0.96210\n",
      "40/40 [==============================] - 0s 3ms/step - loss: 0.1503 - accuracy: 0.9638 - val_loss: 0.1557 - val_accuracy: 0.9609\n",
      "Epoch 87/100\n",
      " 1/40 [..............................] - ETA: 0s - loss: 0.2078 - accuracy: 0.9492\n",
      "Epoch 87: val_accuracy did not improve from 0.96210\n",
      "40/40 [==============================] - 0s 4ms/step - loss: 0.1500 - accuracy: 0.9640 - val_loss: 0.1559 - val_accuracy: 0.9607\n",
      "Epoch 88/100\n",
      " 1/40 [..............................] - ETA: 0s - loss: 0.1633 - accuracy: 0.9668\n",
      "Epoch 88: val_accuracy did not improve from 0.96210\n",
      "40/40 [==============================] - 0s 3ms/step - loss: 0.1499 - accuracy: 0.9641 - val_loss: 0.1558 - val_accuracy: 0.9605\n",
      "Epoch 89/100\n",
      " 1/40 [..............................] - ETA: 0s - loss: 0.1662 - accuracy: 0.9590\n",
      "Epoch 89: val_accuracy did not improve from 0.96210\n",
      "40/40 [==============================] - 0s 3ms/step - loss: 0.1499 - accuracy: 0.9640 - val_loss: 0.1557 - val_accuracy: 0.9607\n",
      "Epoch 90/100\n",
      " 1/40 [..............................] - ETA: 0s - loss: 0.1891 - accuracy: 0.9512\n",
      "Epoch 90: val_accuracy did not improve from 0.96210\n",
      "40/40 [==============================] - 0s 3ms/step - loss: 0.1497 - accuracy: 0.9638 - val_loss: 0.1558 - val_accuracy: 0.9607\n",
      "Epoch 91/100\n",
      " 1/40 [..............................] - ETA: 0s - loss: 0.1392 - accuracy: 0.9629\n",
      "Epoch 91: val_accuracy did not improve from 0.96210\n",
      "40/40 [==============================] - 0s 3ms/step - loss: 0.1495 - accuracy: 0.9638 - val_loss: 0.1557 - val_accuracy: 0.9605\n",
      "Epoch 92/100\n",
      " 1/40 [..............................] - ETA: 0s - loss: 0.1178 - accuracy: 0.9707\n",
      "Epoch 92: val_accuracy did not improve from 0.96210\n",
      "40/40 [==============================] - 0s 4ms/step - loss: 0.1493 - accuracy: 0.9639 - val_loss: 0.1557 - val_accuracy: 0.9609\n",
      "Epoch 93/100\n",
      " 1/40 [..............................] - ETA: 0s - loss: 0.1488 - accuracy: 0.9609\n",
      "Epoch 93: val_accuracy did not improve from 0.96210\n",
      "40/40 [==============================] - 0s 3ms/step - loss: 0.1493 - accuracy: 0.9641 - val_loss: 0.1557 - val_accuracy: 0.9609\n",
      "Epoch 94/100\n",
      " 1/40 [..............................] - ETA: 0s - loss: 0.1733 - accuracy: 0.9570\n",
      "Epoch 94: val_accuracy did not improve from 0.96210\n",
      "40/40 [==============================] - 0s 3ms/step - loss: 0.1491 - accuracy: 0.9641 - val_loss: 0.1554 - val_accuracy: 0.9611\n",
      "Epoch 95/100\n",
      " 1/40 [..............................] - ETA: 0s - loss: 0.1136 - accuracy: 0.9688\n",
      "Epoch 95: val_accuracy did not improve from 0.96210\n",
      "40/40 [==============================] - 0s 4ms/step - loss: 0.1491 - accuracy: 0.9638 - val_loss: 0.1557 - val_accuracy: 0.9603\n",
      "Epoch 96/100\n",
      " 1/40 [..............................] - ETA: 0s - loss: 0.1462 - accuracy: 0.9609\n",
      "Epoch 96: val_accuracy did not improve from 0.96210\n",
      "40/40 [==============================] - 0s 3ms/step - loss: 0.1489 - accuracy: 0.9640 - val_loss: 0.1557 - val_accuracy: 0.9611\n",
      "Epoch 97/100\n",
      " 1/40 [..............................] - ETA: 0s - loss: 0.1459 - accuracy: 0.9609\n",
      "Epoch 97: val_accuracy did not improve from 0.96210\n",
      "40/40 [==============================] - 0s 3ms/step - loss: 0.1487 - accuracy: 0.9642 - val_loss: 0.1554 - val_accuracy: 0.9611\n",
      "Epoch 98/100\n",
      " 1/40 [..............................] - ETA: 0s - loss: 0.1068 - accuracy: 0.9785\n",
      "Epoch 98: val_accuracy did not improve from 0.96210\n",
      "40/40 [==============================] - 0s 3ms/step - loss: 0.1485 - accuracy: 0.9643 - val_loss: 0.1556 - val_accuracy: 0.9607\n",
      "Epoch 99/100\n",
      " 1/40 [..............................] - ETA: 0s - loss: 0.1836 - accuracy: 0.9473\n",
      "Epoch 99: val_accuracy did not improve from 0.96210\n",
      "40/40 [==============================] - 0s 3ms/step - loss: 0.1485 - accuracy: 0.9641 - val_loss: 0.1553 - val_accuracy: 0.9609\n",
      "Epoch 100/100\n",
      " 1/40 [..............................] - ETA: 0s - loss: 0.1501 - accuracy: 0.9629\n",
      "Epoch 100: val_accuracy did not improve from 0.96210\n",
      "40/40 [==============================] - 0s 3ms/step - loss: 0.1483 - accuracy: 0.9642 - val_loss: 0.1554 - val_accuracy: 0.9607\n"
     ]
    },
    {
     "data": {
      "text/plain": [
       "<keras.src.callbacks.History at 0x7f6bf078b580>"
      ]
     },
     "execution_count": 32,
     "metadata": {},
     "output_type": "execute_result"
    }
   ],
   "source": [
    "model.fit(x_train, y_train, epochs=100, batch_size=512, validation_split=0.2, \n",
    "          callbacks=callbacks_list\n",
    "          )"
   ]
  },
  {
   "cell_type": "code",
   "execution_count": 35,
   "id": "19775fd0",
   "metadata": {},
   "outputs": [
    {
     "name": "stdout",
     "output_type": "stream",
     "text": [
      "68/68 [==============================] - 0s 519us/step\n",
      "68/68 [==============================] - 0s 634us/step\n",
      "68/68 [==============================] - 0s 546us/step\n",
      "68/68 [==============================] - 0s 495us/step\n",
      "68/68 [==============================] - 0s 534us/step\n"
     ]
    },
    {
     "data": {
      "image/png": "[encoded data removed]",
      "text/plain": [
       "<Figure size 1000x800 with 1 Axes>"
      ]
     },
     "metadata": {},
     "output_type": "display_data"
    },
    {
     "name": "stdout",
     "output_type": "stream",
     "text": [
      "Test Accuracy: 96.27% ± 0.26%\n"
     ]
    }
   ],
   "source": [
    "model = load_model('/global/homes/n/nrvora/Projects/Quantum/multi_state/model2/42-0.1585-0.9621.h5', compile=False)\n",
    "num_folds = 5\n",
    "skf = StratifiedKFold(n_splits=num_folds)\n",
    "accuracies = []\n",
    "conf_matrices = []\n",
    "\n",
    "for train_index, test_index in skf.split(x_test, np.argmax(y_test, axis=1)):\n",
    "    x_train_fold, x_test_fold = x_test[train_index], x_test[test_index]\n",
    "    y_train_fold, y_test_fold = y_test[train_index], y_test[test_index]\n",
    "    \n",
    "    Y_pred_fold = model.predict(x_test_fold)\n",
    "    Y_test_labels_fold = np.argmax(y_test_fold, axis=1)\n",
    "    Y_pred_labels_fold = np.argmax(Y_pred_fold, axis=1)\n",
    "    \n",
    "    accuracy = accuracy_score(Y_test_labels_fold, Y_pred_labels_fold)\n",
    "    accuracies.append(accuracy)\n",
    "    \n",
    "    conf_matrix_fold = confusion_matrix(Y_test_labels_fold, Y_pred_labels_fold)\n",
    "    conf_matrices.append(conf_matrix_fold)\n",
    "\n",
    "mean_accuracy = np.mean(accuracies)\n",
    "std_accuracy = np.std(accuracies)\n",
    "\n",
    "# Calculate the mean and std deviation of confusion matrices\n",
    "mean_conf_matrix = np.mean(conf_matrices, axis=0)\n",
    "std_conf_matrix = np.std(conf_matrices, axis=0)\n",
    "\n",
    "# Normalize the mean confusion matrix to percentage\n",
    "conf_matrix_normalized = mean_conf_matrix.astype('float') / mean_conf_matrix.sum(axis=1)[:, np.newaxis] * 100\n",
    "\n",
    "# Plot the mean confusion matrix with error bars\n",
    "fig, ax = plt.subplots(figsize=(10, 8))\n",
    "disp = ConfusionMatrixDisplay(confusion_matrix=conf_matrix_normalized, display_labels=np.arange(3))\n",
    "disp.plot(cmap=plt.cm.Blues, ax=ax, colorbar=False)\n",
    "\n",
    "plt.title('Confusion Matrix (in Percentage)')\n",
    "plt.xlabel('Predicted Label')\n",
    "plt.ylabel('True Label')\n",
    "plt.xticks(np.arange(3), labels=np.arange(3))\n",
    "plt.yticks(np.arange(3), labels=np.arange(3))\n",
    "plt.show()\n",
    "\n",
    "# Print the mean accuracy with error bars\n",
    "print(f'Test Accuracy: {mean_accuracy * 100:.2f}% ± {std_accuracy * 100:.2f}%')"
   ]
  },
  {
   "cell_type": "code",
   "execution_count": null,
   "id": "4a446279",
   "metadata": {},
   "outputs": [],
   "source": []
  }
 ],
 "metadata": {
  "kernelspec": {
   "display_name": "Python 3",
   "language": "python",
   "name": "python3"
  },
  "language_info": {
   "codemirror_mode": {
    "name": "ipython",
    "version": 3
   },
   "file_extension": ".py",
   "mimetype": "text/x-python",
   "name": "python",
   "nbconvert_exporter": "python",
   "pygments_lexer": "ipython3",
   "version": "3.8.18"
  }
 },
 "nbformat": 4,
 "nbformat_minor": 5
}
